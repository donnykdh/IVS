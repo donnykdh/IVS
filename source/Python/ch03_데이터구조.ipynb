{
 "cells": [
  {
   "cell_type": "markdown",
   "id": "ade2bf76-a917-46bb-b23f-546c44de2888",
   "metadata": {},
   "source": [
    "리스트 [], 튜플 (), 딕셔너리{구조체와 유사}, 셋(집합)"
   ]
  },
  {
   "cell_type": "markdown",
   "id": "d42cde36-38c9-4b2d-ae2f-ba83e5de196c",
   "metadata": {},
   "source": [
    "# 1절 리스트\n",
    "## 1.1 리스트 만들기\n",
    "- [] 이용\n",
    "- 인덱스 : 0부터 시작. -1은 맨 마지막 인덱스\n",
    "- 슬라이싱 ([from : to : step])을 이용하여 추출\n"
   ]
  },
  {
   "cell_type": "code",
   "execution_count": 3,
   "id": "112d34c8-8977-489b-9bdd-11101ea14f6e",
   "metadata": {},
   "outputs": [
    {
     "data": {
      "text/plain": [
       "list"
      ]
     },
     "execution_count": 3,
     "metadata": {},
     "output_type": "execute_result"
    }
   ],
   "source": [
    "fruits = ['banana', 'apple', 'orange', 'grape', 0]\n",
    "type(fruits)"
   ]
  },
  {
   "cell_type": "code",
   "execution_count": 4,
   "id": "b3430df6-c29e-4c5c-93c2-f90adbd6b5ea",
   "metadata": {},
   "outputs": [
    {
     "name": "stdout",
     "output_type": "stream",
     "text": [
      "['banana', 'apple', 'orange', 'grape', 0]\n"
     ]
    }
   ],
   "source": [
    "print(fruits)"
   ]
  },
  {
   "cell_type": "code",
   "execution_count": 5,
   "id": "6318b905-e63c-4668-93af-d810063126e9",
   "metadata": {},
   "outputs": [
    {
     "name": "stdout",
     "output_type": "stream",
     "text": [
      "banana\n"
     ]
    }
   ],
   "source": [
    "print(fruits[0])"
   ]
  },
  {
   "cell_type": "code",
   "execution_count": 6,
   "id": "73fd054e-5b5d-42b2-b489-a6d42b3d7d86",
   "metadata": {},
   "outputs": [
    {
     "name": "stdout",
     "output_type": "stream",
     "text": [
      "['mango', 'apple', 'orange', 'grape', 0]\n"
     ]
    }
   ],
   "source": [
    "fruits[0] = 'mango'\n",
    "print(fruits)"
   ]
  },
  {
   "cell_type": "code",
   "execution_count": 7,
   "id": "51cdce2d-81c4-4b49-81fa-966cecc3a8ff",
   "metadata": {},
   "outputs": [
    {
     "name": "stdout",
     "output_type": "stream",
     "text": [
      "mango\n",
      "apple\n",
      "orange\n",
      "grape\n",
      "0\n"
     ]
    }
   ],
   "source": [
    "for fruit in fruits:\n",
    "    print(fruit)"
   ]
  },
  {
   "cell_type": "code",
   "execution_count": 11,
   "id": "e5af6614-8f03-46c6-a817-24c39aab5c77",
   "metadata": {},
   "outputs": [
    {
     "data": {
      "text/plain": [
       "range(0, 5)"
      ]
     },
     "execution_count": 11,
     "metadata": {},
     "output_type": "execute_result"
    }
   ],
   "source": [
    "range(5)"
   ]
  },
  {
   "cell_type": "code",
   "execution_count": 13,
   "id": "af38bc6f-14df-45a0-88e2-21e86ea3cedc",
   "metadata": {},
   "outputs": [
    {
     "data": {
      "text/plain": [
       "[0, 1, 2, 3, 4]"
      ]
     },
     "execution_count": 13,
     "metadata": {},
     "output_type": "execute_result"
    }
   ],
   "source": [
    "list(range(len(fruits))) # len(fruits) => list fruits 요소의 갯수"
   ]
  },
  {
   "cell_type": "code",
   "execution_count": 14,
   "id": "47a744c4-bf55-49d6-997d-0a64336ed15f",
   "metadata": {},
   "outputs": [
    {
     "name": "stdout",
     "output_type": "stream",
     "text": [
      "0번째 과일은 mango\n",
      "1번째 과일은 apple\n",
      "2번째 과일은 orange\n",
      "3번째 과일은 grape\n",
      "4번째 과일은 0\n"
     ]
    }
   ],
   "source": [
    "for i in range(len(fruits)):\n",
    "    print(\"{}번째 과일은 {}\".format(i, fruits[i]))"
   ]
  },
  {
   "cell_type": "code",
   "execution_count": 15,
   "id": "b7586644-2bf9-4210-8bee-97e4e9fc0c01",
   "metadata": {},
   "outputs": [
    {
     "name": "stdout",
     "output_type": "stream",
     "text": [
      "0번째 과일은 mango\n",
      "1번째 과일은 apple\n",
      "2번째 과일은 orange\n",
      "3번째 과일은 grape\n",
      "4번째 과일은 0\n"
     ]
    }
   ],
   "source": [
    "for idx, value in enumerate(fruits):\n",
    "    print(\"{}번째 과일은 {}\".format(idx, value))"
   ]
  },
  {
   "cell_type": "markdown",
   "id": "b0d80903-7d97-4638-9f9e-286077cd5c0e",
   "metadata": {},
   "source": [
    " ## 1.2 기본정보 조회"
   ]
  },
  {
   "cell_type": "code",
   "execution_count": 17,
   "id": "4f7ab72b-2426-42ee-84ab-cd3b1d4ef878",
   "metadata": {},
   "outputs": [
    {
     "name": "stdout",
     "output_type": "stream",
     "text": [
      "요소의 수 :  5\n",
      "최소값 :  1\n",
      "최대값 :  5\n"
     ]
    }
   ],
   "source": [
    "numbers = [1, 2, 3, 4, 5]\n",
    "print(\"요소의 수 : \", len(numbers))\n",
    "print(\"최소값 : \", min(numbers))\n",
    "print(\"최대값 : \", max(numbers))"
   ]
  },
  {
   "cell_type": "markdown",
   "id": "532f46fb-ea09-45dd-bd84-a26d60d0dc3e",
   "metadata": {},
   "source": [
    "## 1.3 요소 추가"
   ]
  },
  {
   "cell_type": "code",
   "execution_count": 18,
   "id": "c9d974c5-487b-4231-878d-7aa1bc7ea26c",
   "metadata": {},
   "outputs": [],
   "source": [
    "# + 두 리스트를 연결\n",
    "# 리스트 * n : 리스트를 n만큼 반복\n",
    "# append() : 요소 뒤에 추가\n",
    "# extend() : 리스트의 요소별로 뒤에 추가"
   ]
  },
  {
   "cell_type": "code",
   "execution_count": 19,
   "id": "a07e7444-b3da-4edb-ac1f-427efcf9d782",
   "metadata": {},
   "outputs": [
    {
     "data": {
      "text/plain": [
       "[1, 2, 3, 1, 2, 3]"
      ]
     },
     "execution_count": 19,
     "metadata": {},
     "output_type": "execute_result"
    }
   ],
   "source": [
    "numbers = [1, 2, 3]\n",
    "numbers = numbers + numbers\n",
    "numbers"
   ]
  },
  {
   "cell_type": "code",
   "execution_count": 22,
   "id": "00813cf9-ca47-4511-bea5-2ac5cda813d3",
   "metadata": {},
   "outputs": [
    {
     "name": "stdout",
     "output_type": "stream",
     "text": [
      "[1, 2, 3, 1, 2, 3, 1, 2, 3]\n"
     ]
    }
   ],
   "source": [
    "numbers = [1, 2, 3]\n",
    "print(numbers * 3)"
   ]
  },
  {
   "cell_type": "code",
   "execution_count": 23,
   "id": "977cba9c-412a-4bdc-a241-23f02391f1d0",
   "metadata": {},
   "outputs": [
    {
     "data": {
      "text/plain": [
       "[1, 2, 3, 4]"
      ]
     },
     "execution_count": 23,
     "metadata": {},
     "output_type": "execute_result"
    }
   ],
   "source": [
    "numbers.append(4)\n",
    "numbers"
   ]
  },
  {
   "cell_type": "code",
   "execution_count": 24,
   "id": "67f2fae7-d3f2-47f4-a214-ae637dae4cb3",
   "metadata": {},
   "outputs": [
    {
     "data": {
      "text/plain": [
       "[1, 2, 3, 4, [5, 6]]"
      ]
     },
     "execution_count": 24,
     "metadata": {},
     "output_type": "execute_result"
    }
   ],
   "source": [
    "numbers = [1, 2, 3, 4]\n",
    "num = [5, 6]\n",
    "#numbers를 [1, 2, 3, 4, 5, 6] vs [1, 2, 3, 4, [5, 6]]\n",
    "numbers.append(num)\n",
    "numbers"
   ]
  },
  {
   "cell_type": "code",
   "execution_count": 27,
   "id": "0da9b45a-1cce-4127-9fc1-88a1936794ad",
   "metadata": {},
   "outputs": [
    {
     "data": {
      "text/plain": [
       "[1, 2, 3, 4, 5, 6]"
      ]
     },
     "execution_count": 27,
     "metadata": {},
     "output_type": "execute_result"
    }
   ],
   "source": [
    "numbers = [1, 2, 3, 4]\n",
    "num = [5, 6]\n",
    "#numbers를 [1, 2, 3, 4, 5, 6] vs [1, 2, 3, 4, [5, 6]]\n",
    "numbers.extend(num)\n",
    "numbers"
   ]
  },
  {
   "cell_type": "code",
   "execution_count": 28,
   "id": "315d4fc5-7189-43e1-a2c7-51a6480e61ca",
   "metadata": {},
   "outputs": [
    {
     "data": {
      "text/plain": [
       "[1, 2, 3, 4, 'hello']"
      ]
     },
     "execution_count": 28,
     "metadata": {},
     "output_type": "execute_result"
    }
   ],
   "source": [
    "numbers = [1, 2, 3, 4]\n",
    "numbers.append(\"hello\")\n",
    "numbers"
   ]
  },
  {
   "cell_type": "code",
   "execution_count": 29,
   "id": "389cacba-00ba-4cfd-ad69-0f593b4f511b",
   "metadata": {},
   "outputs": [
    {
     "data": {
      "text/plain": [
       "[1, 2, 3, 4, 'h', 'e', 'l', 'l', 'o']"
      ]
     },
     "execution_count": 29,
     "metadata": {},
     "output_type": "execute_result"
    }
   ],
   "source": [
    "numbers = [1, 2, 3, 4]\n",
    "numbers.extend(\"hello\")\n",
    "numbers"
   ]
  },
  {
   "cell_type": "markdown",
   "id": "891649d9-5b97-4eee-a56b-11652e6c5b56",
   "metadata": {},
   "source": [
    "## 1.4 인덱싱\n",
    "- index(찾고자하는 값, 1) : 찾고자하는 값이 1번 인덱스부터 찾아 그 위치를 반환\n",
    "- count(찾고자하는 값) : 찾고자하는 값이 몇번 나오는지 counter"
   ]
  },
  {
   "cell_type": "code",
   "execution_count": 31,
   "id": "90652fde-2a81-4c4c-b88b-45bb4b62d56d",
   "metadata": {},
   "outputs": [
    {
     "name": "stdout",
     "output_type": "stream",
     "text": [
      "2가 몇개인지 : 2\n",
      "2가 몇개인지 : 0\n"
     ]
    }
   ],
   "source": [
    "numbers = [1, 2, 3, [1, 2, 3], 1, 2, 3]\n",
    "print(\"2가 몇개인지 : {}\".format(numbers.count(2)))\n",
    "print(\"4가 몇개인지 : {}\".format(numbers.count(4)))"
   ]
  },
  {
   "cell_type": "code",
   "execution_count": 34,
   "id": "a9d3975c-99a9-4fcc-b85f-dd0f297e72b4",
   "metadata": {},
   "outputs": [
    {
     "data": {
      "text/plain": [
       "True"
      ]
     },
     "execution_count": 34,
     "metadata": {},
     "output_type": "execute_result"
    }
   ],
   "source": [
    "2 in numbers # numbers 안에 2가 있는지 여부"
   ]
  },
  {
   "cell_type": "code",
   "execution_count": 35,
   "id": "9fd56ae7-91d6-4b3b-8b37-ce57a77d5644",
   "metadata": {},
   "outputs": [
    {
     "data": {
      "text/plain": [
       "5"
      ]
     },
     "execution_count": 35,
     "metadata": {},
     "output_type": "execute_result"
    }
   ],
   "source": [
    "numbers.index(2, 3) # 3번째 인덱스부터 2가 처음 나오는 인덱스를 반환"
   ]
  },
  {
   "cell_type": "markdown",
   "id": "7a002b04-1f64-4c09-a2c8-29774efc0ab1",
   "metadata": {},
   "source": [
    "## 1.5 리스트의 원하는 내용만 추출\n",
    "- 슬라이싱 [form:to:step]을 이용 ; 원하는 인덱스의 값 추출\n",
    "- 리스트 컴프리헨션을 이용 ; 원하는 데이터만 추출"
   ]
  },
  {
   "cell_type": "code",
   "execution_count": 36,
   "id": "e3f7f9db-d0ff-4370-a9e5-75dc7254dca6",
   "metadata": {},
   "outputs": [
    {
     "data": {
      "text/plain": [
       "[20, 19, 18, 13, 12, 10, 9, 5, 3, 1]"
      ]
     },
     "execution_count": 36,
     "metadata": {},
     "output_type": "execute_result"
    }
   ],
   "source": [
    "numbers = [1, 3, 5, 9, 10, 12, 13, 18, 19, 20]\n",
    "numbers[::-1]"
   ]
  },
  {
   "cell_type": "code",
   "execution_count": 37,
   "id": "19a53907-da9b-4078-b2ef-30142d2a09b6",
   "metadata": {},
   "outputs": [
    {
     "data": {
      "text/plain": [
       "[1, 5, 10, 13, 19]"
      ]
     },
     "execution_count": 37,
     "metadata": {},
     "output_type": "execute_result"
    }
   ],
   "source": [
    "numbers[::2]"
   ]
  },
  {
   "cell_type": "code",
   "execution_count": 38,
   "id": "5fbe7523-f374-46bd-bff2-a6f9c1586de9",
   "metadata": {},
   "outputs": [
    {
     "data": {
      "text/plain": [
       "[10, 12, 18, 20]"
      ]
     },
     "execution_count": 38,
     "metadata": {},
     "output_type": "execute_result"
    }
   ],
   "source": [
    "# 값이 짝수인 데이터만 추출\n",
    "result = []\n",
    "for num in numbers: # [1, 3, 5, 9, 10, 12, 13, 18, 19, 20]\n",
    "    if num % 2 == 0:\n",
    "        result.append(num)\n",
    "result"
   ]
  },
  {
   "cell_type": "code",
   "execution_count": 40,
   "id": "5941b158-eec8-43da-8677-c069b43b567f",
   "metadata": {},
   "outputs": [
    {
     "data": {
      "text/plain": [
       "[10, 12, 18, 20]"
      ]
     },
     "execution_count": 40,
     "metadata": {},
     "output_type": "execute_result"
    }
   ],
   "source": [
    "# 리스크 컴프리헨션\n",
    "result = [num for num in numbers if num % 2 == 0]\n",
    "result"
   ]
  },
  {
   "cell_type": "code",
   "execution_count": 43,
   "id": "d306c787-c187-4242-813c-16a54b1397c8",
   "metadata": {},
   "outputs": [
    {
     "data": {
      "text/plain": [
       "[1, 9, 25]"
      ]
     },
     "execution_count": 43,
     "metadata": {},
     "output_type": "execute_result"
    }
   ],
   "source": [
    "# numbers 리스트의 제곱값을 리스트로 생성하여라 (컴프리헨션 이용)\n",
    "numbers = [1, 3, 5]\n",
    "result = [num**2 for num in numbers]\n",
    "result"
   ]
  },
  {
   "cell_type": "code",
   "execution_count": 44,
   "id": "e9d191a4-f77a-4d15-94a7-090a73849f0a",
   "metadata": {},
   "outputs": [
    {
     "data": {
      "text/plain": [
       "['orange', 'apple', 'mango']"
      ]
     },
     "execution_count": 44,
     "metadata": {},
     "output_type": "execute_result"
    }
   ],
   "source": [
    "# 과일의 글자가 5글자 이상인 과일 추출하세요\n",
    "fruits = [\"orange\", \"apple\", \"mango\", \"kiwi\"]\n",
    "[fruit for fruit in fruits if len(fruit) >= 5]"
   ]
  },
  {
   "cell_type": "code",
   "execution_count": 45,
   "id": "ee96f388-6a48-4a6d-90f3-b2a30b3ae177",
   "metadata": {},
   "outputs": [
    {
     "data": {
      "text/plain": [
       "[6, 5, 5]"
      ]
     },
     "execution_count": 45,
     "metadata": {},
     "output_type": "execute_result"
    }
   ],
   "source": [
    "# 과일의 글자가 5글자 이상인 과일의 글자수를 출력하세요\n",
    "[len(fruit) for fruit in fruits if len(fruit) >= 5]"
   ]
  },
  {
   "cell_type": "markdown",
   "id": "0e64c7f0-323a-4394-bbd5-c4132ffd1d20",
   "metadata": {},
   "source": [
    "## 1.6 삭제하기\n",
    "- remove(data) : 해당 data가 제거\n",
    "- del 리스트변수[idx] : idx번째 요소 제거\n",
    "- pop() : 가장 마지작 인덱스 요소가 return 되고 삭제"
   ]
  },
  {
   "cell_type": "code",
   "execution_count": 46,
   "id": "50843546-7335-4b27-b9e7-36c13f7ca28c",
   "metadata": {},
   "outputs": [
    {
     "name": "stdout",
     "output_type": "stream",
     "text": [
      "4\n",
      "[1, 2, 3]\n"
     ]
    }
   ],
   "source": [
    "numbers = [1, 2, 3, 4]\n",
    "print(numbers.pop())\n",
    "print(numbers)"
   ]
  },
  {
   "cell_type": "code",
   "execution_count": 48,
   "id": "10f5e817-d946-4d03-855e-5442f49427ba",
   "metadata": {},
   "outputs": [
    {
     "name": "stdout",
     "output_type": "stream",
     "text": [
      "[2, 3]\n"
     ]
    }
   ],
   "source": [
    "numbers.remove(1)\n",
    "print(numbers)"
   ]
  },
  {
   "cell_type": "code",
   "execution_count": 49,
   "id": "144f72b6-03bd-4fcc-b7d8-b2cc8c905b5e",
   "metadata": {},
   "outputs": [
    {
     "ename": "ValueError",
     "evalue": "list.remove(x): x not in list",
     "output_type": "error",
     "traceback": [
      "\u001b[1;31m---------------------------------------------------------------------------\u001b[0m",
      "\u001b[1;31mValueError\u001b[0m                                Traceback (most recent call last)",
      "Cell \u001b[1;32mIn[49], line 1\u001b[0m\n\u001b[1;32m----> 1\u001b[0m numbers\u001b[38;5;241m.\u001b[39mremove(\u001b[38;5;241m9\u001b[39m)\n",
      "\u001b[1;31mValueError\u001b[0m: list.remove(x): x not in list"
     ]
    }
   ],
   "source": [
    "numbers.remove(9) # 없는 데이터 remove시 에러"
   ]
  },
  {
   "cell_type": "code",
   "execution_count": 50,
   "id": "02fe30bd-15a4-4f24-a2a6-d6d3e492c059",
   "metadata": {},
   "outputs": [
    {
     "name": "stdout",
     "output_type": "stream",
     "text": [
      "[3]\n"
     ]
    }
   ],
   "source": [
    "del numbers[0]\n",
    "print(numbers)"
   ]
  },
  {
   "cell_type": "code",
   "execution_count": 51,
   "id": "1449befc-f4fe-4cee-a383-c2aab67bcd4b",
   "metadata": {},
   "outputs": [],
   "source": [
    "del numbers"
   ]
  },
  {
   "cell_type": "code",
   "execution_count": 52,
   "id": "8b597168-875b-44f9-86b8-ff7682306353",
   "metadata": {},
   "outputs": [
    {
     "ename": "NameError",
     "evalue": "name 'numbers' is not defined",
     "output_type": "error",
     "traceback": [
      "\u001b[1;31m---------------------------------------------------------------------------\u001b[0m",
      "\u001b[1;31mNameError\u001b[0m                                 Traceback (most recent call last)",
      "Cell \u001b[1;32mIn[52], line 1\u001b[0m\n\u001b[1;32m----> 1\u001b[0m numbers\n",
      "\u001b[1;31mNameError\u001b[0m: name 'numbers' is not defined"
     ]
    }
   ],
   "source": [
    "numbers"
   ]
  },
  {
   "cell_type": "markdown",
   "id": "3b5af639-34a7-482f-a8fa-d40fa18332b5",
   "metadata": {},
   "source": [
    "## 1.7 정렬하기"
   ]
  },
  {
   "cell_type": "code",
   "execution_count": 55,
   "id": "d4dcff03-079c-43eb-a629-725d7505b86d",
   "metadata": {},
   "outputs": [
    {
     "data": {
      "text/plain": [
       "[1, 5, 5, 9, 10]"
      ]
     },
     "execution_count": 55,
     "metadata": {},
     "output_type": "execute_result"
    }
   ],
   "source": [
    "numbers = [9, 10, 1, 5, 5]\n",
    "numbers.sort()\n",
    "numbers"
   ]
  },
  {
   "cell_type": "code",
   "execution_count": 56,
   "id": "90004229-ca8d-46e8-835e-01d2889f830e",
   "metadata": {},
   "outputs": [
    {
     "data": {
      "text/plain": [
       "[10, 9, 5, 5, 1]"
      ]
     },
     "execution_count": 56,
     "metadata": {},
     "output_type": "execute_result"
    }
   ],
   "source": [
    "numbers = [9, 10, 1, 5, 5]\n",
    "numbers.sort(reverse=True) # 내림차순 정렬\n",
    "numbers"
   ]
  },
  {
   "cell_type": "markdown",
   "id": "1fded3f9-d123-4999-8f19-5999d6fc319c",
   "metadata": {},
   "source": [
    "## 1.8 리스트 복제"
   ]
  },
  {
   "cell_type": "code",
   "execution_count": 58,
   "id": "dcd385aa-adc7-4d51-87d8-185988a7e85c",
   "metadata": {},
   "outputs": [
    {
     "name": "stdout",
     "output_type": "stream",
     "text": [
      "정렬 전 데이터 :  [1, 2, 6]\n",
      "정렬 후 데이터 :  [1, 2, 6]\n"
     ]
    }
   ],
   "source": [
    "numbers = [6, 1, 2]\n",
    "new_numbers = numbers # 얕은 복사\n",
    "numbers.sort()\n",
    "print('정렬 전 데이터 : ', new_numbers)\n",
    "print('정렬 후 데이터 : ', numbers)"
   ]
  },
  {
   "cell_type": "code",
   "execution_count": 59,
   "id": "8e2a9bcf-fe6c-4345-8f62-08527bb7d1c1",
   "metadata": {},
   "outputs": [
    {
     "name": "stdout",
     "output_type": "stream",
     "text": [
      "정렬 전 데이터 :  [6, 1, 2]\n",
      "정렬 후 데이터 :  [1, 2, 6]\n"
     ]
    }
   ],
   "source": [
    "numbers = [6, 1, 2]\n",
    "new_numbers = numbers.copy() # 깊은 복사\n",
    "numbers.sort()\n",
    "print('정렬 전 데이터 : ', new_numbers)\n",
    "print('정렬 후 데이터 : ', numbers)"
   ]
  },
  {
   "cell_type": "markdown",
   "id": "161d0aa3-cd68-4ec0-937b-46b72d7c774c",
   "metadata": {},
   "source": [
    "# 2절 튜플\n",
    "- 리스트와 유사하지만 읽기전용\n",
    "- () 이용해서 생성"
   ]
  },
  {
   "cell_type": "code",
   "execution_count": 60,
   "id": "3e335139-fc9e-4a5a-8504-cbb74f9ba4e3",
   "metadata": {},
   "outputs": [
    {
     "name": "stdout",
     "output_type": "stream",
     "text": [
      "<class 'tuple'>\n",
      "('서울', '부산', '광주', '대전')\n"
     ]
    }
   ],
   "source": [
    "city = ('서울', '부산', '광주', '대전')\n",
    "print(type(city))\n",
    "print(city)"
   ]
  },
  {
   "cell_type": "code",
   "execution_count": 61,
   "id": "6cad3099-8fe8-4f53-9923-10c8df496349",
   "metadata": {},
   "outputs": [
    {
     "data": {
      "text/plain": [
       "'서울~부산~광주~대전'"
      ]
     },
     "execution_count": 61,
     "metadata": {},
     "output_type": "execute_result"
    }
   ],
   "source": [
    "'~'.join(city)"
   ]
  },
  {
   "cell_type": "code",
   "execution_count": 62,
   "id": "cc5ec8f0-d492-4efb-9fca-949e3d38234b",
   "metadata": {},
   "outputs": [
    {
     "data": {
      "text/plain": [
       "list"
      ]
     },
     "execution_count": 62,
     "metadata": {},
     "output_type": "execute_result"
    }
   ],
   "source": [
    "list_ = ['서울']\n",
    "type(list_)"
   ]
  },
  {
   "cell_type": "code",
   "execution_count": 65,
   "id": "ddde3db9-45b7-434b-b7ae-90182cdb67d9",
   "metadata": {},
   "outputs": [
    {
     "data": {
      "text/plain": [
       "tuple"
      ]
     },
     "execution_count": 65,
     "metadata": {},
     "output_type": "execute_result"
    }
   ],
   "source": [
    "t = ('서울', )\n",
    "type(t)"
   ]
  },
  {
   "cell_type": "markdown",
   "id": "f869452e-1ec2-4ee6-a9b6-40a07c39ea1a",
   "metadata": {},
   "source": [
    "# 3절 딕셔너리\n",
    "- 구조체와 유사\n",
    "- {}를 이용해서 생성. key - value쌍으로 구성\n",
    "- value(값)은 중복 가능하나 key는 중복 불가\n",
    "- index를 이용한 참조 불가"
   ]
  },
  {
   "cell_type": "code",
   "execution_count": 67,
   "id": "788031da-95d5-448f-8bf5-a46206af77ab",
   "metadata": {},
   "outputs": [
    {
     "name": "stdout",
     "output_type": "stream",
     "text": [
      "<class 'dict'>\n",
      "{'name': '홍길동', 'address': '서울시 금천구'}\n"
     ]
    }
   ],
   "source": [
    "dic = {'name' : '홍길동', 'address' : '서울시 금천구'}\n",
    "print(type(dic))\n",
    "print(dic)"
   ]
  },
  {
   "cell_type": "code",
   "execution_count": 69,
   "id": "8a7d655f-dfd6-4d94-b4fe-b78e93c5fbcf",
   "metadata": {},
   "outputs": [
    {
     "data": {
      "text/plain": [
       "('홍길동', '서울시 금천구')"
      ]
     },
     "execution_count": 69,
     "metadata": {},
     "output_type": "execute_result"
    }
   ],
   "source": [
    "dic['name'], dic['address']"
   ]
  },
  {
   "cell_type": "code",
   "execution_count": 70,
   "id": "c0ea7b23-ea46-4a97-8db1-f338841113a0",
   "metadata": {},
   "outputs": [
    {
     "ename": "KeyError",
     "evalue": "'score'",
     "output_type": "error",
     "traceback": [
      "\u001b[1;31m---------------------------------------------------------------------------\u001b[0m",
      "\u001b[1;31mKeyError\u001b[0m                                  Traceback (most recent call last)",
      "Cell \u001b[1;32mIn[70], line 1\u001b[0m\n\u001b[1;32m----> 1\u001b[0m dic[\u001b[38;5;124m'\u001b[39m\u001b[38;5;124mscore\u001b[39m\u001b[38;5;124m'\u001b[39m]\n",
      "\u001b[1;31mKeyError\u001b[0m: 'score'"
     ]
    }
   ],
   "source": [
    "dic['score']"
   ]
  },
  {
   "cell_type": "code",
   "execution_count": 71,
   "id": "ae2e51e2-d0ba-4407-94a0-a164f20b1784",
   "metadata": {},
   "outputs": [
    {
     "data": {
      "text/plain": [
       "('홍길동', '서울시 금천구', None)"
      ]
     },
     "execution_count": 71,
     "metadata": {},
     "output_type": "execute_result"
    }
   ],
   "source": [
    "dic.get('name'), dic.get('address'), dic.get('score')"
   ]
  },
  {
   "cell_type": "code",
   "execution_count": 74,
   "id": "e16f6cf1-87de-4cf5-a941-d0b4848707b9",
   "metadata": {},
   "outputs": [
    {
     "name": "stdout",
     "output_type": "stream",
     "text": [
      "{'name': '홍길동', 'address': '서울시 금천구', 'score': 100, 'sport': 'sleep'}\n"
     ]
    }
   ],
   "source": [
    "# 수정\n",
    "dic['score'] = 100\n",
    "dic['sport'] = 'sleep'\n",
    "print(dic)"
   ]
  },
  {
   "cell_type": "code",
   "execution_count": 75,
   "id": "e37286a2-af6f-4ea3-b72f-9e335886bfb1",
   "metadata": {},
   "outputs": [
    {
     "data": {
      "text/plain": [
       "'sleep'"
      ]
     },
     "execution_count": 75,
     "metadata": {},
     "output_type": "execute_result"
    }
   ],
   "source": [
    "dic.pop('sport')"
   ]
  },
  {
   "cell_type": "code",
   "execution_count": 76,
   "id": "a67fcd68-3c01-4f32-b48a-52ed5f66a24c",
   "metadata": {},
   "outputs": [
    {
     "data": {
      "text/plain": [
       "{'name': '홍길동', 'address': '서울시 금천구', 'score': 100}"
      ]
     },
     "execution_count": 76,
     "metadata": {},
     "output_type": "execute_result"
    }
   ],
   "source": [
    "dic"
   ]
  },
  {
   "cell_type": "code",
   "execution_count": 78,
   "id": "21d2cf55-9a97-4322-a202-a8f5bcc6b1d4",
   "metadata": {},
   "outputs": [
    {
     "name": "stdout",
     "output_type": "stream",
     "text": [
      "name\n",
      "address\n",
      "score\n"
     ]
    }
   ],
   "source": [
    "# 리스트(튜플, 셋) 방식으로 for문 사용하면 key만 출력\n",
    "for key in dic:\n",
    "    print(key)"
   ]
  },
  {
   "cell_type": "code",
   "execution_count": 79,
   "id": "db3eab52-bfc8-453f-a032-b6689e383cfe",
   "metadata": {},
   "outputs": [
    {
     "name": "stdout",
     "output_type": "stream",
     "text": [
      "0 name\n",
      "1 address\n",
      "2 score\n"
     ]
    }
   ],
   "source": [
    "for idx, value in enumerate(dic):\n",
    "    print(idx, value)"
   ]
  },
  {
   "cell_type": "code",
   "execution_count": 80,
   "id": "2b69f26f-21b0-4a9d-8dc6-12df70ad7e17",
   "metadata": {},
   "outputs": [
    {
     "data": {
      "text/plain": [
       "dict_keys(['name', 'address', 'score'])"
      ]
     },
     "execution_count": 80,
     "metadata": {},
     "output_type": "execute_result"
    }
   ],
   "source": [
    "dic.keys()"
   ]
  },
  {
   "cell_type": "code",
   "execution_count": 81,
   "id": "1d70fc5a-932d-4442-b239-a8053a03983e",
   "metadata": {},
   "outputs": [
    {
     "data": {
      "text/plain": [
       "dict_values(['홍길동', '서울시 금천구', 100])"
      ]
     },
     "execution_count": 81,
     "metadata": {},
     "output_type": "execute_result"
    }
   ],
   "source": [
    "dic.values()"
   ]
  },
  {
   "cell_type": "code",
   "execution_count": 82,
   "id": "ad41e846-009f-4dd9-aea9-9abd3a4c75ea",
   "metadata": {},
   "outputs": [
    {
     "data": {
      "text/plain": [
       "dict_items([('name', '홍길동'), ('address', '서울시 금천구'), ('score', 100)])"
      ]
     },
     "execution_count": 82,
     "metadata": {},
     "output_type": "execute_result"
    }
   ],
   "source": [
    "dic.items()"
   ]
  },
  {
   "cell_type": "code",
   "execution_count": 83,
   "id": "db03e9b2-f2d3-4400-aa6d-b70a128471c0",
   "metadata": {},
   "outputs": [
    {
     "name": "stdout",
     "output_type": "stream",
     "text": [
      "홍길동\n",
      "서울시 금천구\n",
      "100\n"
     ]
    }
   ],
   "source": [
    "for data in dic.values():\n",
    "    print(data)"
   ]
  },
  {
   "cell_type": "code",
   "execution_count": 84,
   "id": "25036220-0a98-41fe-8bdd-2ab0ec089f0f",
   "metadata": {},
   "outputs": [
    {
     "name": "stdout",
     "output_type": "stream",
     "text": [
      "name : 홍길동\n",
      "address : 서울시 금천구\n",
      "score : 100\n"
     ]
    }
   ],
   "source": [
    "for key, value in dic.items():\n",
    "    print(\"{} : {}\".format(key, value))"
   ]
  },
  {
   "cell_type": "code",
   "execution_count": 85,
   "id": "53c0bd5e-5cba-4764-84af-774581f14497",
   "metadata": {},
   "outputs": [
    {
     "data": {
      "text/plain": [
       "True"
      ]
     },
     "execution_count": 85,
     "metadata": {},
     "output_type": "execute_result"
    }
   ],
   "source": [
    "l = ['a', 'b', 'c']\n",
    "'c' in l"
   ]
  },
  {
   "cell_type": "code",
   "execution_count": 86,
   "id": "ccdf9699-4776-44e5-882c-5ca489bddc35",
   "metadata": {},
   "outputs": [
    {
     "data": {
      "text/plain": [
       "True"
      ]
     },
     "execution_count": 86,
     "metadata": {},
     "output_type": "execute_result"
    }
   ],
   "source": [
    "dic = {'name' : '홍길동', 'score' : 100}\n",
    "'name' in dic"
   ]
  },
  {
   "cell_type": "code",
   "execution_count": 87,
   "id": "285adee8-3463-4e54-8cb3-9cfd520318c6",
   "metadata": {},
   "outputs": [
    {
     "data": {
      "text/plain": [
       "False"
      ]
     },
     "execution_count": 87,
     "metadata": {},
     "output_type": "execute_result"
    }
   ],
   "source": [
    "'홍길동' in dic"
   ]
  },
  {
   "cell_type": "code",
   "execution_count": 88,
   "id": "133dd8f2-0052-4a83-bbb5-70fb1fbf2f37",
   "metadata": {},
   "outputs": [
    {
     "data": {
      "text/plain": [
       "2"
      ]
     },
     "execution_count": 88,
     "metadata": {},
     "output_type": "execute_result"
    }
   ],
   "source": [
    "len(dic) # 데이터 갯수"
   ]
  },
  {
   "cell_type": "markdown",
   "id": "13070dd3-f4bf-4719-912b-81c3571e134a",
   "metadata": {},
   "source": [
    "# 4절 셋\n",
    "- 중복을 허용하지 않는 집합 (순서x = 인덱스x)"
   ]
  },
  {
   "cell_type": "code",
   "execution_count": 96,
   "id": "1cfc2eba-26dd-44e3-9b2e-bdc9cad43860",
   "metadata": {},
   "outputs": [
    {
     "name": "stdout",
     "output_type": "stream",
     "text": [
      "{0, 'banana', 'apple', 'orange'}\n",
      "<class 'set'>\n"
     ]
    }
   ],
   "source": [
    "fruits = {'apple', 'orange', 'banana', 'banana', 0, 0}\n",
    "print(fruits)\n",
    "print(type(fruits))"
   ]
  },
  {
   "cell_type": "code",
   "execution_count": 97,
   "id": "e78da1b3-d6d0-448f-8ae9-18626b2fdf74",
   "metadata": {},
   "outputs": [
    {
     "name": "stdout",
     "output_type": "stream",
     "text": [
      "{0, 'kiwi', 'apple', 'orange', 'banana'}\n"
     ]
    }
   ],
   "source": [
    "fruits.add('kiwi')\n",
    "print(fruits)"
   ]
  },
  {
   "cell_type": "code",
   "execution_count": 98,
   "id": "bccd1c91-fe05-4bbc-b452-0bc4d7c37336",
   "metadata": {},
   "outputs": [
    {
     "name": "stdout",
     "output_type": "stream",
     "text": [
      "{0, 'kiwi', 'apple', 'orange', 'banana'}\n"
     ]
    }
   ],
   "source": [
    "fruits.add('banana')\n",
    "print(fruits)"
   ]
  },
  {
   "cell_type": "code",
   "execution_count": null,
   "id": "d6797a23-c357-43f2-b888-e13edb6375cf",
   "metadata": {},
   "outputs": [],
   "source": [
    "for i, value in enumerate(fruits):\n",
    "    print(\"{} : {}\".format"
   ]
  },
  {
   "cell_type": "markdown",
   "id": "93c48c88-16c7-4702-8db1-b951ad75560e",
   "metadata": {},
   "source": [
    "# 5절 연습문제"
   ]
  },
  {
   "cell_type": "markdown",
   "id": "7b1355fb-2a2d-4df4-83ff-82a5e6c7befc",
   "metadata": {},
   "source": [
    "- 다음 리스트가 주어졌을 경우 요구사항대로 코드를 작성하시오\n",
    "- numbers = [1, 2, 3, 4, 5, 6, 7, 8, 9, 10]"
   ]
  },
  {
   "cell_type": "code",
   "execution_count": 105,
   "id": "ba684633-5d4d-4efb-be92-388b1bfdfcbc",
   "metadata": {},
   "outputs": [
    {
     "data": {
      "text/plain": [
       "[1, 2, 3, 4, 5, 6, 7, 8, 9, 10, 100]"
      ]
     },
     "execution_count": 105,
     "metadata": {},
     "output_type": "execute_result"
    }
   ],
   "source": [
    "# 1. 숫자 100을 맨 뒤에 추가하세요\n",
    "numbers = [1, 2, 3, 4, 5, 6, 7, 8, 9, 10]\n",
    "numbers.append(100)\n",
    "numbers"
   ]
  },
  {
   "cell_type": "code",
   "execution_count": 106,
   "id": "3bfc6d70-a062-4395-87fe-cb3fa82c68b3",
   "metadata": {},
   "outputs": [
    {
     "name": "stdout",
     "output_type": "stream",
     "text": [
      "[1, 2, 3, 4, 5, 6, 7, 8, 9, 10, 100, 200, 300, 400, 500]\n"
     ]
    }
   ],
   "source": [
    "# 2. 다음 리스트를 numbers 리스트 맨 뒤에 추가하세요\n",
    "# data = [200, 300, 400, 500]\n",
    "data = [200, 300, 400, 500]\n",
    "numbers = numbers + data\n",
    "print(numbers)"
   ]
  },
  {
   "cell_type": "code",
   "execution_count": 109,
   "id": "0783e043-2ab3-4331-8eca-bb70815245d2",
   "metadata": {},
   "outputs": [
    {
     "name": "stdout",
     "output_type": "stream",
     "text": [
      "[1, 2, 3, 4, 5]\n"
     ]
    }
   ],
   "source": [
    "# 3. 처음 다섯 개 숫자만 출력하세요\n",
    "print(numbers[:5])"
   ]
  },
  {
   "cell_type": "code",
   "execution_count": 110,
   "id": "b78d89c3-4d54-4553-98cd-137f747ce158",
   "metadata": {},
   "outputs": [
    {
     "data": {
      "text/plain": [
       "[2, 4, 6, 8, 10, 100, 200, 300, 400, 500]"
      ]
     },
     "execution_count": 110,
     "metadata": {},
     "output_type": "execute_result"
    }
   ],
   "source": [
    "# 4. 리스트에서 짝수번째 데이터만 출력하세요\n",
    "result = [num for num in numbers if num % 2 == 0]\n",
    "result"
   ]
  },
  {
   "cell_type": "code",
   "execution_count": null,
   "id": "86f3402f-687c-4dc1-bc87-4c391d383c75",
   "metadata": {},
   "outputs": [],
   "source": []
  }
 ],
 "metadata": {
  "kernelspec": {
   "display_name": "Python 3 (ipykernel)",
   "language": "python",
   "name": "python3"
  },
  "language_info": {
   "codemirror_mode": {
    "name": "ipython",
    "version": 3
   },
   "file_extension": ".py",
   "mimetype": "text/x-python",
   "name": "python",
   "nbconvert_exporter": "python",
   "pygments_lexer": "ipython3",
   "version": "3.11.7"
  }
 },
 "nbformat": 4,
 "nbformat_minor": 5
}
