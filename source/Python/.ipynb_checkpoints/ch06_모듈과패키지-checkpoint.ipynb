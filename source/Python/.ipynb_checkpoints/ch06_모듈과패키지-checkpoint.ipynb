{
 "cells": [
  {
   "cell_type": "markdown",
   "id": "0e0ffbd3-465d-4584-8aa4-406dcfcd11ea",
   "metadata": {},
   "source": [
    "# 1절 모듈 사용하기\n",
    "- 모듈은 함수, 변수, 클래스가 담긴 파일(*.py)\n",
    "- 파이썬 표준 모듈 200여개\n",
    "- 표준 모듈 외의 모듈 사용하려면 라이브러리 설치 : <pre><code>pip install 라이브러리명</pre></code>"
   ]
  },
  {
   "cell_type": "markdown",
   "id": "69927bad-3aa4-4b24-9cb2-26ea481d2afc",
   "metadata": {},
   "source": [
    "# 2절 사용자 정의 모듈\n",
    "- 모듈을 가져오는 순서 (1)표준모델 (2)sys.path변수에 저장된 경로"
   ]
  },
  {
   "cell_type": "code",
   "execution_count": 2,
   "id": "571a0ac7-54a6-4a04-9df5-399dac145ad8",
   "metadata": {},
   "outputs": [
    {
     "data": {
      "text/plain": [
       "['C:\\\\C_Python\\\\source\\\\Python',\n",
       " 'C:\\\\Users\\\\USER\\\\anaconda3\\\\python311.zip',\n",
       " 'C:\\\\Users\\\\USER\\\\anaconda3\\\\DLLs',\n",
       " 'C:\\\\Users\\\\USER\\\\anaconda3\\\\Lib',\n",
       " 'C:\\\\Users\\\\USER\\\\anaconda3',\n",
       " '',\n",
       " 'C:\\\\Users\\\\USER\\\\anaconda3\\\\Lib\\\\site-packages',\n",
       " 'C:\\\\Users\\\\USER\\\\anaconda3\\\\Lib\\\\site-packages\\\\win32',\n",
       " 'C:\\\\Users\\\\USER\\\\anaconda3\\\\Lib\\\\site-packages\\\\win32\\\\lib',\n",
       " 'C:\\\\Users\\\\USER\\\\anaconda3\\\\Lib\\\\site-packages\\\\Pythonwin',\n",
       " 'C:\\\\C_Python\\\\source\\\\pylib']"
      ]
     },
     "execution_count": 2,
     "metadata": {},
     "output_type": "execute_result"
    }
   ],
   "source": [
    "import sys\n",
    "sys.path.append('C:\\\\C_Python\\\\source\\\\pylib')\n",
    "sys.path"
   ]
  },
  {
   "cell_type": "markdown",
   "id": "0a58f1f3-bc13-4f16-819b-532a7e409563",
   "metadata": {},
   "source": [
    "```\n",
    "1. import A : A모듈을 가져옴\n",
    "2. import A as B : A모듈을 B이름으로 가져옴\n",
    "3. from A import B : A모듈안의 B함수를 가져옴\n",
    "4. from A import B as C : A모듈안의 B함수를 C이름으로 가져옴\n",
    "5. from A.B import c : A패키지안의 B모듈의 C함수를 가져옴\n",
    "6. from A.Bimport C as D : A패키지안의 B모듈의 C함수를 D이름으로 가져옴\n",
    "```"
   ]
  },
  {
   "cell_type": "code",
   "execution_count": 3,
   "id": "b6b9265e-5f2a-4aef-bdd8-e78cce749685",
   "metadata": {},
   "outputs": [],
   "source": [
    "# 1. import A : A모듈을 가져옴\n",
    "import fibonacci"
   ]
  },
  {
   "cell_type": "code",
   "execution_count": 4,
   "id": "706ac18a-d223-4240-b245-8cfafae28afd",
   "metadata": {},
   "outputs": [
    {
     "name": "stdout",
     "output_type": "stream",
     "text": [
      "0. 1. 1. 2. 3. 5. 8. 13. 21. 34. 55. 89. \n"
     ]
    }
   ],
   "source": [
    "fibonacci.fibonacci(100)"
   ]
  },
  {
   "cell_type": "code",
   "execution_count": 5,
   "id": "310073a1-38d4-478d-8016-41c55c73d9cc",
   "metadata": {},
   "outputs": [],
   "source": [
    "del fibonacci"
   ]
  },
  {
   "cell_type": "code",
   "execution_count": 6,
   "id": "e79be2ee-8fa9-48f0-9939-23587547536b",
   "metadata": {},
   "outputs": [],
   "source": [
    "# 2. import A as B : A모듈을 B이름으로 가져옴\n",
    "import fibonacci as fibo"
   ]
  },
  {
   "cell_type": "code",
   "execution_count": 7,
   "id": "76e66c2d-38bb-4af0-9edd-f00f85278564",
   "metadata": {},
   "outputs": [
    {
     "name": "stdout",
     "output_type": "stream",
     "text": [
      "0. 1. 1. 2. 3. 5. 8. 13. 21. 34. \n"
     ]
    }
   ],
   "source": [
    "fibo.fibonacci(50)"
   ]
  },
  {
   "cell_type": "code",
   "execution_count": 8,
   "id": "e81ecb89-4dc4-4d1f-9227-3f15e68bad1b",
   "metadata": {},
   "outputs": [],
   "source": [
    "del fibo"
   ]
  },
  {
   "cell_type": "code",
   "execution_count": 9,
   "id": "572e5e30-67cb-46d9-8108-97a8d0ec9232",
   "metadata": {},
   "outputs": [],
   "source": [
    "# 3. from A import B : A모듈안의 B함수를 가져옴\n",
    "from fibonacci import fibonacci"
   ]
  },
  {
   "cell_type": "code",
   "execution_count": 10,
   "id": "e228308e-7d64-489b-8de0-30f0ce0b632c",
   "metadata": {},
   "outputs": [
    {
     "name": "stdout",
     "output_type": "stream",
     "text": [
      "0. 1. 1. 2. 3. 5. 8. 13. 21. 34. \n"
     ]
    }
   ],
   "source": [
    "fibonacci(50)"
   ]
  },
  {
   "cell_type": "code",
   "execution_count": 11,
   "id": "72c1ca2c-f8d0-4586-b7ca-a2858ad756fe",
   "metadata": {},
   "outputs": [],
   "source": [
    "del fibonacci"
   ]
  },
  {
   "cell_type": "code",
   "execution_count": 13,
   "id": "2bb73725-5e45-466b-9a14-35b7722dac0e",
   "metadata": {},
   "outputs": [],
   "source": [
    "# 4. 4. from A import B as C : A모듈안의 B함수를 C이름으로 가져옴\n",
    "from fibonacci import fibonacci as fibo"
   ]
  },
  {
   "cell_type": "code",
   "execution_count": 14,
   "id": "2f751274-8972-473a-b759-49cf0fb33d62",
   "metadata": {},
   "outputs": [
    {
     "name": "stdout",
     "output_type": "stream",
     "text": [
      "0. 1. 1. 2. 3. 5. 8. 13. \n"
     ]
    }
   ],
   "source": [
    "fibo(20)"
   ]
  },
  {
   "cell_type": "code",
   "execution_count": 17,
   "id": "2288fbda-a9af-4f56-946b-83d602dd7dd2",
   "metadata": {},
   "outputs": [],
   "source": [
    "del fibo"
   ]
  },
  {
   "cell_type": "code",
   "execution_count": 15,
   "id": "b97f35e4-2166-41b9-a65f-98e730eb901b",
   "metadata": {},
   "outputs": [],
   "source": [
    "import fibonacci"
   ]
  },
  {
   "cell_type": "code",
   "execution_count": 16,
   "id": "3a097973-5ed5-4549-a06a-1f5874fb818b",
   "metadata": {},
   "outputs": [
    {
     "data": {
      "text/plain": [
       "['__builtins__',\n",
       " '__cached__',\n",
       " '__doc__',\n",
       " '__file__',\n",
       " '__loader__',\n",
       " '__name__',\n",
       " '__package__',\n",
       " '__spec__',\n",
       " 'fibonacci']"
      ]
     },
     "execution_count": 16,
     "metadata": {},
     "output_type": "execute_result"
    }
   ],
   "source": [
    "dir(fibonacci)"
   ]
  },
  {
   "cell_type": "code",
   "execution_count": null,
   "id": "2ad1ae6e-b759-48b6-a490-40f16b66eb84",
   "metadata": {},
   "outputs": [],
   "source": []
  }
 ],
 "metadata": {
  "kernelspec": {
   "display_name": "Python 3 (ipykernel)",
   "language": "python",
   "name": "python3"
  },
  "language_info": {
   "codemirror_mode": {
    "name": "ipython",
    "version": 3
   },
   "file_extension": ".py",
   "mimetype": "text/x-python",
   "name": "python",
   "nbconvert_exporter": "python",
   "pygments_lexer": "ipython3",
   "version": "3.11.7"
  }
 },
 "nbformat": 4,
 "nbformat_minor": 5
}
