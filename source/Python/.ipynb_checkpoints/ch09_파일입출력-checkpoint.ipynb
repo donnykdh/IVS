{
 "cells": [
  {
   "cell_type": "markdown",
   "id": "0989adae-d200-4ec6-a580-459472954e9b",
   "metadata": {},
   "source": [
    "# 1절 파일에 데이터를 저장하고 불러오기"
   ]
  },
  {
   "cell_type": "code",
   "execution_count": 1,
   "id": "dafd13bc-d797-49f3-ac52-c58803192937",
   "metadata": {},
   "outputs": [
    {
     "name": "stdout",
     "output_type": "stream",
     "text": [
      "True\n"
     ]
    }
   ],
   "source": [
    "# w : 있는 파일은 기존의 파일에 덮어쓰고 없는 파일은 생성\n",
    "# a : 있는 파일은 추가 / 없는 파일은 생성\n",
    "# r : 읽기 전용\n",
    "f = open('data/ch09.txt', 'w') # 기본값 CP949\n",
    "print(f.writable())"
   ]
  },
  {
   "cell_type": "code",
   "execution_count": 2,
   "id": "3ce85971-7236-429a-a54b-85f8b726584c",
   "metadata": {
    "collapsed": true,
    "jupyter": {
     "outputs_hidden": true
    }
   },
   "outputs": [
    {
     "data": {
      "text/plain": [
       "31"
      ]
     },
     "execution_count": 2,
     "metadata": {},
     "output_type": "execute_result"
    }
   ],
   "source": [
    "f.write('Hello\\nWorld\\nHello\\nPython\\n반갑습니다\\n') # 한글은 CP949"
   ]
  },
  {
   "cell_type": "code",
   "execution_count": 3,
   "id": "fb6ebaaa-5dfd-43fa-954a-cb6cf3eb7ffd",
   "metadata": {},
   "outputs": [],
   "source": [
    "f.close()"
   ]
  },
  {
   "cell_type": "code",
   "execution_count": 4,
   "id": "8aa2499c-84bf-4e9a-9072-dc4c26789170",
   "metadata": {},
   "outputs": [
    {
     "name": "stdout",
     "output_type": "stream",
     "text": [
      "['Hello\\n', 'World\\n', 'Hello\\n', 'Python\\n', '반갑습니다\\n']\n"
     ]
    }
   ],
   "source": [
    "with open('data/ch09.txt', 'r') as f:\n",
    "    data = f.readlines()\n",
    "    print(data)"
   ]
  },
  {
   "cell_type": "code",
   "execution_count": 7,
   "id": "dfa73c74-1ecf-45c7-aa26-e102353e346b",
   "metadata": {},
   "outputs": [],
   "source": [
    "with open('data/ch09.txt', 'w') as f:\n",
    "    print('Python is easy\\n', file=f)"
   ]
  },
  {
   "cell_type": "code",
   "execution_count": 8,
   "id": "77595188-0086-44f1-865e-3f91d1714b90",
   "metadata": {},
   "outputs": [
    {
     "name": "stdout",
     "output_type": "stream",
     "text": [
      "홍길동,20,hong@hong.com,서울시 강동구\n",
      "박길서,33,park@hong.com,서울시 강동구\n",
      "박길남,23,gil@hong.com,서울시 강남구\n",
      "김길북,20,kim@hong.com,서울시 강북구\n",
      "신길서,40,park@hong.com,서울시 강서구\n",
      "신길동,28,park@hong.com,서울시 강서구"
     ]
    }
   ],
   "source": [
    "# UTF-8로 인코딩 된 CSV파일을 read\n",
    "with open('data/ch09_member1.csv', 'r', encoding=\"utf-8\") as f:\n",
    "    data = f.readlines()\n",
    "    for row in data:\n",
    "        print(row, end=\"\")"
   ]
  },
  {
   "cell_type": "code",
   "execution_count": 19,
   "id": "e91e5e6b-2b6f-4b8a-bcc2-8b599ebb3c74",
   "metadata": {},
   "outputs": [
    {
     "data": {
      "text/html": [
       "<div>\n",
       "<style scoped>\n",
       "    .dataframe tbody tr th:only-of-type {\n",
       "        vertical-align: middle;\n",
       "    }\n",
       "\n",
       "    .dataframe tbody tr th {\n",
       "        vertical-align: top;\n",
       "    }\n",
       "\n",
       "    .dataframe thead th {\n",
       "        text-align: right;\n",
       "    }\n",
       "</style>\n",
       "<table border=\"1\" class=\"dataframe\">\n",
       "  <thead>\n",
       "    <tr style=\"text-align: right;\">\n",
       "      <th></th>\n",
       "      <th>name</th>\n",
       "      <th>age</th>\n",
       "      <th>email</th>\n",
       "      <th>address</th>\n",
       "    </tr>\n",
       "  </thead>\n",
       "  <tbody>\n",
       "    <tr>\n",
       "      <th>0</th>\n",
       "      <td>홍길동</td>\n",
       "      <td>20</td>\n",
       "      <td>hong@hong.com</td>\n",
       "      <td>서울시 강동구</td>\n",
       "    </tr>\n",
       "    <tr>\n",
       "      <th>1</th>\n",
       "      <td>박길서</td>\n",
       "      <td>33</td>\n",
       "      <td>park@hong.com</td>\n",
       "      <td>서울시 강동구</td>\n",
       "    </tr>\n",
       "    <tr>\n",
       "      <th>2</th>\n",
       "      <td>박길남</td>\n",
       "      <td>23</td>\n",
       "      <td>gil@hong.com</td>\n",
       "      <td>서울시 강남구</td>\n",
       "    </tr>\n",
       "    <tr>\n",
       "      <th>3</th>\n",
       "      <td>김길북</td>\n",
       "      <td>20</td>\n",
       "      <td>kim@hong.com</td>\n",
       "      <td>서울시 강북구</td>\n",
       "    </tr>\n",
       "    <tr>\n",
       "      <th>4</th>\n",
       "      <td>신길서</td>\n",
       "      <td>40</td>\n",
       "      <td>park@hong.com</td>\n",
       "      <td>서울시 강서구</td>\n",
       "    </tr>\n",
       "    <tr>\n",
       "      <th>5</th>\n",
       "      <td>신길동</td>\n",
       "      <td>28</td>\n",
       "      <td>park@hong.com</td>\n",
       "      <td>서울시 강서구</td>\n",
       "    </tr>\n",
       "  </tbody>\n",
       "</table>\n",
       "</div>"
      ],
      "text/plain": [
       "  name  age          email  address\n",
       "0  홍길동   20  hong@hong.com  서울시 강동구\n",
       "1  박길서   33  park@hong.com  서울시 강동구\n",
       "2  박길남   23   gil@hong.com  서울시 강남구\n",
       "3  김길북   20   kim@hong.com  서울시 강북구\n",
       "4  신길서   40  park@hong.com  서울시 강서구\n",
       "5  신길동   28  park@hong.com  서울시 강서구"
      ]
     },
     "execution_count": 19,
     "metadata": {},
     "output_type": "execute_result"
    }
   ],
   "source": [
    "import pandas as pd\n",
    "member1 = pd.read_csv('data/ch09_member1.csv', header=None)\n",
    "member1.columns = ['name', 'age', 'email', 'address']\n",
    "member1"
   ]
  },
  {
   "cell_type": "code",
   "execution_count": 15,
   "id": "83bfa3c9-ae65-4ec1-a439-0fa1293df4c0",
   "metadata": {},
   "outputs": [
    {
     "data": {
      "text/plain": [
       "pandas.core.frame.DataFrame"
      ]
     },
     "execution_count": 15,
     "metadata": {},
     "output_type": "execute_result"
    }
   ],
   "source": [
    "type(member1)"
   ]
  },
  {
   "cell_type": "code",
   "execution_count": 16,
   "id": "b396fb23-a7c2-4e4f-9c02-38bb7a64304a",
   "metadata": {},
   "outputs": [
    {
     "data": {
      "text/html": [
       "<div>\n",
       "<style scoped>\n",
       "    .dataframe tbody tr th:only-of-type {\n",
       "        vertical-align: middle;\n",
       "    }\n",
       "\n",
       "    .dataframe tbody tr th {\n",
       "        vertical-align: top;\n",
       "    }\n",
       "\n",
       "    .dataframe thead th {\n",
       "        text-align: right;\n",
       "    }\n",
       "</style>\n",
       "<table border=\"1\" class=\"dataframe\">\n",
       "  <thead>\n",
       "    <tr style=\"text-align: right;\">\n",
       "      <th></th>\n",
       "      <th>name</th>\n",
       "      <th>age</th>\n",
       "      <th>email</th>\n",
       "      <th>address</th>\n",
       "    </tr>\n",
       "  </thead>\n",
       "  <tbody>\n",
       "    <tr>\n",
       "      <th>0</th>\n",
       "      <td>홍길동</td>\n",
       "      <td>20</td>\n",
       "      <td>hong@hong.com</td>\n",
       "      <td>서울시 강동구</td>\n",
       "    </tr>\n",
       "    <tr>\n",
       "      <th>1</th>\n",
       "      <td>박길서</td>\n",
       "      <td>33</td>\n",
       "      <td>park@hong.com</td>\n",
       "      <td>서울시 강동구</td>\n",
       "    </tr>\n",
       "    <tr>\n",
       "      <th>2</th>\n",
       "      <td>박길남</td>\n",
       "      <td>23</td>\n",
       "      <td>gil@hong.com</td>\n",
       "      <td>서울시 강남구</td>\n",
       "    </tr>\n",
       "  </tbody>\n",
       "</table>\n",
       "</div>"
      ],
      "text/plain": [
       "  name  age          email  address\n",
       "0  홍길동   20  hong@hong.com  서울시 강동구\n",
       "1  박길서   33  park@hong.com  서울시 강동구\n",
       "2  박길남   23   gil@hong.com  서울시 강남구"
      ]
     },
     "execution_count": 16,
     "metadata": {},
     "output_type": "execute_result"
    }
   ],
   "source": [
    "member2 = pd.read_csv('data/ch09_member2.csv', nrows=3)\n",
    "member2"
   ]
  },
  {
   "cell_type": "code",
   "execution_count": 20,
   "id": "76c3852d-415a-4ce8-be2b-956ab692d4c7",
   "metadata": {},
   "outputs": [
    {
     "data": {
      "text/html": [
       "<div>\n",
       "<style scoped>\n",
       "    .dataframe tbody tr th:only-of-type {\n",
       "        vertical-align: middle;\n",
       "    }\n",
       "\n",
       "    .dataframe tbody tr th {\n",
       "        vertical-align: top;\n",
       "    }\n",
       "\n",
       "    .dataframe thead th {\n",
       "        text-align: right;\n",
       "    }\n",
       "</style>\n",
       "<table border=\"1\" class=\"dataframe\">\n",
       "  <thead>\n",
       "    <tr style=\"text-align: right;\">\n",
       "      <th></th>\n",
       "      <th>name</th>\n",
       "      <th>age</th>\n",
       "      <th>email</th>\n",
       "      <th>address</th>\n",
       "    </tr>\n",
       "  </thead>\n",
       "  <tbody>\n",
       "    <tr>\n",
       "      <th>0</th>\n",
       "      <td>홍길동</td>\n",
       "      <td>20</td>\n",
       "      <td>hong@hong.com</td>\n",
       "      <td>서울시 강동구</td>\n",
       "    </tr>\n",
       "    <tr>\n",
       "      <th>1</th>\n",
       "      <td>박길서</td>\n",
       "      <td>33</td>\n",
       "      <td>park@hong.com</td>\n",
       "      <td>서울시 강동구</td>\n",
       "    </tr>\n",
       "    <tr>\n",
       "      <th>2</th>\n",
       "      <td>박길남</td>\n",
       "      <td>23</td>\n",
       "      <td>gil@hong.com</td>\n",
       "      <td>서울시 강남구</td>\n",
       "    </tr>\n",
       "    <tr>\n",
       "      <th>3</th>\n",
       "      <td>김길북</td>\n",
       "      <td>20</td>\n",
       "      <td>kim@hong.com</td>\n",
       "      <td>서울시 강북구</td>\n",
       "    </tr>\n",
       "    <tr>\n",
       "      <th>4</th>\n",
       "      <td>신길서</td>\n",
       "      <td>40</td>\n",
       "      <td>park@hong.com</td>\n",
       "      <td>서울시 강서구</td>\n",
       "    </tr>\n",
       "    <tr>\n",
       "      <th>5</th>\n",
       "      <td>신길동</td>\n",
       "      <td>28</td>\n",
       "      <td>park@hong.com</td>\n",
       "      <td>서울시 강서구</td>\n",
       "    </tr>\n",
       "    <tr>\n",
       "      <th>0</th>\n",
       "      <td>홍길동</td>\n",
       "      <td>20</td>\n",
       "      <td>hong@hong.com</td>\n",
       "      <td>서울시 강동구</td>\n",
       "    </tr>\n",
       "    <tr>\n",
       "      <th>1</th>\n",
       "      <td>박길서</td>\n",
       "      <td>33</td>\n",
       "      <td>park@hong.com</td>\n",
       "      <td>서울시 강동구</td>\n",
       "    </tr>\n",
       "    <tr>\n",
       "      <th>2</th>\n",
       "      <td>박길남</td>\n",
       "      <td>23</td>\n",
       "      <td>gil@hong.com</td>\n",
       "      <td>서울시 강남구</td>\n",
       "    </tr>\n",
       "  </tbody>\n",
       "</table>\n",
       "</div>"
      ],
      "text/plain": [
       "  name  age          email  address\n",
       "0  홍길동   20  hong@hong.com  서울시 강동구\n",
       "1  박길서   33  park@hong.com  서울시 강동구\n",
       "2  박길남   23   gil@hong.com  서울시 강남구\n",
       "3  김길북   20   kim@hong.com  서울시 강북구\n",
       "4  신길서   40  park@hong.com  서울시 강서구\n",
       "5  신길동   28  park@hong.com  서울시 강서구\n",
       "0  홍길동   20  hong@hong.com  서울시 강동구\n",
       "1  박길서   33  park@hong.com  서울시 강동구\n",
       "2  박길남   23   gil@hong.com  서울시 강남구"
      ]
     },
     "execution_count": 20,
     "metadata": {},
     "output_type": "execute_result"
    }
   ],
   "source": [
    "member = pd.concat([member1, member2])\n",
    "member"
   ]
  },
  {
   "cell_type": "code",
   "execution_count": 21,
   "id": "b35039e8-37b5-4706-bb1a-f3f6bc27a371",
   "metadata": {},
   "outputs": [],
   "source": [
    "member.to_csv('data/member.csv', index=False)"
   ]
  },
  {
   "cell_type": "code",
   "execution_count": null,
   "id": "d98635bf-4ceb-4644-a4b3-db2889e9dceb",
   "metadata": {},
   "outputs": [],
   "source": []
  }
 ],
 "metadata": {
  "kernelspec": {
   "display_name": "Python 3 (ipykernel)",
   "language": "python",
   "name": "python3"
  },
  "language_info": {
   "codemirror_mode": {
    "name": "ipython",
    "version": 3
   },
   "file_extension": ".py",
   "mimetype": "text/x-python",
   "name": "python",
   "nbconvert_exporter": "python",
   "pygments_lexer": "ipython3",
   "version": "3.11.7"
  }
 },
 "nbformat": 4,
 "nbformat_minor": 5
}
