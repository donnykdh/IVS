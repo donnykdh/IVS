{
 "cells": [
  {
   "cell_type": "markdown",
   "id": "ec2e5a00-d287-42c9-82bc-168ab25d93d9",
   "metadata": {},
   "source": [
    "# 1절 예외처리\n",
    "- 예외가 날 가능성이 있는 부분을 미리 예상하고 그에 대한 처리를 프로그래밍하는 것(안정적으로 실행될 수 있도록 하기 위함)"
   ]
  },
  {
   "cell_type": "code",
   "execution_count": 3,
   "id": "7bab636e-afe1-4486-bcac-71bca14ffb95",
   "metadata": {},
   "outputs": [
    {
     "name": "stdin",
     "output_type": "stream",
     "text": [
      "파일명? ch08.txt\n"
     ]
    },
    {
     "data": {
      "text/plain": [
       "['This is Test File\\n', 'Hello, Python\\n', '테스트 파일입니다']"
      ]
     },
     "execution_count": 3,
     "metadata": {},
     "output_type": "execute_result"
    }
   ],
   "source": [
    "# 있는 파일의 경우 예외 발생 안함\n",
    "filename = input('파일명?')\n",
    "f = open('data/' + filename, 'r', encoding=\"utf-8\") # encoding의 default값은 cp949\n",
    "f.readlines()"
   ]
  },
  {
   "cell_type": "code",
   "execution_count": 4,
   "id": "8459c37b-d888-4e7c-9794-dbcb567035e7",
   "metadata": {},
   "outputs": [],
   "source": [
    "f.close()"
   ]
  },
  {
   "cell_type": "code",
   "execution_count": 5,
   "id": "8f8a07d7-3a02-4f71-9d9a-8cade77ac830",
   "metadata": {},
   "outputs": [
    {
     "name": "stdin",
     "output_type": "stream",
     "text": [
      "파일명? z.txt\n"
     ]
    },
    {
     "ename": "FileNotFoundError",
     "evalue": "[Errno 2] No such file or directory: 'data/z.txt'",
     "output_type": "error",
     "traceback": [
      "\u001b[1;31m---------------------------------------------------------------------------\u001b[0m",
      "\u001b[1;31mFileNotFoundError\u001b[0m                         Traceback (most recent call last)",
      "Cell \u001b[1;32mIn[5], line 3\u001b[0m\n\u001b[0;32m      1\u001b[0m \u001b[38;5;66;03m# 없는 파일의 경우 예외 발생\u001b[39;00m\n\u001b[0;32m      2\u001b[0m filename \u001b[38;5;241m=\u001b[39m \u001b[38;5;28minput\u001b[39m(\u001b[38;5;124m'\u001b[39m\u001b[38;5;124m파일명?\u001b[39m\u001b[38;5;124m'\u001b[39m)\n\u001b[1;32m----> 3\u001b[0m f \u001b[38;5;241m=\u001b[39m \u001b[38;5;28mopen\u001b[39m(\u001b[38;5;124m'\u001b[39m\u001b[38;5;124mdata/\u001b[39m\u001b[38;5;124m'\u001b[39m \u001b[38;5;241m+\u001b[39m filename, \u001b[38;5;124m'\u001b[39m\u001b[38;5;124mr\u001b[39m\u001b[38;5;124m'\u001b[39m, encoding\u001b[38;5;241m=\u001b[39m\u001b[38;5;124m\"\u001b[39m\u001b[38;5;124mutf-8\u001b[39m\u001b[38;5;124m\"\u001b[39m) \u001b[38;5;66;03m# encoding의 default값은 cp949\u001b[39;00m\n\u001b[0;32m      4\u001b[0m f\u001b[38;5;241m.\u001b[39mreadlines()\n",
      "File \u001b[1;32m~\\anaconda3\\Lib\\site-packages\\IPython\\core\\interactiveshell.py:310\u001b[0m, in \u001b[0;36m_modified_open\u001b[1;34m(file, *args, **kwargs)\u001b[0m\n\u001b[0;32m    303\u001b[0m \u001b[38;5;28;01mif\u001b[39;00m file \u001b[38;5;129;01min\u001b[39;00m {\u001b[38;5;241m0\u001b[39m, \u001b[38;5;241m1\u001b[39m, \u001b[38;5;241m2\u001b[39m}:\n\u001b[0;32m    304\u001b[0m     \u001b[38;5;28;01mraise\u001b[39;00m \u001b[38;5;167;01mValueError\u001b[39;00m(\n\u001b[0;32m    305\u001b[0m         \u001b[38;5;124mf\u001b[39m\u001b[38;5;124m\"\u001b[39m\u001b[38;5;124mIPython won\u001b[39m\u001b[38;5;124m'\u001b[39m\u001b[38;5;124mt let you open fd=\u001b[39m\u001b[38;5;132;01m{\u001b[39;00mfile\u001b[38;5;132;01m}\u001b[39;00m\u001b[38;5;124m by default \u001b[39m\u001b[38;5;124m\"\u001b[39m\n\u001b[0;32m    306\u001b[0m         \u001b[38;5;124m\"\u001b[39m\u001b[38;5;124mas it is likely to crash IPython. If you know what you are doing, \u001b[39m\u001b[38;5;124m\"\u001b[39m\n\u001b[0;32m    307\u001b[0m         \u001b[38;5;124m\"\u001b[39m\u001b[38;5;124myou can use builtins\u001b[39m\u001b[38;5;124m'\u001b[39m\u001b[38;5;124m open.\u001b[39m\u001b[38;5;124m\"\u001b[39m\n\u001b[0;32m    308\u001b[0m     )\n\u001b[1;32m--> 310\u001b[0m \u001b[38;5;28;01mreturn\u001b[39;00m io_open(file, \u001b[38;5;241m*\u001b[39margs, \u001b[38;5;241m*\u001b[39m\u001b[38;5;241m*\u001b[39mkwargs)\n",
      "\u001b[1;31mFileNotFoundError\u001b[0m: [Errno 2] No such file or directory: 'data/z.txt'"
     ]
    }
   ],
   "source": [
    "# 없는 파일의 경우 예외 발생\n",
    "filename = input('파일명?')\n",
    "f = open('data/' + filename, 'r', encoding=\"utf-8\") # encoding의 default값은 cp949\n",
    "f.readlines()"
   ]
  },
  {
   "cell_type": "code",
   "execution_count": 6,
   "id": "8f8a0a70-ba84-45a9-9100-28bcf04e224a",
   "metadata": {},
   "outputs": [
    {
     "name": "stdin",
     "output_type": "stream",
     "text": [
      "나눌 숫자를 입력하세요 >>  10\n"
     ]
    },
    {
     "data": {
      "text/plain": [
       "10.0"
      ]
     },
     "execution_count": 6,
     "metadata": {},
     "output_type": "execute_result"
    }
   ],
   "source": [
    "# ValuError예외 객체 : 숫자가 아닌 문자를 입력했을 경우\n",
    "num = int(input('나눌 숫자를 입력하세요 >> '))\n",
    "100/num"
   ]
  },
  {
   "cell_type": "code",
   "execution_count": 7,
   "id": "b72138bf-9b2f-42f0-96cb-f8e22adb6433",
   "metadata": {},
   "outputs": [
    {
     "ename": "IndexError",
     "evalue": "list index out of range",
     "output_type": "error",
     "traceback": [
      "\u001b[1;31m---------------------------------------------------------------------------\u001b[0m",
      "\u001b[1;31mIndexError\u001b[0m                                Traceback (most recent call last)",
      "Cell \u001b[1;32mIn[7], line 3\u001b[0m\n\u001b[0;32m      1\u001b[0m \u001b[38;5;66;03m# 인덱스를 벗어났을 경우\u001b[39;00m\n\u001b[0;32m      2\u001b[0m a \u001b[38;5;241m=\u001b[39m [\u001b[38;5;241m1\u001b[39m, \u001b[38;5;241m2\u001b[39m, \u001b[38;5;241m3\u001b[39m]\n\u001b[1;32m----> 3\u001b[0m a[\u001b[38;5;241m3\u001b[39m]\n",
      "\u001b[1;31mIndexError\u001b[0m: list index out of range"
     ]
    }
   ],
   "source": [
    "# 인덱스를 벗어났을 경우\n",
    "a = [1, 2, 3]\n",
    "a[3]"
   ]
  },
  {
   "cell_type": "markdown",
   "id": "adafa7f1-86af-4778-abc1-23c4998419ba",
   "metadata": {},
   "source": [
    "# 2절 try ~ except로 예외 처리\n",
    "```\n",
    "try:\n",
    "    예외가 발생할 가능성이 있는 명령어1\n",
    "    명령어.....\n",
    "except [예외 타입 [as예외객체변수명]]:\n",
    "    예외가 발생했을 경우\n",
    "[else:\n",
    "    예외가 발생되지 않을 경우 실행 명령어]\n",
    "[finallt:\n",
    "    예외가 발생되든 안되든 반드시 실행할 명령어]\n",
    "```"
   ]
  },
  {
   "cell_type": "code",
   "execution_count": 9,
   "id": "d6b85102-3882-45f8-8414-99181e7771e0",
   "metadata": {},
   "outputs": [
    {
     "name": "stdin",
     "output_type": "stream",
     "text": [
      "100을 나눌 정수를 입력하세요 >>   \n"
     ]
    },
    {
     "ename": "ValueError",
     "evalue": "invalid literal for int() with base 10: ' '",
     "output_type": "error",
     "traceback": [
      "\u001b[1;31m---------------------------------------------------------------------------\u001b[0m",
      "\u001b[1;31mValueError\u001b[0m                                Traceback (most recent call last)",
      "Cell \u001b[1;32mIn[9], line 2\u001b[0m\n\u001b[0;32m      1\u001b[0m \u001b[38;5;66;03m# 100을 입력받은 정수값으로 나눠 출력한다\u001b[39;00m\n\u001b[1;32m----> 2\u001b[0m x \u001b[38;5;241m=\u001b[39m \u001b[38;5;28mint\u001b[39m(\u001b[38;5;28minput\u001b[39m(\u001b[38;5;124m'\u001b[39m\u001b[38;5;124m100을 나눌 정수를 입력하세요 >> \u001b[39m\u001b[38;5;124m'\u001b[39m))\n\u001b[0;32m      3\u001b[0m \u001b[38;5;28mprint\u001b[39m(\u001b[38;5;124m\"\u001b[39m\u001b[38;5;124m입력한 수는 \u001b[39m\u001b[38;5;132;01m{}\u001b[39;00m\u001b[38;5;124m\"\u001b[39m\u001b[38;5;241m.\u001b[39mformat(x))\n\u001b[0;32m      4\u001b[0m \u001b[38;5;28mprint\u001b[39m(\u001b[38;5;124m\"\u001b[39m\u001b[38;5;124m100을 입력한 정구로 나누면 \u001b[39m\u001b[38;5;132;01m{:.2f}\u001b[39;00m\u001b[38;5;124m입니다\u001b[39m\u001b[38;5;124m\"\u001b[39m\u001b[38;5;241m.\u001b[39mformat(\u001b[38;5;241m100\u001b[39m \u001b[38;5;241m/\u001b[39m x))\n",
      "\u001b[1;31mValueError\u001b[0m: invalid literal for int() with base 10: ' '"
     ]
    }
   ],
   "source": [
    "# 100을 입력받은 정수값으로 나눠 출력한다\n",
    "# ValueError\n",
    "# ZeroDivionError\n",
    "x = int(input('100을 나눌 정수를 입력하세요 >> '))\n",
    "print(\"입력한 수는 {}\".format(x))\n",
    "print(\"100을 입력한 정구로 나누면 {:.2f}입니다\".format(100 / x))"
   ]
  },
  {
   "cell_type": "code",
   "execution_count": 10,
   "id": "4443eb25-4203-4568-bf47-149838c671a0",
   "metadata": {},
   "outputs": [
    {
     "name": "stdin",
     "output_type": "stream",
     "text": [
      "100을 나눌 정수를 입력하세요 >>   \n"
     ]
    },
    {
     "name": "stdout",
     "output_type": "stream",
     "text": [
      "유효한 정수가 아닙니다\n"
     ]
    }
   ],
   "source": [
    "# 100을 입력받은 정수값으로 나눠 출력한다\n",
    "# ValueError\n",
    "# ZeroDivionError\n",
    "try:\n",
    "    x = int(input('100을 나눌 정수를 입력하세요 >> '))\n",
    "    print(\"입력한 수는 {}\".format(x))\n",
    "    print(\"100을 입력한 정수로 나누면 {:.2f}입니다\".format(100 / x))\n",
    "except:\n",
    "    print('유효한 정수가 아닙니다') "
   ]
  },
  {
   "cell_type": "code",
   "execution_count": 15,
   "id": "04a0f070-a086-4ad0-bd42-da2d756484fa",
   "metadata": {},
   "outputs": [
    {
     "name": "stdin",
     "output_type": "stream",
     "text": [
      "100을 나눌 정수를 입력하세요 >>  a\n"
     ]
    },
    {
     "name": "stdout",
     "output_type": "stream",
     "text": [
      "유효한 숫자를 입력하세요\n"
     ]
    }
   ],
   "source": [
    "# 100을 입력받은 정수값으로 나눠 출력한다\n",
    "# ValueError\n",
    "# ZeroDivionError\n",
    "try:\n",
    "    x = int(input('100을 나눌 정수를 입력하세요 >> '))\n",
    "    print(\"입력한 수는 {}\".format(x))\n",
    "    print(\"100을 입력한 정수로 나누면 {:.2f}입니다\".format(100 / x))\n",
    "except ValueError:\n",
    "    print('유효한 숫자를 입력하세요')\n",
    "except ZeroDivisionError:\n",
    "    print('0으로 나눌 수 없습니다')\n",
    "except Exception: # except절이 많을 경우 상위 클래스를 아래에 명시\n",
    "    print('알 수 없는 혹시 모를 예외입니다')"
   ]
  },
  {
   "cell_type": "code",
   "execution_count": 16,
   "id": "0fafd5bd-df46-4631-a0e6-0987f203a900",
   "metadata": {},
   "outputs": [
    {
     "name": "stdin",
     "output_type": "stream",
     "text": [
      "100을 나눌 정수를 입력하세요 >>  0\n"
     ]
    },
    {
     "name": "stdout",
     "output_type": "stream",
     "text": [
      "입력한 수는 0\n",
      "0으로 나눌 수 없습니다\n"
     ]
    },
    {
     "name": "stdin",
     "output_type": "stream",
     "text": [
      "100을 나눌 정수를 입력하세요 >>  a\n"
     ]
    },
    {
     "name": "stdout",
     "output_type": "stream",
     "text": [
      "유효한 숫자를 입력하세요\n"
     ]
    },
    {
     "name": "stdin",
     "output_type": "stream",
     "text": [
      "100을 나눌 정수를 입력하세요 >>  101\n"
     ]
    },
    {
     "name": "stdout",
     "output_type": "stream",
     "text": [
      "입력한 수는 101\n",
      "100을 입력한 정구로 나누면 0.99입니다\n"
     ]
    }
   ],
   "source": [
    "# 100을 입력받은 정수값으로 나눠 출력한다. 유효한 숫자를 입력할 때까지 수를 입력받음\n",
    "# ValueError\n",
    "# ZeroDivionError\n",
    "while True:\n",
    "    try:\n",
    "        x = int(input('100을 나눌 정수를 입력하세요 >> '))\n",
    "        print(\"입력한 수는 {}\".format(x))\n",
    "        print(\"100을 입력한 정수로 나누면 {:.2f}입니다\".format(100 / x))\n",
    "        break\n",
    "    except ValueError:\n",
    "        print('유효한 숫자를 입력하세요')\n",
    "    except ZeroDivisionError:\n",
    "        print('0으로 나눌 수 없습니다')\n",
    "    except Exception: # except절이 많을 경우 상위 클래스를 아래에 명시\n",
    "        print('알 수 없는 혹시 모를 예외입니다')"
   ]
  },
  {
   "cell_type": "code",
   "execution_count": 17,
   "id": "92f4b073-ece1-445a-b439-79a793c44da0",
   "metadata": {},
   "outputs": [
    {
     "name": "stdin",
     "output_type": "stream",
     "text": [
      "100을 나눌 정수를 입력하세요 >>  0\n"
     ]
    },
    {
     "name": "stdout",
     "output_type": "stream",
     "text": [
      "입력한 수는 0\n",
      "division by zero\n",
      "예외 객체의 타입: <class 'ZeroDivisionError'>\n",
      "예외 메세지 e.args : ('division by zero',)\n"
     ]
    },
    {
     "name": "stdin",
     "output_type": "stream",
     "text": [
      "100을 나눌 정수를 입력하세요 >>   \n"
     ]
    },
    {
     "name": "stdout",
     "output_type": "stream",
     "text": [
      "invalid literal for int() with base 10: ' '\n",
      "예외 객체의 타입: <class 'ValueError'>\n",
      "예외 메세지 e.args : (\"invalid literal for int() with base 10: ' '\",)\n"
     ]
    },
    {
     "name": "stdin",
     "output_type": "stream",
     "text": [
      "100을 나눌 정수를 입력하세요 >>  100\n"
     ]
    },
    {
     "name": "stdout",
     "output_type": "stream",
     "text": [
      "입력한 수는 100\n",
      "100을 입력한 정수로 나누면 1.00입니다\n"
     ]
    }
   ],
   "source": [
    "# 100을 입력받은 정수값으로 나눠 출력한다. 유효한 숫자를 입력할 때까지 수를 입력받음\n",
    "# ValueError\n",
    "# ZeroDivionError\n",
    "while True:\n",
    "    try:\n",
    "        x = int(input('100을 나눌 정수를 입력하세요 >> '))\n",
    "        print(\"입력한 수는 {}\".format(x))\n",
    "        print(\"100을 입력한 정수로 나누면 {:.2f}입니다\".format(100 / x))\n",
    "        break\n",
    "    except (ValueError, ZeroDivisionError) as e:\n",
    "        print(e) # print(e.__str__())\n",
    "        print('예외 객체의 타입:', type(e))\n",
    "        print('예외 메세지 e.args :', e.args)"
   ]
  },
  {
   "cell_type": "code",
   "execution_count": 20,
   "id": "ec1c4dd2-004b-4cb0-9661-d3e9a65271f3",
   "metadata": {},
   "outputs": [
    {
     "name": "stdout",
     "output_type": "stream",
     "text": [
      "This is Test File\n",
      "Hello, Python\n",
      "테스트 파일입니다\n"
     ]
    }
   ],
   "source": [
    "try:\n",
    "    f = open('data/ch08.txt', 'r', encoding=\"utf-8\")\n",
    "    data = f.read() # 파일을 끝까지 텍스트 형태로 읽어서 반환\n",
    "    print(data)\n",
    "except FileNotFoundError as e:\n",
    "    print(e)\n",
    "finally:\n",
    "    f.close() "
   ]
  },
  {
   "cell_type": "code",
   "execution_count": 21,
   "id": "cb472108-51c9-4666-8fe9-e08844fd46ee",
   "metadata": {},
   "outputs": [
    {
     "name": "stdout",
     "output_type": "stream",
     "text": [
      "This is Test File\n",
      "Hello, Python\n",
      "테스트 파일입니다\n",
      "This is Test File\n",
      "Hello, Python\n",
      "테스트 파일입니다\n"
     ]
    }
   ],
   "source": [
    "try:\n",
    "    f = open('data/ch08.txt', 'r', encoding=\"utf-8\")\n",
    "    data = f.read() # 파일을 끝까지 텍스트 형태로 읽어서 반환\n",
    "    print(data)\n",
    "except FileNotFoundError as e:\n",
    "    print(e)\n",
    "else:\n",
    "    print(data)\n",
    "finally:\n",
    "    f.close() "
   ]
  },
  {
   "cell_type": "markdown",
   "id": "32425cff-3169-4e52-80df-942e93006515",
   "metadata": {},
   "source": [
    "# 3. 강제로 예외발생(raise) "
   ]
  },
  {
   "cell_type": "code",
   "execution_count": 22,
   "id": "1b397b4a-7d52-40f6-b2bd-5da45152501f",
   "metadata": {},
   "outputs": [
    {
     "ename": "Exception",
     "evalue": "예외가 발생했습니다",
     "output_type": "error",
     "traceback": [
      "\u001b[1;31m---------------------------------------------------------------------------\u001b[0m",
      "\u001b[1;31mException\u001b[0m                                 Traceback (most recent call last)",
      "Cell \u001b[1;32mIn[22], line 1\u001b[0m\n\u001b[1;32m----> 1\u001b[0m \u001b[38;5;28;01mraise\u001b[39;00m \u001b[38;5;167;01mException\u001b[39;00m(\u001b[38;5;124m\"\u001b[39m\u001b[38;5;124m예외가 발생했습니다\u001b[39m\u001b[38;5;124m\"\u001b[39m)\n",
      "\u001b[1;31mException\u001b[0m: 예외가 발생했습니다"
     ]
    }
   ],
   "source": [
    "raise Exception(\"예외가 발생했습니다\")"
   ]
  },
  {
   "cell_type": "code",
   "execution_count": 27,
   "id": "eab9ebb7-4517-4caf-9698-2bde30c9bfdb",
   "metadata": {},
   "outputs": [],
   "source": [
    "# 사용자 정의 예외 타입 : 기존 파이썬에서 제공되는 Exception 상속\n",
    "class LengthZeroError(Exception):\n",
    "    \"길이가 0일때 발생하는 예외\"\n",
    "    def __init__(self):\n",
    "        super().__init__(\"매개변수 길이가 0이면 예외\")"
   ]
  },
  {
   "cell_type": "code",
   "execution_count": 28,
   "id": "6995621b-ff7d-4d95-aa55-11a733b8eee8",
   "metadata": {},
   "outputs": [
    {
     "ename": "LengthZeroError",
     "evalue": "매개변수 길이가 0이면 예외",
     "output_type": "error",
     "traceback": [
      "\u001b[1;31m---------------------------------------------------------------------------\u001b[0m",
      "\u001b[1;31mLengthZeroError\u001b[0m                           Traceback (most recent call last)",
      "Cell \u001b[1;32mIn[28], line 1\u001b[0m\n\u001b[1;32m----> 1\u001b[0m \u001b[38;5;28;01mraise\u001b[39;00m LengthZeroError()\n",
      "\u001b[1;31mLengthZeroError\u001b[0m: 매개변수 길이가 0이면 예외"
     ]
    }
   ],
   "source": [
    "raise LengthZeroError()"
   ]
  },
  {
   "cell_type": "code",
   "execution_count": 30,
   "id": "8f4a9bee-b213-4889-829a-4b833f5f4107",
   "metadata": {},
   "outputs": [],
   "source": [
    "def insert(*data): # 튜플 매개변수\n",
    "    if len(data) == 0:\n",
    "        raise LengthZeroError()\n",
    "    for item in data:\n",
    "        print(item, end=\" \")\n",
    "    print(\"등을 입력하셨습니다\")"
   ]
  },
  {
   "cell_type": "code",
   "execution_count": 33,
   "id": "a4303767-fc30-4e8f-9071-eccc4ecd8fd1",
   "metadata": {},
   "outputs": [
    {
     "name": "stdout",
     "output_type": "stream",
     "text": [
      "2 3 등을 입력하셨습니다\n"
     ]
    }
   ],
   "source": [
    "insert(2, 3)"
   ]
  },
  {
   "cell_type": "code",
   "execution_count": 34,
   "id": "4a0fbe44-caff-4d27-a1ec-3979e27792d5",
   "metadata": {},
   "outputs": [
    {
     "name": "stdout",
     "output_type": "stream",
     "text": [
      "1 2 3 등을 입력하셨습니다\n"
     ]
    }
   ],
   "source": [
    "l = (1, 2, 3)\n",
    "insert(*l)"
   ]
  },
  {
   "cell_type": "markdown",
   "id": "4a57bdd3-d7b9-40fb-9d72-7d47ea0e25db",
   "metadata": {},
   "source": [
    "# 4절 파일 정리 작업 (with절 이용)"
   ]
  },
  {
   "cell_type": "code",
   "execution_count": 35,
   "id": "3a297f8c-e428-4f01-b9f8-62035db881b3",
   "metadata": {},
   "outputs": [
    {
     "name": "stdout",
     "output_type": "stream",
     "text": [
      "['This is Test File\\n', 'Hello, Python\\n', '테스트 파일입니다']\n"
     ]
    }
   ],
   "source": [
    "# 파일 입출력시 자원 반납 필수 (close)\n",
    "try:\n",
    "    f = open('data/ch08.txt', 'r', encoding=\"utf-8\")\n",
    "    lines = f.readlines() # 한줄한줄 모든 줄을 list형태로 반환\n",
    "    print(lines)\n",
    "except Exception:\n",
    "    print('없는 파일이거나 encoding 확인 요망', e)\n",
    "finally:\n",
    "    f.close()"
   ]
  },
  {
   "cell_type": "code",
   "execution_count": 36,
   "id": "12aa42cf-2a7c-4d30-a546-ce9e9bc6ba3c",
   "metadata": {},
   "outputs": [
    {
     "name": "stdout",
     "output_type": "stream",
     "text": [
      "['This is Test File\\n', 'Hello, Python\\n', '테스트 파일입니다']\n"
     ]
    }
   ],
   "source": [
    "# with절 이용시 자동 close() 실행\n",
    "with open('data/ch08.txt', 'r', encoding=\"UTF-8\") as f:\n",
    "    lines = f.readlines()\n",
    "print(lines)"
   ]
  },
  {
   "cell_type": "markdown",
   "id": "9cde3c34-82fe-415e-acf7-f3bb7ed1e413",
   "metadata": {},
   "source": [
    "# 연습문제"
   ]
  },
  {
   "cell_type": "code",
   "execution_count": null,
   "id": "7ba8b179-2fdd-4f7f-b9ef-3ae477372a24",
   "metadata": {},
   "outputs": [],
   "source": []
  }
 ],
 "metadata": {
  "kernelspec": {
   "display_name": "Python 3 (ipykernel)",
   "language": "python",
   "name": "python3"
  },
  "language_info": {
   "codemirror_mode": {
    "name": "ipython",
    "version": 3
   },
   "file_extension": ".py",
   "mimetype": "text/x-python",
   "name": "python",
   "nbconvert_exporter": "python",
   "pygments_lexer": "ipython3",
   "version": "3.11.7"
  }
 },
 "nbformat": 4,
 "nbformat_minor": 5
}
