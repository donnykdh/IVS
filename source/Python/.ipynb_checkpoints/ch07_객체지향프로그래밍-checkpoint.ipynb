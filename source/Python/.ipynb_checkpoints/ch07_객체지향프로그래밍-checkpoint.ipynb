{
 "cells": [
  {
   "cell_type": "markdown",
   "id": "a6a3481b-382a-4515-97a0-098c64fe8e5e",
   "metadata": {},
   "source": [
    "# 1절 객체와 클래스\n",
    "```\n",
    "class 클래스명(상속받을 클래스명):\n",
    "    변수나 함수들을 선언\n",
    "\n",
    "```"
   ]
  },
  {
   "cell_type": "code",
   "execution_count": 1,
   "id": "2dd635e2-c3d9-4c34-a004-b5ad887b0a8c",
   "metadata": {},
   "outputs": [],
   "source": [
    "class Person:\n",
    "    \"Person 클래스는 어쩌구 저쩌구 여러 줄 설명하는 docstring\"\n",
    "    pass\n",
    "p1 = Person()"
   ]
  },
  {
   "cell_type": "code",
   "execution_count": 44,
   "id": "19a60972-93cb-4ba0-a4fd-61e5a634bda0",
   "metadata": {},
   "outputs": [],
   "source": [
    "class Person:\n",
    "    'Person은 이름과 성별 멤버변수가 있는 객체타입입니다'\n",
    "    def __init__(self, name='홍길동', gender='남자'): # 생성자함수\n",
    "        self.name = name\n",
    "        self.gender = gender\n",
    "        print(\"{}, {} Person 객체가 생성되었습니다\".format(self.name, self.gender))\n",
    "    def print_info(self):\n",
    "        print(\"{}님은 {}입니다\".format(self.name, self.gender), end='\\t')\n",
    "    def printCnt(self, cnt):\n",
    "        for i in range(cnt):\n",
    "            print(self.name, end='\\t')\n",
    "    def __str__(self):\n",
    "        return \"{}\\t 성별은 {}\".format(self.name, self.gender)"
   ]
  },
  {
   "cell_type": "code",
   "execution_count": 45,
   "id": "ffe79600-8d81-4831-91d4-06757b07f100",
   "metadata": {},
   "outputs": [
    {
     "name": "stdout",
     "output_type": "stream",
     "text": [
      "성춘향, 여자 Person 객체가 생성되었습니다\n"
     ]
    }
   ],
   "source": [
    "p1 = Person(\"성춘향\", \"여자\")"
   ]
  },
  {
   "cell_type": "code",
   "execution_count": 46,
   "id": "6db9d4ab-9b3b-47b0-a2b8-97c28ff22284",
   "metadata": {},
   "outputs": [
    {
     "name": "stdout",
     "output_type": "stream",
     "text": [
      "성춘향 여자\n"
     ]
    }
   ],
   "source": [
    "print(p1.name, p1.gender)"
   ]
  },
  {
   "cell_type": "code",
   "execution_count": 47,
   "id": "3cfc3ee1-996b-49dc-b2d6-ce05a4491dcc",
   "metadata": {},
   "outputs": [
    {
     "name": "stdout",
     "output_type": "stream",
     "text": [
      "성춘향님은 여자입니다\t"
     ]
    }
   ],
   "source": [
    "p1.print_info()"
   ]
  },
  {
   "cell_type": "code",
   "execution_count": 48,
   "id": "05457df5-e004-4b34-a141-6e1fdde8fe66",
   "metadata": {},
   "outputs": [
    {
     "name": "stdout",
     "output_type": "stream",
     "text": [
      "성춘향\t성춘향\t성춘향\t"
     ]
    }
   ],
   "source": [
    "p1.printCnt(3)"
   ]
  },
  {
   "cell_type": "code",
   "execution_count": 49,
   "id": "84624d9e-c8f6-4502-ba98-7d67387fe651",
   "metadata": {},
   "outputs": [
    {
     "name": "stdout",
     "output_type": "stream",
     "text": [
      "성춘향\t 성별은 여자\n"
     ]
    }
   ],
   "source": [
    "print(p1)"
   ]
  },
  {
   "cell_type": "markdown",
   "id": "4aa21450-2206-4f5a-8015-26e856daf914",
   "metadata": {},
   "source": [
    "# 2절 상속과 재정의 (overide)"
   ]
  },
  {
   "cell_type": "code",
   "execution_count": 53,
   "id": "e493db19-074d-464f-8c5f-b93434b4b32a",
   "metadata": {},
   "outputs": [],
   "source": [
    "class Student(Person):\n",
    "    'name, gender, major 멤버변수를 갖는 Student타입'\n",
    "    def __init__(self, name, gender, major):\n",
    "        # 부모 클래스의 생성자 함수로 name, gender 초기화\n",
    "        super().__init__(name, gender)\n",
    "        self.major = major\n",
    "    def print_info(self):\n",
    "        super().print_info()\n",
    "        print(\"그리고 전공은 {}입니다\".format(self.major))\n",
    "    def __str__(self):\n",
    "        return super().__str__() + \"그리고 전공은 {}\".format(self.major)"
   ]
  },
  {
   "cell_type": "code",
   "execution_count": 55,
   "id": "abe310a1-d4cf-4bcc-aba6-30eeb9ce0af0",
   "metadata": {},
   "outputs": [
    {
     "name": "stdout",
     "output_type": "stream",
     "text": [
      "김철수, 남자 Person 객체가 생성되었습니다\n"
     ]
    }
   ],
   "source": [
    "s1 = Student('김철수', '남자', '컴공')"
   ]
  },
  {
   "cell_type": "code",
   "execution_count": 56,
   "id": "116e2a57-a0d2-4f31-8349-0c94e336e37e",
   "metadata": {},
   "outputs": [
    {
     "data": {
      "text/plain": [
       "('김철수', '남자', '컴공')"
      ]
     },
     "execution_count": 56,
     "metadata": {},
     "output_type": "execute_result"
    }
   ],
   "source": [
    "s1.name, s1.gender, s1.major"
   ]
  },
  {
   "cell_type": "code",
   "execution_count": 57,
   "id": "3f628882-1e17-49eb-b498-77a423844d38",
   "metadata": {},
   "outputs": [
    {
     "name": "stdout",
     "output_type": "stream",
     "text": [
      "김철수님은 남자입니다\t그리고 전공은 컴공입니다\n"
     ]
    }
   ],
   "source": [
    "s1.print_info()"
   ]
  },
  {
   "cell_type": "code",
   "execution_count": 59,
   "id": "ca6824d9-5953-4870-84a8-b336affa3c7e",
   "metadata": {},
   "outputs": [
    {
     "name": "stdout",
     "output_type": "stream",
     "text": [
      "김철수\t김철수\t김철수\t"
     ]
    }
   ],
   "source": [
    "s1.printCnt(3)"
   ]
  },
  {
   "cell_type": "code",
   "execution_count": 60,
   "id": "79517e5d-e601-4bc7-b4f4-b15bf28fb803",
   "metadata": {},
   "outputs": [
    {
     "name": "stdout",
     "output_type": "stream",
     "text": [
      "김철수\t 성별은 남자그리고 전공은 컴공\n"
     ]
    }
   ],
   "source": [
    "print(s1)"
   ]
  },
  {
   "cell_type": "code",
   "execution_count": null,
   "id": "e8321132-1185-4fb9-bc40-17394c62e060",
   "metadata": {},
   "outputs": [],
   "source": []
  }
 ],
 "metadata": {
  "kernelspec": {
   "display_name": "Python 3 (ipykernel)",
   "language": "python",
   "name": "python3"
  },
  "language_info": {
   "codemirror_mode": {
    "name": "ipython",
    "version": 3
   },
   "file_extension": ".py",
   "mimetype": "text/x-python",
   "name": "python",
   "nbconvert_exporter": "python",
   "pygments_lexer": "ipython3",
   "version": "3.11.7"
  }
 },
 "nbformat": 4,
 "nbformat_minor": 5
}
