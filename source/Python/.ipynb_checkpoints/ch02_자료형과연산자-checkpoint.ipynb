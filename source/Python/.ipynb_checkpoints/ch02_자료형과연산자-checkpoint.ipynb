{
 "cells": [
  {
   "cell_type": "markdown",
   "id": "f14de08d-aa5e-4877-a758-3a9c6a764db9",
   "metadata": {},
   "source": [
    "# 1절 변수\n",
    "## 1.1 변수 선언\n",
    "    - 별도의 변수 선언과정 없음\n",
    "## 1.2 변수 할당\n",
    "    - 대입연산자(=) 사용"
   ]
  },
  {
   "cell_type": "code",
   "execution_count": 5,
   "id": "98b933c6-c92c-495d-9d3f-59b00d17ad8c",
   "metadata": {},
   "outputs": [
    {
     "name": "stdout",
     "output_type": "stream",
     "text": [
      "제공되는 pi값은 3.141592653589793\n",
      "계산된 넓이는 78.53981633974483\n",
      "area타입은 <class 'float'>\n",
      "area 주소는 2592622362256\n"
     ]
    }
   ],
   "source": [
    "import numpy as np\n",
    "print('제공되는 pi값은', np.pi)\n",
    "r = 5\n",
    "area = np.pi * r * r\n",
    "print(\"계산된 넓이는\", area)\n",
    "print('area타입은', type(area))\n",
    "print('area 주소는', id(area))"
   ]
  },
  {
   "cell_type": "code",
   "execution_count": 7,
   "id": "e2ba9a56-a161-440e-8f68-9128be711950",
   "metadata": {},
   "outputs": [
    {
     "name": "stdout",
     "output_type": "stream",
     "text": [
      "area 값은 10\n",
      "area 타입은 <class 'int'>\n",
      "area 주소는 140707485303880\n"
     ]
    }
   ],
   "source": [
    "area = 10\n",
    "print(\"area 값은\", area)\n",
    "print('area 타입은', type(area))\n",
    "print('area 주소는', id(area))"
   ]
  },
  {
   "cell_type": "code",
   "execution_count": 8,
   "id": "4b33d3ee-a4de-4f36-954b-28db46e50636",
   "metadata": {},
   "outputs": [
    {
     "name": "stdout",
     "output_type": "stream",
     "text": [
      "area 값은 파이썬이 좋아요\n",
      "area 타입은 <class 'str'>\n",
      "area 주소는 2592689188048\n"
     ]
    }
   ],
   "source": [
    "area = '파이썬이 좋아요'\n",
    "print(\"area 값은\", area)\n",
    "print('area 타입은', type(area))\n",
    "print('area 주소는', id(area))"
   ]
  },
  {
   "cell_type": "markdown",
   "id": "43d3cef0-3684-4507-8477-9ef91ff45757",
   "metadata": {},
   "source": [
    "## 1.3 변수이름 규칙\n",
    "    - 문자(특수문자는 _제외하고 안됨), 숫자, _로 명명\n",
    "    - 문자로 시작\n",
    "    - 파이썬에서 제공되는 기본 함수명 피하자. 꼭 써야한다면 int_식으로 _를 붙임\n",
    "    - 파이썬 예약어는 변수명 불가(ex. if)"
   ]
  },
  {
   "cell_type": "code",
   "execution_count": 9,
   "id": "3dc04eb8-b107-4524-8442-1b1549fa09ef",
   "metadata": {},
   "outputs": [],
   "source": [
    "# 파이썬 변수는 함수 할당 가능\n",
    "print = 5"
   ]
  },
  {
   "cell_type": "code",
   "execution_count": 11,
   "id": "c48b6ab2-877d-4f7c-8b77-0aa10f8dc99d",
   "metadata": {},
   "outputs": [
    {
     "ename": "TypeError",
     "evalue": "'int' object is not callable",
     "output_type": "error",
     "traceback": [
      "\u001b[1;31m---------------------------------------------------------------------------\u001b[0m",
      "\u001b[1;31mTypeError\u001b[0m                                 Traceback (most recent call last)",
      "Cell \u001b[1;32mIn[11], line 1\u001b[0m\n\u001b[1;32m----> 1\u001b[0m \u001b[38;5;28mprint\u001b[39m(\u001b[38;5;124m'\u001b[39m\u001b[38;5;124ma\u001b[39m\u001b[38;5;124m'\u001b[39m)\n",
      "\u001b[1;31mTypeError\u001b[0m: 'int' object is not callable"
     ]
    }
   ],
   "source": [
    "print('a') # 함수 기능이 사라짐"
   ]
  },
  {
   "cell_type": "code",
   "execution_count": 12,
   "id": "ba49e468-05c3-4b1e-b623-564d813d25b6",
   "metadata": {},
   "outputs": [],
   "source": [
    "del print"
   ]
  },
  {
   "cell_type": "raw",
   "id": "391337c3-24ec-442d-8dcb-08ced35e544a",
   "metadata": {},
   "source": [
    "print('a')"
   ]
  },
  {
   "cell_type": "code",
   "execution_count": 16,
   "id": "2c838d0f-288e-431d-b02b-f6a439c075ad",
   "metadata": {},
   "outputs": [
    {
     "data": {
      "text/plain": [
       "complex"
      ]
     },
     "execution_count": 16,
     "metadata": {},
     "output_type": "execute_result"
    }
   ],
   "source": [
    "i = 3 + 3j #복소수\n",
    "type(i)"
   ]
  },
  {
   "cell_type": "code",
   "execution_count": 24,
   "id": "b7a3c32d-ad58-465a-ba40-12e59cf11087",
   "metadata": {},
   "outputs": [],
   "source": [
    "a, b = 10, 20 #다중 선언"
   ]
  },
  {
   "cell_type": "code",
   "execution_count": 25,
   "id": "f7bc75b2-4388-464d-ac40-66fb5fc75f8d",
   "metadata": {},
   "outputs": [
    {
     "data": {
      "text/plain": [
       "(10, 20)"
      ]
     },
     "execution_count": 25,
     "metadata": {},
     "output_type": "execute_result"
    }
   ],
   "source": [
    "a, b"
   ]
  },
  {
   "cell_type": "code",
   "execution_count": 26,
   "id": "626e1de3-d443-4077-ad19-8de2972e33a8",
   "metadata": {},
   "outputs": [
    {
     "name": "stdout",
     "output_type": "stream",
     "text": [
      "a =  20 \t b =  30\n"
     ]
    }
   ],
   "source": [
    "a, b = b, a+b #다중 선언\n",
    "print('a = ', a, '\\t b = ', b)"
   ]
  },
  {
   "cell_type": "markdown",
   "id": "3e0fcec3-8e7d-4196-ae1b-f97ae3a4a06b",
   "metadata": {},
   "source": [
    "## 1.4 도움말"
   ]
  },
  {
   "cell_type": "code",
   "execution_count": 29,
   "id": "58285e7d-0d5a-48ed-bbc6-d7fee4a6ff4b",
   "metadata": {},
   "outputs": [
    {
     "name": "stdout",
     "output_type": "stream",
     "text": [
      "a~b\n"
     ]
    }
   ],
   "source": [
    "# 도움말 기능 : 함수내에서 shift+tab키\n",
    "print('a', 'b', sep = '~')"
   ]
  },
  {
   "cell_type": "code",
   "execution_count": 30,
   "id": "aa11b8b7-a7b9-496d-9413-6dbaa098458b",
   "metadata": {},
   "outputs": [],
   "source": [
    "def make_number(x, y = 0):\n",
    "    \"\"\"doc ctring(함수의 도움말)\n",
    "    매개변수 2개를 이용해서 2자리 정수를 만들어요\n",
    "    x = 10의 자리수\n",
    "    y = 1의 자리수 (default값 0)\n",
    "    \"\"\"\n",
    "    return x * 10 + y"
   ]
  },
  {
   "cell_type": "code",
   "execution_count": 31,
   "id": "f95dcb66-bcaf-4f32-9e37-f37189e0dd09",
   "metadata": {},
   "outputs": [
    {
     "data": {
      "text/plain": [
       "32"
      ]
     },
     "execution_count": 31,
     "metadata": {},
     "output_type": "execute_result"
    }
   ],
   "source": [
    "make_number(3, 2)"
   ]
  },
  {
   "cell_type": "code",
   "execution_count": 32,
   "id": "105c4916-7d51-47ac-93c2-d86292164fcd",
   "metadata": {},
   "outputs": [
    {
     "data": {
      "text/plain": [
       "50"
      ]
     },
     "execution_count": 32,
     "metadata": {},
     "output_type": "execute_result"
    }
   ],
   "source": [
    "make_number(5) # y입력안하면 0"
   ]
  },
  {
   "cell_type": "code",
   "execution_count": 33,
   "id": "979e1ee5-9b54-4cf8-9cda-4339998360f3",
   "metadata": {},
   "outputs": [],
   "source": [
    "make = make_number # 함수를 변수에 할당"
   ]
  },
  {
   "cell_type": "code",
   "execution_count": 34,
   "id": "9b46f574-cfba-47fc-8f19-38caf72b9f69",
   "metadata": {},
   "outputs": [
    {
     "data": {
      "text/plain": [
       "60"
      ]
     },
     "execution_count": 34,
     "metadata": {},
     "output_type": "execute_result"
    }
   ],
   "source": [
    "make(6)"
   ]
  },
  {
   "cell_type": "markdown",
   "id": "5a1ffe5f-c35e-4fe7-a63d-23872358e617",
   "metadata": {},
   "source": [
    "## 1.5 변수 삭제"
   ]
  },
  {
   "cell_type": "code",
   "execution_count": 35,
   "id": "4ec3d3b4-06bd-4f59-bb9a-3d59305eb378",
   "metadata": {},
   "outputs": [],
   "source": [
    "del make"
   ]
  },
  {
   "cell_type": "code",
   "execution_count": 36,
   "id": "4f763869-f97c-47b6-859b-7577cd25eb3f",
   "metadata": {},
   "outputs": [
    {
     "ename": "NameError",
     "evalue": "name 'make' is not defined",
     "output_type": "error",
     "traceback": [
      "\u001b[1;31m---------------------------------------------------------------------------\u001b[0m",
      "\u001b[1;31mNameError\u001b[0m                                 Traceback (most recent call last)",
      "Cell \u001b[1;32mIn[36], line 1\u001b[0m\n\u001b[1;32m----> 1\u001b[0m make(\u001b[38;5;241m6\u001b[39m)\n",
      "\u001b[1;31mNameError\u001b[0m: name 'make' is not defined"
     ]
    }
   ],
   "source": [
    "make(6)"
   ]
  },
  {
   "cell_type": "markdown",
   "id": "e7194817-e59c-4f56-8bc3-d386a1633690",
   "metadata": {},
   "source": [
    "# 2절 화면 I/O"
   ]
  },
  {
   "cell_type": "code",
   "execution_count": 39,
   "id": "191daeaf-0d32-48da-8dfa-b2b1f4cf8f51",
   "metadata": {},
   "outputs": [
    {
     "name": "stdin",
     "output_type": "stream",
     "text": [
      "첫번째 숫자는? 10\n",
      "두번째 숫자는? 30\n"
     ]
    }
   ],
   "source": [
    "first = input('첫번째 숫자는?') # 문자로 return\n",
    "second = input('두번째 숫자는?')"
   ]
  },
  {
   "cell_type": "code",
   "execution_count": 40,
   "id": "d7621295-cfa5-4049-a050-09924039052a",
   "metadata": {},
   "outputs": [
    {
     "name": "stdout",
     "output_type": "stream",
     "text": [
      "두수의 합은 1030\n"
     ]
    }
   ],
   "source": [
    "print('두수의 합은 {}'.format(first + second)) # 문자 + 문자"
   ]
  },
  {
   "cell_type": "code",
   "execution_count": 6,
   "id": "09708f16-5146-4985-b2fe-7317aa796657",
   "metadata": {},
   "outputs": [
    {
     "name": "stdin",
     "output_type": "stream",
     "text": [
      "첫번째 숫자는? 10\n",
      "두번째 숫자는? 30\n"
     ]
    }
   ],
   "source": [
    "first = int(input('첫번째 숫자는?')) # 형변환\n",
    "second = int(input('두번째 숫자는?'))"
   ]
  },
  {
   "cell_type": "code",
   "execution_count": 7,
   "id": "812488c5-b3ef-4dc1-97b1-0500c4016d0a",
   "metadata": {},
   "outputs": [
    {
     "name": "stdout",
     "output_type": "stream",
     "text": [
      "두수의 합은 40\n"
     ]
    }
   ],
   "source": [
    "print('두수의 합은 {}'.format(first + second))"
   ]
  },
  {
   "cell_type": "code",
   "execution_count": 4,
   "id": "94f3cc9d-3e0c-4452-9a26-bf337f0b8a9f",
   "metadata": {},
   "outputs": [
    {
     "name": "stdout",
     "output_type": "stream",
     "text": [
      "Hello~world\tHello Python\n"
     ]
    }
   ],
   "source": [
    "print('Hello', 'world', sep='~', end='\\t')\n",
    "print('Hello', 'Python')"
   ]
  },
  {
   "cell_type": "markdown",
   "id": "2581d9cb-27e4-4f96-85bd-cd998177465a",
   "metadata": {},
   "source": [
    "# 3절 기본 자료형"
   ]
  },
  {
   "cell_type": "markdown",
   "id": "cbead51e-3665-4496-ab4e-b8d077df9efd",
   "metadata": {},
   "source": [
    "## 3.2 문자형"
   ]
  },
  {
   "cell_type": "code",
   "execution_count": 1,
   "id": "3419bb2a-d774-42ef-9ab9-a9a6c56ac597",
   "metadata": {},
   "outputs": [],
   "source": [
    "name = \"홍길동'님'\"\n",
    "name = '홍길동\"님\"'\n",
    "address = \"서울시 \\\"금천구\\\" \\\n",
    "가산디지털1로\""
   ]
  },
  {
   "cell_type": "code",
   "execution_count": 3,
   "id": "28e56969-8dcb-443e-be3c-695d5dba9844",
   "metadata": {},
   "outputs": [
    {
     "name": "stdout",
     "output_type": "stream",
     "text": [
      "안녕하세요\n",
      "홍길동입니다\n",
      "반갑습니다\n"
     ]
    }
   ],
   "source": [
    "text = \"안녕하세요\\n홍길동입니다\\n반갑습니다\"\n",
    "print(text)"
   ]
  },
  {
   "cell_type": "code",
   "execution_count": 8,
   "id": "1efd20d2-e844-4ed6-81cc-f18b71ecef85",
   "metadata": {},
   "outputs": [
    {
     "name": "stdout",
     "output_type": "stream",
     "text": [
      "안녕하세요\n",
      "홍길동입니다\n",
      "반갑습니다\n",
      "\n"
     ]
    }
   ],
   "source": [
    "text = \"\"\"안녕하세요\n",
    "홍길동입니다\n",
    "반갑습니다\n",
    "\"\"\"\n",
    "print(text)"
   ]
  },
  {
   "cell_type": "code",
   "execution_count": 9,
   "id": "4ba20695-211c-473f-b6a8-b6ffaa445375",
   "metadata": {},
   "outputs": [],
   "source": [
    "# 문자열 슬라이싱"
   ]
  },
  {
   "cell_type": "code",
   "execution_count": 10,
   "id": "5ac94d2b-9092-4e2d-848d-af51030753ed",
   "metadata": {},
   "outputs": [
    {
     "data": {
      "text/plain": [
       "'0123456789'"
      ]
     },
     "execution_count": 10,
     "metadata": {},
     "output_type": "execute_result"
    }
   ],
   "source": [
    "str_ = \"0123456789\"\n",
    "str_"
   ]
  },
  {
   "cell_type": "code",
   "execution_count": 12,
   "id": "43eb4837-7e55-4759-a5b3-78263c62d0d7",
   "metadata": {},
   "outputs": [
    {
     "data": {
      "text/plain": [
       "'012'"
      ]
     },
     "execution_count": 12,
     "metadata": {},
     "output_type": "execute_result"
    }
   ],
   "source": [
    "str_[0 : 3] # 0번째부터 3번째 앞까지"
   ]
  },
  {
   "cell_type": "code",
   "execution_count": 15,
   "id": "697f8c72-ee1d-42d2-a19f-ed2f655d0097",
   "metadata": {},
   "outputs": [
    {
     "data": {
      "text/plain": [
       "'7'"
      ]
     },
     "execution_count": 15,
     "metadata": {},
     "output_type": "execute_result"
    }
   ],
   "source": [
    "str_[-3] # 음수인덱스는 뒤에서부터"
   ]
  },
  {
   "cell_type": "code",
   "execution_count": 16,
   "id": "c77cafee-b5fb-46ff-92cd-139b9165dfa3",
   "metadata": {},
   "outputs": [
    {
     "data": {
      "text/plain": [
       "'5678'"
      ]
     },
     "execution_count": 16,
     "metadata": {},
     "output_type": "execute_result"
    }
   ],
   "source": [
    "str_[-5 : -1]"
   ]
  },
  {
   "cell_type": "code",
   "execution_count": 21,
   "id": "e8c350dc-d967-4280-a6d1-60400a7404ed",
   "metadata": {},
   "outputs": [
    {
     "data": {
      "text/plain": [
       "'56789'"
      ]
     },
     "execution_count": 21,
     "metadata": {},
     "output_type": "execute_result"
    }
   ],
   "source": [
    "str_[5:] # 5번째 인덱스부터 끝까지"
   ]
  },
  {
   "cell_type": "code",
   "execution_count": 22,
   "id": "1a761e10-8cfe-430a-99f1-d58d52bbb9f2",
   "metadata": {},
   "outputs": [
    {
     "data": {
      "text/plain": [
       "'01234'"
      ]
     },
     "execution_count": 22,
     "metadata": {},
     "output_type": "execute_result"
    }
   ],
   "source": [
    "str_[:-5] # 처음부터 -5번째 앞까지"
   ]
  },
  {
   "cell_type": "code",
   "execution_count": 23,
   "id": "92c19725-fc35-4102-bdc2-5ac9dbefcb64",
   "metadata": {},
   "outputs": [
    {
     "data": {
      "text/plain": [
       "'56789'"
      ]
     },
     "execution_count": 23,
     "metadata": {},
     "output_type": "execute_result"
    }
   ],
   "source": [
    "# str_[19] #없는 인덱스는 에러남\n",
    "str_[5 : 19] # 슬라이싱에서는 인덱스를 벗어나면 끝까지"
   ]
  },
  {
   "cell_type": "code",
   "execution_count": 24,
   "id": "2dc5f20a-21b4-45dd-9ef9-d9090b45b2d0",
   "metadata": {},
   "outputs": [
    {
     "name": "stdout",
     "output_type": "stream",
     "text": [
      "02468\n",
      "02468\n"
     ]
    }
   ],
   "source": [
    "# str_[from : to : step]\n",
    "print(str_[0 : 9 : 2]) # 0번째부터 9번째 앞까지 2씩 인덱스 증가해서\n",
    "print(str_[ : : 2]) # 처음부터 끝까지 2씩 인덱스 증가해서"
   ]
  },
  {
   "cell_type": "code",
   "execution_count": 28,
   "id": "4a47dc59-4026-4f50-8c25-dffb04116405",
   "metadata": {},
   "outputs": [
    {
     "name": "stdout",
     "output_type": "stream",
     "text": [
      "9876543210\n",
      "9876543210\n"
     ]
    }
   ],
   "source": [
    "# 끝부터 처음까지 (거꾸로)\n",
    "print(str_[9 : : -1])\n",
    "print(str_[: : -1])"
   ]
  },
  {
   "cell_type": "markdown",
   "id": "2b02e5e2-7658-408c-8100-294b3e6a938f",
   "metadata": {},
   "source": [
    "## 3.3 논리형 (True, False)"
   ]
  },
  {
   "cell_type": "code",
   "execution_count": 29,
   "id": "b2464d4c-9685-40bb-91b9-9ee9e3c3b644",
   "metadata": {},
   "outputs": [
    {
     "name": "stdout",
     "output_type": "stream",
     "text": [
      "True\n",
      "<class 'bool'>\n",
      "True\n"
     ]
    }
   ],
   "source": [
    "a = True\n",
    "print(a)\n",
    "print(type(a))\n",
    "print(isinstance(a, bool)) # a가 bool형이냐?"
   ]
  },
  {
   "cell_type": "code",
   "execution_count": 30,
   "id": "139454a4-9b6e-4839-9c70-b32cc28dc18d",
   "metadata": {},
   "outputs": [],
   "source": [
    "# False로 간주하는 것 : 0, None, \"\"(빈스트링) ''(빈스트링) [] (), {}\n",
    "# True로 간주하는 것 : \" \", '\\0'(NULL)"
   ]
  },
  {
   "cell_type": "code",
   "execution_count": 31,
   "id": "bf574a76-c271-47a3-938f-80aa98a792b3",
   "metadata": {},
   "outputs": [
    {
     "name": "stdout",
     "output_type": "stream",
     "text": [
      "False\n"
     ]
    }
   ],
   "source": [
    "if 0+0j:\n",
    "    print('True')\n",
    "else:\n",
    "    print('False')"
   ]
  },
  {
   "cell_type": "markdown",
   "id": "87802477-0638-4108-bf42-a8eb6dcfe40f",
   "metadata": {},
   "source": [
    "## 3.4 자료형 확인 및 변환\n",
    "    - type() : 자료형 확인\n",
    "    - int() : 정수형 변환\n",
    "    - floar() : 실수형 변환\n",
    "    - str() : 문자형 변환\n",
    "    - bool() : 논리형 변환"
   ]
  },
  {
   "cell_type": "code",
   "execution_count": 32,
   "id": "c6dee32b-03fe-4f65-9571-e444f010269d",
   "metadata": {},
   "outputs": [
    {
     "data": {
      "text/plain": [
       "10"
      ]
     },
     "execution_count": 32,
     "metadata": {},
     "output_type": "execute_result"
    }
   ],
   "source": [
    "int('10')"
   ]
  },
  {
   "cell_type": "code",
   "execution_count": 34,
   "id": "58b5e1bc-1a98-4e89-976c-1e623126525e",
   "metadata": {},
   "outputs": [
    {
     "data": {
      "text/plain": [
       "2000"
      ]
     },
     "execution_count": 34,
     "metadata": {},
     "output_type": "execute_result"
    }
   ],
   "source": [
    "int('2000')"
   ]
  },
  {
   "cell_type": "code",
   "execution_count": 35,
   "id": "6c4a4438-4cce-4825-bc41-c944fd47e06f",
   "metadata": {},
   "outputs": [
    {
     "data": {
      "text/plain": [
       "1.0"
      ]
     },
     "execution_count": 35,
     "metadata": {},
     "output_type": "execute_result"
    }
   ],
   "source": [
    "float(True)"
   ]
  },
  {
   "cell_type": "markdown",
   "id": "0420d7c9-91bb-4218-b979-fed3cac151a4",
   "metadata": {},
   "source": [
    "# 4절 포맷팅"
   ]
  },
  {
   "cell_type": "code",
   "execution_count": 36,
   "id": "72d424d4-465f-4e79-957d-fc3c9ac92055",
   "metadata": {},
   "outputs": [
    {
     "name": "stdout",
     "output_type": "stream",
     "text": [
      "이름은 서울시 금천구, 주소는 홍길동\n"
     ]
    }
   ],
   "source": [
    "name = \"홍길동\"\n",
    "add = \"서울시 금천구\"\n",
    "print(\"이름은 {0}, 주소는 {1}\".format(name, add))"
   ]
  },
  {
   "cell_type": "code",
   "execution_count": 38,
   "id": "faa67ef1-0763-4f92-a38d-8bc64b419993",
   "metadata": {},
   "outputs": [
    {
     "name": "stdout",
     "output_type": "stream",
     "text": [
      "이름은 홍길동, 주소는 서울시 금천구\n"
     ]
    }
   ],
   "source": [
    "print(\"이름은 %s, 주소는 %s\"%(name, add))"
   ]
  },
  {
   "cell_type": "code",
   "execution_count": 39,
   "id": "6cc38ccd-8aa0-4f43-96ee-d9b6c3f02926",
   "metadata": {},
   "outputs": [
    {
     "name": "stdout",
     "output_type": "stream",
     "text": [
      "이름은 홍길동, 주소는 서울시 금천구\n"
     ]
    }
   ],
   "source": [
    "print(f\"이름은 {name}, 주소는 {add}\")"
   ]
  },
  {
   "cell_type": "code",
   "execution_count": 40,
   "id": "970b41d5-6cba-417d-8f03-b6fadac0fee2",
   "metadata": {},
   "outputs": [],
   "source": [
    "# format()함수\n",
    "# - \"{[인덱스] : [공백대체문자][정렬방법][자릿수][타입]}\".format(변수명, ...)\n",
    "#     - 정렬방법 : <(왼쪽정렬), >(오른쪽정렬), ^(가운데정렬)\n",
    "#     - 타입 : d(10진수), x(16진수), b(2진수), f(실수), s(문자)"
   ]
  },
  {
   "cell_type": "code",
   "execution_count": 55,
   "id": "efa99a97-4e39-4f5f-b3ac-4fa88ca04625",
   "metadata": {},
   "outputs": [
    {
     "name": "stdout",
     "output_type": "stream",
     "text": [
      " [$$$$$$$$10], [He******************]\n"
     ]
    }
   ],
   "source": [
    "a = 10\n",
    "s = 'Hello'\n",
    "print(\" [{0:$>10d}], [{1:*<20.2}]\".format(a, s))"
   ]
  },
  {
   "cell_type": "markdown",
   "id": "53b1b416-4514-4f25-86a0-2deb0e342fe3",
   "metadata": {},
   "source": [
    "# 5절 연산자\n",
    "## 5.1 산술연산자 \n",
    "    : + - / * //(몫) %(나머지) **(제곱)\n",
    "## 5.2 할당연산자 \n",
    "    : = += -= /= \n",
    "## 5.3 논리연산자 \n",
    "    : & | and or not(연산자 우선순위가 높음)\n",
    "## 5.4 비트연산자 \n",
    "    : & |  ^(or) (연산자 우선순위가 높음)"
   ]
  },
  {
   "cell_type": "code",
   "execution_count": 57,
   "id": "c5a4e76b-b661-43c7-b467-f93957325eaf",
   "metadata": {},
   "outputs": [
    {
     "name": "stdout",
     "output_type": "stream",
     "text": [
      "True\n"
     ]
    }
   ],
   "source": [
    "print( (10 > 3) & (10 > 5) ) # 논리 연산자 True & True"
   ]
  },
  {
   "cell_type": "code",
   "execution_count": 58,
   "id": "d988108c-697c-4cfb-a622-dc772a3b4991",
   "metadata": {},
   "outputs": [
    {
     "name": "stdout",
     "output_type": "stream",
     "text": [
      "0\n",
      "13\n"
     ]
    }
   ],
   "source": [
    "print( 12 & 1 ) # 비트연산 12 : 1 1 0 0\n",
    "                #           1: 0 0 0 1\n",
    "print( 12 | 1 )"
   ]
  },
  {
   "cell_type": "markdown",
   "id": "947dfa5c-943a-43bd-b4b8-ca988d883ce2",
   "metadata": {},
   "source": [
    "## 5.5 비교연산자\n",
    "    : > >= < <= == !="
   ]
  },
  {
   "cell_type": "code",
   "execution_count": 59,
   "id": "a9404400-fa32-4dce-82be-9b11c1bfad47",
   "metadata": {},
   "outputs": [
    {
     "data": {
      "text/plain": [
       "True"
      ]
     },
     "execution_count": 59,
     "metadata": {},
     "output_type": "execute_result"
    }
   ],
   "source": [
    "'아' < '하'"
   ]
  },
  {
   "cell_type": "code",
   "execution_count": 60,
   "id": "8b5d676b-a1d5-4aa7-b6d4-b9e151260646",
   "metadata": {},
   "outputs": [
    {
     "data": {
      "text/plain": [
       "True"
      ]
     },
     "execution_count": 60,
     "metadata": {},
     "output_type": "execute_result"
    }
   ],
   "source": [
    "'*' < '1' < 'A' < 'a' # 코드 순 : 특수문자 < 숫자 < 대문자 < 소문자"
   ]
  },
  {
   "cell_type": "code",
   "execution_count": 62,
   "id": "5b0bef15-4c1b-44f9-9485-fa1d49a637ad",
   "metadata": {},
   "outputs": [
    {
     "data": {
      "text/plain": [
       "True"
      ]
     },
     "execution_count": 62,
     "metadata": {},
     "output_type": "execute_result"
    }
   ],
   "source": [
    "score = 85\n",
    "80 <= score< 90 < 100"
   ]
  },
  {
   "cell_type": "markdown",
   "id": "87570b94-decd-43d4-a6f5-44892d0e4e31",
   "metadata": {},
   "source": [
    "# 6절 문자열 다루기\n",
    "    - 문자열 슬라이싱 : 문자변수[from:to:step]\n",
    "    - len(문자열) : 문자갯수\n",
    "    - upper() : 대문자\n",
    "    - lower() : 소문자로\n",
    "    - title() : 각 단어의 앞글자만 대문자로\n",
    "    - capitalize() : 첫문자만 대문자로, 그 외는 소문자로\n",
    "    - count('찾을 문자열') : 찾을 문자열이 몇개 들어있는지 갯수 반환\n",
    "    - find('찾을 문자열') : 찾을 문자열을 왼쪽부터 시작하여 몇번째 인덱스에 있는지 index반환 (찾을 문자열이 없으면 -1을 반환)\n",
    "    - rfind('찾을 문자열') : 찾을 문자열을 오른쪽부터 시작하여 몇번째에 있는지 index반환\n",
    "    - startswith('특정문자열') : 특정문자열로 시작하는지 여부 T/F 반환\n",
    "    - endswith('특정문자열'): 특정문자열로 끝나는지 여부 T/F 반환\n",
    "    - strip() : 좌우 공백제거\n",
    "    - lstrip() : 왼쪽 공백제거\n",
    "    - rstrip() : 오른쪽 공백제거\n",
    "    - isdigit() : 문자열이 숫자 문자열인지 여부 T/F 반환\n",
    "    - islower() : 문자열이 소문자인지 여부 T/F 반환\n",
    "    - isupper() : 문자열이 대문자인지 여부 T/F 반환\n",
    "    - replace(oldStr, newStr) : oldStr을 newStr 변경"
   ]
  },
  {
   "cell_type": "code",
   "execution_count": 65,
   "id": "b42f242d-c7cb-407d-a74b-c71a881ea561",
   "metadata": {},
   "outputs": [
    {
     "data": {
      "text/plain": [
       "['__add__',\n",
       " '__class__',\n",
       " '__contains__',\n",
       " '__delattr__',\n",
       " '__dir__',\n",
       " '__doc__',\n",
       " '__eq__',\n",
       " '__format__',\n",
       " '__ge__',\n",
       " '__getattribute__',\n",
       " '__getitem__',\n",
       " '__getnewargs__',\n",
       " '__getstate__',\n",
       " '__gt__',\n",
       " '__hash__',\n",
       " '__init__',\n",
       " '__init_subclass__',\n",
       " '__iter__',\n",
       " '__le__',\n",
       " '__len__',\n",
       " '__lt__',\n",
       " '__mod__',\n",
       " '__mul__',\n",
       " '__ne__',\n",
       " '__new__',\n",
       " '__reduce__',\n",
       " '__reduce_ex__',\n",
       " '__repr__',\n",
       " '__rmod__',\n",
       " '__rmul__',\n",
       " '__setattr__',\n",
       " '__sizeof__',\n",
       " '__str__',\n",
       " '__subclasshook__',\n",
       " 'capitalize',\n",
       " 'casefold',\n",
       " 'center',\n",
       " 'count',\n",
       " 'encode',\n",
       " 'endswith',\n",
       " 'expandtabs',\n",
       " 'find',\n",
       " 'format',\n",
       " 'format_map',\n",
       " 'index',\n",
       " 'isalnum',\n",
       " 'isalpha',\n",
       " 'isascii',\n",
       " 'isdecimal',\n",
       " 'isdigit',\n",
       " 'isidentifier',\n",
       " 'islower',\n",
       " 'isnumeric',\n",
       " 'isprintable',\n",
       " 'isspace',\n",
       " 'istitle',\n",
       " 'isupper',\n",
       " 'join',\n",
       " 'ljust',\n",
       " 'lower',\n",
       " 'lstrip',\n",
       " 'maketrans',\n",
       " 'partition',\n",
       " 'removeprefix',\n",
       " 'removesuffix',\n",
       " 'replace',\n",
       " 'rfind',\n",
       " 'rindex',\n",
       " 'rjust',\n",
       " 'rpartition',\n",
       " 'rsplit',\n",
       " 'rstrip',\n",
       " 'split',\n",
       " 'splitlines',\n",
       " 'startswith',\n",
       " 'strip',\n",
       " 'swapcase',\n",
       " 'title',\n",
       " 'translate',\n",
       " 'upper',\n",
       " 'zfill']"
      ]
     },
     "execution_count": 65,
     "metadata": {},
     "output_type": "execute_result"
    }
   ],
   "source": [
    "# 문자열을 다룰 수 있는 함수 목록\n",
    "dir(str)"
   ]
  },
  {
   "cell_type": "code",
   "execution_count": 85,
   "id": "033c25f1-7f57-4193-91cf-ca52c5e6780b",
   "metadata": {},
   "outputs": [
    {
     "name": "stdout",
     "output_type": "stream",
     "text": [
      "대문자로 :  PYTHON IS EASY. PYTHON IS SMART.\n",
      "첫글자만 대문자 :  Python is easy. python is smart.\n",
      "title() :  Python Is Easy. Python Is Smart.\n",
      "count() :  2\n",
      "find() :  0\n",
      "rfind() :  16\n",
      "replace('Python', ' ') :    is easy.   is smart.\n"
     ]
    }
   ],
   "source": [
    "temp = 'Python is easy. Python is smart.'\n",
    "#       01234567890123456789012345678901\n",
    "print('대문자로 : ', temp.upper())\n",
    "print('첫글자만 대문자 : ', temp.capitalize())\n",
    "print('title() : ', temp.title())\n",
    "print('count() : ', temp.count('Python'))\n",
    "print('find() : ', temp.find('Python'))\n",
    "print('rfind() : ', temp.rfind('Python'))\n",
    "print(\"replace('Python', ' ') : \", temp.replace(\"Python\", \" \"))\n",
    "#print(\"startswith('Python') :\", temp.startswitch(\"Py\"))"
   ]
  },
  {
   "cell_type": "code",
   "execution_count": 74,
   "id": "5dc8b2c9-b77f-4af3-9ff6-6007e8d330d5",
   "metadata": {},
   "outputs": [
    {
     "name": "stdout",
     "output_type": "stream",
     "text": [
      "temp : [    Python    ]\n",
      "strip : [Python]\n",
      "lstrip : [Python    ]\n",
      "rstrip : [    Python]\n"
     ]
    }
   ],
   "source": [
    "temp = \"    Python    \"\n",
    "print(\"temp : [{}]\".format(temp))\n",
    "print(\"strip : [{}]\".format(temp.strip()))\n",
    "print(\"lstrip : [{}]\".format(temp.lstrip()))\n",
    "print(\"rstrip : [{}]\".format(temp.rstrip()))"
   ]
  },
  {
   "cell_type": "code",
   "execution_count": 66,
   "id": "b0dbc829-75a3-4d14-abdf-f4090555b07e",
   "metadata": {},
   "outputs": [
    {
     "name": "stdout",
     "output_type": "stream",
     "text": [
      "첫번째 글자 : P, 마지막 글자 : .\n"
     ]
    }
   ],
   "source": [
    "print(\"첫번째 글자 : {}, 마지막 글자 : {}\".format(temp[0], temp[-1]))"
   ]
  },
  {
   "cell_type": "code",
   "execution_count": 77,
   "id": "f9f10583-6f39-4ed8-aff0-b6c00a02bc94",
   "metadata": {},
   "outputs": [
    {
     "name": "stdout",
     "output_type": "stream",
     "text": [
      "space단위로 분리하여 list로 반환 :  ['Python', 'is', 'easy.', 'Python', 'is', 'smart']\n"
     ]
    }
   ],
   "source": [
    "temp = 'Python is easy. Python is smart'\n",
    "print('space단위로 분리하여 list로 반환 : ', temp.split())"
   ]
  },
  {
   "cell_type": "code",
   "execution_count": 84,
   "id": "5ecafa19-71c6-4ced-84e6-df46e484e4c9",
   "metadata": {},
   "outputs": [
    {
     "name": "stdout",
     "output_type": "stream",
     "text": [
      "년월일 분리 :  ['2024', '05', '30']\n",
      "연결된 temp : 2024~05~30\n"
     ]
    }
   ],
   "source": [
    "temp = \"2024-05-30\"\n",
    "temp_list = temp.split('-')\n",
    "temp_join = '~'.join(temp_list)\n",
    "print('년월일 분리 : ', temp_list)\n",
    "print('연결된 temp :', temp_join)"
   ]
  },
  {
   "cell_type": "markdown",
   "id": "e4a55667-8b5d-426d-9903-682d4e2d1961",
   "metadata": {},
   "source": [
    "# 7절 날짜 다루기\n",
    "## 7.1 날짜"
   ]
  },
  {
   "cell_type": "code",
   "execution_count": 87,
   "id": "fe8ffb6c-89dc-4ef1-8893-e04430e74ff3",
   "metadata": {},
   "outputs": [
    {
     "data": {
      "text/plain": [
       "datetime.date"
      ]
     },
     "execution_count": 87,
     "metadata": {},
     "output_type": "execute_result"
    }
   ],
   "source": [
    "from datetime import date\n",
    "someday = date(2024, 5, 30)\n",
    "someday"
   ]
  },
  {
   "cell_type": "code",
   "execution_count": 88,
   "id": "8d5a05f0-da4d-4eab-aab4-0261e7bfabdf",
   "metadata": {},
   "outputs": [
    {
     "name": "stdout",
     "output_type": "stream",
     "text": [
      "2024년05월30일 00시 00분\n"
     ]
    }
   ],
   "source": [
    "print(\"{:%Y년%m월%d일 %H시 %M분}\".format(someday))"
   ]
  },
  {
   "cell_type": "code",
   "execution_count": 90,
   "id": "a6117664-c593-4f1e-b0eb-169ae5f23877",
   "metadata": {},
   "outputs": [
    {
     "name": "stdout",
     "output_type": "stream",
     "text": [
      "2024년05월30일 00시 00분\n"
     ]
    }
   ],
   "source": [
    "today = date.today() # 오늘\n",
    "print(\"{:%Y년%m월%d일 %H시 %M분}\".format(someday))"
   ]
  },
  {
   "cell_type": "markdown",
   "id": "b7c2305a-ac4b-450c-b98d-4ea79c5f1e48",
   "metadata": {},
   "source": [
    "## 7.2 시간"
   ]
  },
  {
   "cell_type": "code",
   "execution_count": 91,
   "id": "dd549c6b-e943-4a8d-a43c-54cc9b33080b",
   "metadata": {},
   "outputs": [
    {
     "name": "stdout",
     "output_type": "stream",
     "text": [
      "2024년05월30일 12시 48분\n"
     ]
    }
   ],
   "source": [
    "from datetime import datetime\n",
    "now = datetime.today()\n",
    "print(\"{:%Y년%m월%d일 %H시 %M분}\".format(now))"
   ]
  },
  {
   "cell_type": "markdown",
   "id": "cfbbeb81-762f-4e0b-ba2c-f7ec21c5037c",
   "metadata": {},
   "source": [
    "# 8절 연습문제"
   ]
  },
  {
   "cell_type": "code",
   "execution_count": 95,
   "id": "fe0224a6-acd4-4abf-922d-25eaaca48360",
   "metadata": {},
   "outputs": [
    {
     "name": "stdin",
     "output_type": "stream",
     "text": [
      "이름 :  김도훈\n",
      "나이 :  28\n"
     ]
    },
    {
     "name": "stdout",
     "output_type": "stream",
     "text": [
      "김도훈님의 나이는 28살입니다\n"
     ]
    }
   ],
   "source": [
    "# 1. 사용자로부터 이름과 나이 변수를 입력받아 다음 형식으로 출력하도록 format() 함수를 이용해 형식화하세요\n",
    "# [출력형식 : 홍길동님의 나이는 23살입니다]\n",
    "name = input('이름 : ')\n",
    "age = int(input('나이 : '))\n",
    "print('{}님의 나이는 {}살입니다'.format(name, age))"
   ]
  },
  {
   "cell_type": "code",
   "execution_count": 110,
   "id": "fb67735e-a84e-4b23-af0f-973c97c17648",
   "metadata": {},
   "outputs": [
    {
     "name": "stdin",
     "output_type": "stream",
     "text": [
      "숫자1 :  10\n",
      "숫자2 :  2\n"
     ]
    },
    {
     "name": "stdout",
     "output_type": "stream",
     "text": [
      "10 + 2 = 12\n",
      "10 - 2 = 8\n",
      "10 * 2 = 20\n",
      "10 // 2 = 5\n",
      "10 / 2 = 5.0\n",
      "10 % 2 = 0\n"
     ]
    }
   ],
   "source": [
    "# 두 정수를 입력받아 두 수의 덧셈, 뺄셈, 곱셈, 나눗셈, 몫, 나머지를 출력하세요\n",
    "num1 = int(input('숫자1 : '))\n",
    "num2 = int(input('숫자2 : '))\n",
    "print('{} + {} = {}'.format(num1, num2, num1 + num2))\n",
    "print('{} - {} = {}'.format(num1, num2, num1 - num2))\n",
    "print('{} * {} = {}'.format(num1, num2, num1 * num2))\n",
    "try:\n",
    "    print('{} // {} = {}'.format(num1, num2, num1 // num2))\n",
    "    print('{} / {} = {}'.format(num1, num2, num1 / num2))\n",
    "    print('{} % {} = {}'.format(num1, num2, num1 % num2))\n",
    "except:\n",
    "    print('두번째 정수에 0을 넣으면 안됩니다')"
   ]
  },
  {
   "cell_type": "code",
   "execution_count": 105,
   "id": "bf84f37b-85cf-47b2-b3a0-f986b0c52b4d",
   "metadata": {},
   "outputs": [
    {
     "data": {
      "text/plain": [
       "['Hello', 'World']"
      ]
     },
     "execution_count": 105,
     "metadata": {},
     "output_type": "execute_result"
    }
   ],
   "source": [
    "#3. 문자열의 분리하기와 합치기 기능을 이용하여 'Hello World'가 할당된 변수를 이용하여 'World Hello'로 출력하세요\n",
    "str_ = 'Hello World'\n",
    "str_.split()\n",
    "#str_join = ' '.join([str_.split[1], str_.split[0]])"
   ]
  },
  {
   "cell_type": "code",
   "execution_count": 111,
   "id": "1cce2bba-efae-43b7-8dfe-47d66f0426cf",
   "metadata": {},
   "outputs": [
    {
     "name": "stdout",
     "output_type": "stream",
     "text": [
      "bcdefa\n"
     ]
    }
   ],
   "source": [
    "# 4. x = 'abcdef'를 이용하여 'bcdefa'로 출력하세요 (문자 슬라이싱이용)\n",
    "x = 'abcdef'\n",
    "print(x[1:]+x[0])\n"
   ]
  },
  {
   "cell_type": "code",
   "execution_count": 112,
   "id": "d3cfb8d5-955d-47d4-9848-4982be9db7e0",
   "metadata": {},
   "outputs": [],
   "source": [
    "# 5. x = 'abcdef'를 이용하여 'fedcba'로 출력하세요"
   ]
  },
  {
   "cell_type": "code",
   "execution_count": 113,
   "id": "3ec1fd0b-9ab4-4d44-8c16-0c848cc1404e",
   "metadata": {},
   "outputs": [],
   "source": [
    "# 6. 오늘의 온도를 섭씨온도로 입력받아 화씨 온도로 변환하는 프로그램을 작성하세요. 화씨 온도는 소수점이 있을 경우만 두번째 자리까지 출력되고,\n",
    "# 소수점이하 값이 없는 경우 소수점을 출력하지 않도록 합니다. (다음은 섭씨와 화씨의 변환 공식입니다. C는 섭씨, F는 화씨)\n",
    "# C = (F - 32) / 1.8\n",
    "# F = (C * 1.8) + 32"
   ]
  },
  {
   "cell_type": "code",
   "execution_count": null,
   "id": "85af43ad-8de0-4c14-800f-6f46e370edf2",
   "metadata": {},
   "outputs": [],
   "source": []
  }
 ],
 "metadata": {
  "kernelspec": {
   "display_name": "Python 3 (ipykernel)",
   "language": "python",
   "name": "python3"
  },
  "language_info": {
   "codemirror_mode": {
    "name": "ipython",
    "version": 3
   },
   "file_extension": ".py",
   "mimetype": "text/x-python",
   "name": "python",
   "nbconvert_exporter": "python",
   "pygments_lexer": "ipython3",
   "version": "3.11.7"
  }
 },
 "nbformat": 4,
 "nbformat_minor": 5
}
