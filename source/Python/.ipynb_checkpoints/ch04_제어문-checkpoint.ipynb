{
 "cells": [
  {
   "cell_type": "markdown",
   "id": "cb64bb31-2721-4507-9216-3b0870c01de4",
   "metadata": {},
   "source": [
    "if문, for-in문, while문"
   ]
  },
  {
   "cell_type": "markdown",
   "id": "dad3a096-cae4-4ec7-ac2e-8a015daae968",
   "metadata": {},
   "source": [
    "# 1절 if문"
   ]
  },
  {
   "cell_type": "code",
   "execution_count": 3,
   "id": "58be2841-c226-4723-9373-fe9a2b1c7144",
   "metadata": {},
   "outputs": [
    {
     "name": "stdin",
     "output_type": "stream",
     "text": [
      "Hong! Enter your score >>  89\n"
     ]
    },
    {
     "name": "stdout",
     "output_type": "stream",
     "text": [
      "입력하신 점수는 89점이고, B등급입니다\n"
     ]
    }
   ],
   "source": [
    "# 점수를 입력받아 학점출력\n",
    "name = \"Hong\"\n",
    "score = int(input(name + \"! Enter your score >> \"))\n",
    "if 90 <= score <= 100:\n",
    "    grade = 'A'\n",
    "elif 80 <= score < 90:\n",
    "    grade = 'B'\n",
    "elif 70 <= score < 80:\n",
    "    grade = 'C'\n",
    "elif 60 <= score < 70:\n",
    "    grade = 'D'\n",
    "elif 0 <= score < 60:\n",
    "    grade = 'F'\n",
    "else:\n",
    "    grade = '유효하지 않은 점수'\n",
    "print(\"입력하신 점수는 {}점이고, {}등급입니다\".format(score, grade))"
   ]
  },
  {
   "cell_type": "markdown",
   "id": "569a900c-c6b6-4f05-9e0a-29f6e51dba13",
   "metadata": {},
   "source": [
    "# 2절 for-if문\n",
    "```\n",
    "for (변수) in (나열이 가능한 자료형):\n",
    "    반복할 문장1\n",
    "    반복할 문장2\n",
    "else:\n",
    "    변수에 값이 할당되지 않은 경우 한번 실행할 문장 (else구문 선택사항)\n",
    "    for문 안에 break가 있을 경우 else블럭은 수행되지 않음\n",
    "```"
   ]
  },
  {
   "cell_type": "code",
   "execution_count": 4,
   "id": "62a68afb-10ca-46db-bd2a-1c72067c0466",
   "metadata": {},
   "outputs": [
    {
     "data": {
      "text/plain": [
       "[1, 3, 5, 7, 9]"
      ]
     },
     "execution_count": 4,
     "metadata": {},
     "output_type": "execute_result"
    }
   ],
   "source": [
    "list(range(1, 10, 2)) # range도 나열가능한 자료"
   ]
  },
  {
   "cell_type": "code",
   "execution_count": 11,
   "id": "57926d72-0d6d-4938-a901-c81035004234",
   "metadata": {},
   "outputs": [
    {
     "name": "stdout",
     "output_type": "stream",
     "text": [
      "1\t3\t5\t7\t9\t\n",
      "Done\n",
      "END\n"
     ]
    }
   ],
   "source": [
    "for i in range(1, 10, 2):\n",
    "    print(i, end=\"\\t\")\n",
    "else:\n",
    "    print(\"\\nDone\")\n",
    "print(\"END\")"
   ]
  },
  {
   "cell_type": "code",
   "execution_count": 9,
   "id": "a4fc7c65-008f-4399-aa68-f74b7c726822",
   "metadata": {},
   "outputs": [
    {
     "name": "stdout",
     "output_type": "stream",
     "text": [
      "1부터 100까지의 짟의 합은 2550입니다\n"
     ]
    }
   ],
   "source": [
    "# 1 ~ 100까지 짝수의 합을 계산하고 출력하시오\n",
    "sum = 0;\n",
    "for i in range(2, 101):\n",
    "    if i % 2 == 0:\n",
    "        sum += i\n",
    "print(\"1부터 100까지의 짟의 합은 {}입니다\".format(sum))"
   ]
  },
  {
   "cell_type": "markdown",
   "id": "62220577-7370-431b-8692-2c0f49ccc06b",
   "metadata": {},
   "source": [
    "# 3절 while 문\n",
    "```\n",
    "while 조건:\n",
    "    반복문장1\n",
    "    반복문장2\n",
    "else:\n",
    "    조건이 거짓일 경우 한번 수행할 문장 (else는 선택사항)\n",
    "    while문 내 break를 통해서 빠져 나올때는 else블럭은 수행하지 않음\n",
    "```"
   ]
  },
  {
   "cell_type": "code",
   "execution_count": 12,
   "id": "f2a43095-46e6-4ec6-9943-5f000a3624ad",
   "metadata": {},
   "outputs": [
    {
     "name": "stdin",
     "output_type": "stream",
     "text": [
      "첫번째(작은수) 정수를 입력하세요 >>  10\n",
      "두번째(큰수) 전수를 입력하세요 >>  20\n"
     ]
    },
    {
     "name": "stdout",
     "output_type": "stream",
     "text": [
      "10부터 20까지 홀수들의 누적합은 75\n"
     ]
    }
   ],
   "source": [
    "# 사용자에게 두 수를 입력 받아 첫번째 수(작은수)부터 두번째 입력한 수(큰수)까지 홀수의 합 누적해서 출력\n",
    "n1 = int(input('첫번째(작은수) 정수를 입력하세요 >> '))\n",
    "n2 = int(input('두번째(큰수) 전수를 입력하세요 >> '))\n",
    "sum = 0 # 누적변수\n",
    "i = n1;\n",
    "while i <= n2:\n",
    "    if (i % 2 == 1) | (i % 2 == -1): # if i % 2 != 0\n",
    "        sum += i\n",
    "    i += 1\n",
    "print(\"{}부터 {}까지 홀수들의 누적합은 {}\".format(n1, n2, sum))"
   ]
  },
  {
   "cell_type": "markdown",
   "id": "7a53d14e-905d-4003-aa09-277ea822e817",
   "metadata": {},
   "source": [
    "# 4절 break, continue"
   ]
  },
  {
   "cell_type": "code",
   "execution_count": 14,
   "id": "3174cae1-a63b-4460-b44d-99f22c2e74c6",
   "metadata": {},
   "outputs": [
    {
     "name": "stdout",
     "output_type": "stream",
     "text": [
      "num = 1\tnum = 2\tnum = 4\tnum = 5\tnum = 6\tnum = 7\tnum = 8\tnum = 9\tnum = 10\tnum = 11\t"
     ]
    }
   ],
   "source": [
    "num = 0\n",
    "while num <= 10:\n",
    "    num += 1\n",
    "    if num == 3:\n",
    "        # break\n",
    "        continue\n",
    "    print(\"num = {}\".format(num), end='\\t')"
   ]
  },
  {
   "cell_type": "markdown",
   "id": "d0e83af3-846b-4973-8b46-6a117146e7c1",
   "metadata": {},
   "source": [
    "# 5절 이중 loop"
   ]
  },
  {
   "cell_type": "code",
   "execution_count": 16,
   "id": "a1ce5254-8377-47f1-beb4-c6a4c55c2e75",
   "metadata": {},
   "outputs": [
    {
     "name": "stdout",
     "output_type": "stream",
     "text": [
      "2 x 1 =  2\t3 x 1 =  3\t4 x 1 =  4\t5 x 1 =  5\t6 x 1 =  6\t7 x 1 =  7\t8 x 1 =  8\t9 x 1 =  9\t\n",
      "2 x 2 =  4\t3 x 2 =  6\t4 x 2 =  8\t5 x 2 = 10\t6 x 2 = 12\t7 x 2 = 14\t8 x 2 = 16\t9 x 2 = 18\t\n",
      "2 x 3 =  6\t3 x 3 =  9\t4 x 3 = 12\t5 x 3 = 15\t6 x 3 = 18\t7 x 3 = 21\t8 x 3 = 24\t9 x 3 = 27\t\n",
      "2 x 4 =  8\t3 x 4 = 12\t4 x 4 = 16\t5 x 4 = 20\t6 x 4 = 24\t7 x 4 = 28\t8 x 4 = 32\t9 x 4 = 36\t\n",
      "2 x 5 = 10\t3 x 5 = 15\t4 x 5 = 20\t5 x 5 = 25\t6 x 5 = 30\t7 x 5 = 35\t8 x 5 = 40\t9 x 5 = 45\t\n",
      "2 x 6 = 12\t3 x 6 = 18\t4 x 6 = 24\t5 x 6 = 30\t6 x 6 = 36\t7 x 6 = 42\t8 x 6 = 48\t9 x 6 = 54\t\n",
      "2 x 7 = 14\t3 x 7 = 21\t4 x 7 = 28\t5 x 7 = 35\t6 x 7 = 42\t7 x 7 = 49\t8 x 7 = 56\t9 x 7 = 63\t\n",
      "2 x 8 = 16\t3 x 8 = 24\t4 x 8 = 32\t5 x 8 = 40\t6 x 8 = 48\t7 x 8 = 56\t8 x 8 = 64\t9 x 8 = 72\t\n",
      "2 x 9 = 18\t3 x 9 = 27\t4 x 9 = 36\t5 x 9 = 45\t6 x 9 = 54\t7 x 9 = 63\t8 x 9 = 72\t9 x 9 = 81\t\n"
     ]
    }
   ],
   "source": [
    "for i in range(1, 10):\n",
    "    for j in range(2, 10):\n",
    "        print(\"{} x {} = {:>2}\\t\".format(j, i, i * j), end='')\n",
    "    print()"
   ]
  },
  {
   "cell_type": "markdown",
   "id": "4ccabd64-d462-4210-9834-8d81fe77244b",
   "metadata": {},
   "source": [
    "# 연습문제 1"
   ]
  },
  {
   "cell_type": "code",
   "execution_count": 23,
   "id": "b3c25fac-439d-43a6-beb5-0135ea7cbc6c",
   "metadata": {},
   "outputs": [
    {
     "data": {
      "text/plain": [
       "51"
      ]
     },
     "execution_count": 23,
     "metadata": {},
     "output_type": "execute_result"
    }
   ],
   "source": [
    "import random\n",
    "#random.seed(7) # seed 값을 넣어주면 랜덤수가 같다 \n",
    "random.randint(1, 100)"
   ]
  },
  {
   "cell_type": "code",
   "execution_count": 38,
   "id": "7a0bc53b-730e-4ad5-abc8-dad771f8c43f",
   "metadata": {},
   "outputs": [
    {
     "name": "stdout",
     "output_type": "stream",
     "text": [
      "정답은 : 56\n"
     ]
    },
    {
     "name": "stdin",
     "output_type": "stream",
     "text": [
      "1~100숫자를 입력하세요 (남은 기회는 5번 남았습니다) >>  90\n"
     ]
    },
    {
     "name": "stdout",
     "output_type": "stream",
     "text": [
      "Down\n"
     ]
    },
    {
     "name": "stdin",
     "output_type": "stream",
     "text": [
      "1~89숫자를 입력하세요 (남은 기회는 4번 남았습니다) >>  100\n"
     ]
    },
    {
     "name": "stdout",
     "output_type": "stream",
     "text": [
      "수의 범위를 벗어났습니다\n"
     ]
    },
    {
     "name": "stdin",
     "output_type": "stream",
     "text": [
      "1~89숫자를 입력하세요 (남은 기회는 4번 남았습니다) >>  56\n"
     ]
    },
    {
     "name": "stdout",
     "output_type": "stream",
     "text": [
      "정답입니다\n"
     ]
    }
   ],
   "source": [
    "import random\n",
    "num = random.randint(1, 100)\n",
    "print(\"정답은 : {}\".format(num))\n",
    "min = 1\n",
    "max = 100\n",
    "chance = 5\n",
    "while 1:\n",
    "    answer = int(input(str(min) + '~' + str(max) + \"숫자를 입력하세요 (남은 기회는 \" + str(chance) + \"번 남았습니다) >> \"))\n",
    "    if (answer < min) | (answer > max):\n",
    "        print (\"수의 범위를 벗어났습니다\")\n",
    "        chance -= 1\n",
    "    elif answer > num:\n",
    "        print(\"Down\")\n",
    "        max = answer - 1\n",
    "        chance -= 1\n",
    "    elif answer < num:\n",
    "        print(\"Up\")\n",
    "        min = answer + 1\n",
    "        chance -= 1\n",
    "    else:\n",
    "        print(\"정답입니다\")\n",
    "        break\n",
    "    if chance == 0:\n",
    "        print(\"5번의 기회가 끝났습니다\")\n",
    "        break"
   ]
  },
  {
   "cell_type": "markdown",
   "id": "84a0844b-b904-494d-a108-658f13ca342a",
   "metadata": {},
   "source": [
    "# 연습문제 2"
   ]
  },
  {
   "cell_type": "code",
   "execution_count": 46,
   "id": "17daf4b2-1d8e-42b5-afc0-8c37c75a4bf1",
   "metadata": {},
   "outputs": [
    {
     "name": "stdout",
     "output_type": "stream",
     "text": [
      "{35, 36, 37, 8, 44, 20}\n",
      "[8, 20, 35, 36, 37, 44]\n"
     ]
    }
   ],
   "source": [
    "import random\n",
    "lotto = set()\n",
    "while len(lotto) < 6:\n",
    "    num = random.randint(1, 45)\n",
    "    lotto.add(num)\n",
    "print(lotto)\n",
    "lotto = list(lotto)\n",
    "lotto.sort()\n",
    "print(lotto)"
   ]
  }
 ],
 "metadata": {
  "kernelspec": {
   "display_name": "Python 3 (ipykernel)",
   "language": "python",
   "name": "python3"
  },
  "language_info": {
   "codemirror_mode": {
    "name": "ipython",
    "version": 3
   },
   "file_extension": ".py",
   "mimetype": "text/x-python",
   "name": "python",
   "nbconvert_exporter": "python",
   "pygments_lexer": "ipython3",
   "version": "3.11.7"
  }
 },
 "nbformat": 4,
 "nbformat_minor": 5
}
