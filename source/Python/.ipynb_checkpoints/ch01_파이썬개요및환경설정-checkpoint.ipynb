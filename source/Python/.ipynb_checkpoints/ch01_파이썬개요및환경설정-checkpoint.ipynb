{
 "cells": [
  {
   "cell_type": "markdown",
   "id": "bb4e12ad-fe70-447f-82c4-ce40a7aa92f7",
   "metadata": {},
   "source": []
  },
  {
   "cell_type": "markdown",
   "id": "3dfe000d-d512-4b49-8f1b-17ab77222ee9",
   "metadata": {},
   "source": [
    "# 1. 주피터 노트북 사용법(큰제목)\n",
    "    - shift+Enter : 포커스된 셀이 실행되고 다음셀로 이동\n",
    "    - alt+Enter : 포커스된 셀이 실행되고 다음셀이 생성된 후 이동\n",
    "    - ctrl+Enter : 포커스된 셀이 실행되고 포커스 이동없음\n",
    "    - Enter=클릭 : 셀이 포커스됨(편집 상태)"
   ]
  },
  {
   "cell_type": "code",
   "execution_count": null,
   "id": "44525385-71a4-44c1-a88c-5c09f66844b6",
   "metadata": {},
   "outputs": [],
   "source": [
    "print('Hello')"
   ]
  },
  {
   "cell_type": "code",
   "execution_count": null,
   "id": "d6cf17f9-bf44-4628-afed-1f7f2e9225f1",
   "metadata": {},
   "outputs": [],
   "source": [
    "a = 1\n",
    "b = '2'\n",
    "a + int(b) # 문자 + 숫자 불가능"
   ]
  },
  {
   "cell_type": "code",
   "execution_count": null,
   "id": "c4357164-fa80-412c-857c-8330afb56ebb",
   "metadata": {},
   "outputs": [],
   "source": [
    "# for i in range(10000000000000000):\n",
    "#     print(i)\n",
    "# 중지 : kernel > 다양한 restart기능이나 shotdown 기능    "
   ]
  },
  {
   "cell_type": "markdown",
   "id": "dc3b295c-8a41-448a-b679-5900e3bab680",
   "metadata": {},
   "source": [
    "# 2. ESC키 누르고 핫키\n",
    "- dd : 셀삭제\n",
    "- a : 윗셀추가\n",
    "- b : 아랫셀추가\n",
    "- m : 마크업셀로 전환\n",
    "- y : 코드셀로전환"
   ]
  },
  {
   "cell_type": "markdown",
   "id": "0fafce4f-508b-4453-bd0c-ca53dacf60e3",
   "metadata": {},
   "source": [
    "# 3. 마크다운이란?\n",
    "- 코드와 함께 문서화할 수 있다.\n",
    "\n",
    "```\n",
    "여러줄설명은\n",
    "줄바꿈으로 할 수 있습니다\n",
    "```"
   ]
  },
  {
   "cell_type": "markdown",
   "id": "d586c1a6-a499-4aec-adf9-01391e694bfe",
   "metadata": {},
   "source": [
    "# 4. Table of contents\n",
    "- View > Table of contents"
   ]
  },
  {
   "cell_type": "code",
   "execution_count": 2,
   "id": "769a5953-8ca5-48d6-8dc3-6608f2506184",
   "metadata": {},
   "outputs": [
    {
     "name": "stdout",
     "output_type": "stream",
     "text": [
      " C 드라이브의 볼륨에는 이름이 없습니다.\n",
      " 볼륨 일련 번호: 82E2-A836\n",
      "\n",
      " C:\\C_Python\\source\\Python 디렉터리\n",
      "\n",
      "\n",
      " C:\\C_Python\\source\\Python 디렉터리\n",
      "\n",
      "\n",
      " C:\\C_Python\\source\\Python 디렉터리\n",
      "\n",
      "\n",
      " C:\\C_Python\\source\\Python 디렉터리\n",
      "\n",
      "\n",
      " C:\\C_Python\\source\\Python 디렉터리\n",
      "\n",
      "\n",
      " C:\\C_Python\\source\\Python 디렉터리\n",
      "\n"
     ]
    },
    {
     "name": "stderr",
     "output_type": "stream",
     "text": [
      "파일을 찾을 수 없습니다.\n"
     ]
    }
   ],
   "source": [
    "!dir # 주피터노트북에서 !는 cmd명령어 수행 가능"
   ]
  },
  {
   "cell_type": "code",
   "execution_count": null,
   "id": "6b8085f7-fff0-44d8-b078-c25800c91fc0",
   "metadata": {},
   "outputs": [],
   "source": []
  }
 ],
 "metadata": {
  "kernelspec": {
   "display_name": "Python 3 (ipykernel)",
   "language": "python",
   "name": "python3"
  },
  "language_info": {
   "codemirror_mode": {
    "name": "ipython",
    "version": 3
   },
   "file_extension": ".py",
   "mimetype": "text/x-python",
   "name": "python",
   "nbconvert_exporter": "python",
   "pygments_lexer": "ipython3",
   "version": "3.11.7"
  }
 },
 "nbformat": 4,
 "nbformat_minor": 5
}
