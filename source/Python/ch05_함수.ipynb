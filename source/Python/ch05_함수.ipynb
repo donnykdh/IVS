{
 "cells": [
  {
   "cell_type": "markdown",
   "id": "cbaf6cfc-c41f-4705-b452-c5d76ae503a5",
   "metadata": {},
   "source": [
    "- 반복해서 사용할 코드를 묶어서 구현해 놓은 것\n",
    "- 같은 이름의 함수는 덮어씀(오버로딩 불가)\n",
    "- 함수 정의 (구형)\n",
    "```\n",
    "def 함수명([인수1, 인수2, ...]):\n",
    "    명령어1\n",
    "    명령어2\n",
    "```"
   ]
  },
  {
   "cell_type": "markdown",
   "id": "f0dde1b7-a526-4719-af38-8de7c8cc60c7",
   "metadata": {},
   "source": [
    "# 1절 함수의 정의 및 사용 (호출)\n",
    "## 1.1 함수정의"
   ]
  },
  {
   "cell_type": "code",
   "execution_count": 8,
   "id": "d1d26c65-76b6-4a34-8f6a-6a0999e84cd2",
   "metadata": {},
   "outputs": [],
   "source": [
    "def my_hello(x, msg):\n",
    "    for i in range(x): #매게변수 받은 만큼 반복해라\n",
    "        print(i, msg)"
   ]
  },
  {
   "cell_type": "code",
   "execution_count": 9,
   "id": "6f880efb-8b1e-4656-a822-db5759332b1a",
   "metadata": {},
   "outputs": [
    {
     "name": "stdout",
     "output_type": "stream",
     "text": [
      "0 쉬는 시간입니다\n",
      "1 쉬는 시간입니다\n",
      "2 쉬는 시간입니다\n",
      "3 쉬는 시간입니다\n"
     ]
    }
   ],
   "source": [
    "my_hello(4, '쉬는 시간입니다')"
   ]
  },
  {
   "cell_type": "code",
   "execution_count": 3,
   "id": "311ece0d-7bac-4d80-9623-251b5a9e3ee5",
   "metadata": {},
   "outputs": [
    {
     "data": {
      "text/plain": [
       "function"
      ]
     },
     "execution_count": 3,
     "metadata": {},
     "output_type": "execute_result"
    }
   ],
   "source": [
    "type(my_hello)"
   ]
  },
  {
   "cell_type": "code",
   "execution_count": 4,
   "id": "6022a0b1-256f-49fc-a1a6-2074a9b474ee",
   "metadata": {},
   "outputs": [
    {
     "data": {
      "text/plain": [
       "int"
      ]
     },
     "execution_count": 4,
     "metadata": {},
     "output_type": "execute_result"
    }
   ],
   "source": [
    "my_hello = 10\n",
    "type(my_hello)"
   ]
  },
  {
   "cell_type": "code",
   "execution_count": 11,
   "id": "0a03d9a0-4bb0-45d6-8a03-2085293c3bc0",
   "metadata": {},
   "outputs": [],
   "source": [
    "def my_hello(x):\n",
    "    for i in range(x): \n",
    "        print(i, '함수는 복습 필수')"
   ]
  },
  {
   "cell_type": "code",
   "execution_count": 12,
   "id": "ab3dcc94-7bba-4456-99a7-479abed9922b",
   "metadata": {},
   "outputs": [
    {
     "name": "stdout",
     "output_type": "stream",
     "text": [
      "0 함수는 복습 필수\n",
      "1 함수는 복습 필수\n",
      "2 함수는 복습 필수\n",
      "3 함수는 복습 필수\n"
     ]
    }
   ],
   "source": [
    "my_hello(4)"
   ]
  },
  {
   "cell_type": "code",
   "execution_count": 16,
   "id": "254a00b1-9545-4c9b-9a1c-07180beaaddb",
   "metadata": {},
   "outputs": [
    {
     "name": "stdout",
     "output_type": "stream",
     "text": [
      "6\n",
      "3\n"
     ]
    }
   ],
   "source": [
    "def my_add(num1, num2, num3=0): # num3은 기본값을 갖는 인수\n",
    "                                # 기본값을 갖는 인수는 순서인수 뒤에\n",
    "    return num1 + num2 + num3\n",
    "print(my_add(1, 2, 3))\n",
    "print(my_add(1, 2))"
   ]
  },
  {
   "cell_type": "markdown",
   "id": "2f23875d-cac6-44c5-9729-3c0e9ff7df7c",
   "metadata": {},
   "source": [
    "## 1.2 docstring\n",
    "- 함수 도움말 (shift + tab으로 볼 수 있음)"
   ]
  },
  {
   "cell_type": "code",
   "execution_count": 18,
   "id": "2c4ee776-6d0e-4c5a-b8e7-a8776bb684ee",
   "metadata": {},
   "outputs": [],
   "source": [
    "def fibonacci(n):\n",
    "    \"\"\"\n",
    "    인수로 들어온 n값 미만의 피보나치 수열을 출력하는 함수\n",
    "    ex. 인수로 10 : 0, 1, 1, 2, 3, 5, 8\n",
    "    ex. 인수로  5 : 0, 1, 1, 2, 3\n",
    "    \"\"\"\n",
    "    a, b = 0, 1 # (a, b) = (0, 1)\n",
    "    while a < n:\n",
    "        print(a, end='. ')\n",
    "        a, b = b, a+b\n",
    "    print() # 개행"
   ]
  },
  {
   "cell_type": "code",
   "execution_count": 19,
   "id": "7968e14b-b184-46a4-831d-6eae156f7ad0",
   "metadata": {},
   "outputs": [
    {
     "name": "stdout",
     "output_type": "stream",
     "text": [
      "0. 1. 1. 2. 3. 5. 8. 13. 21. 34. 55. 89. \n"
     ]
    }
   ],
   "source": [
    "fibonacci(100)"
   ]
  },
  {
   "cell_type": "code",
   "execution_count": 20,
   "id": "8b0a3519-72c5-493f-ad28-00827d9ad16e",
   "metadata": {},
   "outputs": [
    {
     "data": {
      "text/plain": [
       "function"
      ]
     },
     "execution_count": 20,
     "metadata": {},
     "output_type": "execute_result"
    }
   ],
   "source": [
    "type(fibonacci)"
   ]
  },
  {
   "cell_type": "code",
   "execution_count": 21,
   "id": "96afda89-4194-4bc0-91e2-7ab1fd3c183b",
   "metadata": {},
   "outputs": [
    {
     "data": {
      "text/plain": [
       "<function __main__.fibonacci(n)>"
      ]
     },
     "execution_count": 21,
     "metadata": {},
     "output_type": "execute_result"
    }
   ],
   "source": [
    "fibonacci"
   ]
  },
  {
   "cell_type": "code",
   "execution_count": 22,
   "id": "0f42d94f-097b-4096-8009-fe5e931b92b1",
   "metadata": {},
   "outputs": [
    {
     "data": {
      "text/plain": [
       "'__main__'"
      ]
     },
     "execution_count": 22,
     "metadata": {},
     "output_type": "execute_result"
    }
   ],
   "source": [
    "__name__"
   ]
  },
  {
   "cell_type": "code",
   "execution_count": 23,
   "id": "50f80dd3-ab57-419f-a70a-4ed000db949d",
   "metadata": {},
   "outputs": [
    {
     "name": "stdout",
     "output_type": "stream",
     "text": [
      "0. 1. 1. 2. 3. 5. 8. 13. 21. 34. 55. 89. \n"
     ]
    }
   ],
   "source": [
    "if __name__ == '__main__': # main 영역에서 수행될때\n",
    "    fibonacci(100)"
   ]
  },
  {
   "cell_type": "code",
   "execution_count": 28,
   "id": "e59f5e54-12e4-4726-b08a-bfb31861cd3b",
   "metadata": {},
   "outputs": [],
   "source": [
    "import fibonacci as fibo # fibonacci.py가 해석되서 메모리 로드"
   ]
  },
  {
   "cell_type": "code",
   "execution_count": 29,
   "id": "ee98c8bd-a51e-45cb-bd10-170822f6f19b",
   "metadata": {},
   "outputs": [
    {
     "name": "stdout",
     "output_type": "stream",
     "text": [
      "0. 1. 1. 2. 3. 5. 8. 13. 21. 34. 55. 89. \n"
     ]
    }
   ],
   "source": [
    "fibo.fibonacci(100)"
   ]
  },
  {
   "cell_type": "markdown",
   "id": "7b82b653-4778-414e-b8fb-155916cb99b9",
   "metadata": {},
   "source": [
    "## 1.3 지역변수(local var)와 전역변수(global var)"
   ]
  },
  {
   "cell_type": "code",
   "execution_count": 30,
   "id": "51c1ead9-e1eb-4870-a9f6-6a0a57ae196d",
   "metadata": {},
   "outputs": [
    {
     "name": "stdout",
     "output_type": "stream",
     "text": [
      "100\n",
      "100\n"
     ]
    }
   ],
   "source": [
    "global_var = 100 # 전역변수\n",
    "def func1():\n",
    "    print(global_var)\n",
    "func1()\n",
    "print(global_var)"
   ]
  },
  {
   "cell_type": "code",
   "execution_count": 31,
   "id": "ae94d857-06e8-427c-aa3a-f4151f5eb51a",
   "metadata": {},
   "outputs": [
    {
     "name": "stdout",
     "output_type": "stream",
     "text": [
      "100\n"
     ]
    }
   ],
   "source": [
    "def func2():\n",
    "    local_var = 100 # 지역변수 : 함수내에서만 사용 가능한 변수\n",
    "    print(local_var)\n",
    "func2()"
   ]
  },
  {
   "cell_type": "code",
   "execution_count": 36,
   "id": "78632240-2b36-4aa4-9158-3b056976490f",
   "metadata": {},
   "outputs": [
    {
     "name": "stdout",
     "output_type": "stream",
     "text": [
      "200\n"
     ]
    }
   ],
   "source": [
    "g_var = 100 # 전역변수\n",
    "def func3():\n",
    "    g_var = 200 # 지역변수 선언\n",
    "    print(g_var)\n",
    "func3()"
   ]
  },
  {
   "cell_type": "code",
   "execution_count": 35,
   "id": "181b5719-d1ba-4f9d-8b05-910ee6b967e8",
   "metadata": {},
   "outputs": [
    {
     "data": {
      "text/plain": [
       "100"
      ]
     },
     "execution_count": 35,
     "metadata": {},
     "output_type": "execute_result"
    }
   ],
   "source": [
    "g_var"
   ]
  },
  {
   "cell_type": "markdown",
   "id": "c5763f80-9236-437c-a2f5-5be71895b69c",
   "metadata": {},
   "source": [
    "## 1.4 Lexical 특성"
   ]
  },
  {
   "cell_type": "code",
   "execution_count": 37,
   "id": "da5dc52f-6bab-4f33-8bd5-42358072e7fb",
   "metadata": {},
   "outputs": [
    {
     "ename": "UnboundLocalError",
     "evalue": "cannot access local variable 'g_var' where it is not associated with a value",
     "output_type": "error",
     "traceback": [
      "\u001b[1;31m---------------------------------------------------------------------------\u001b[0m",
      "\u001b[1;31mUnboundLocalError\u001b[0m                         Traceback (most recent call last)",
      "Cell \u001b[1;32mIn[37], line 6\u001b[0m\n\u001b[0;32m      4\u001b[0m     g_var \u001b[38;5;241m=\u001b[39m \u001b[38;5;241m200\u001b[39m \u001b[38;5;66;03m# 지역변수 선언\u001b[39;00m\n\u001b[0;32m      5\u001b[0m     \u001b[38;5;28mprint\u001b[39m(g_var)\n\u001b[1;32m----> 6\u001b[0m func3()\n",
      "Cell \u001b[1;32mIn[37], line 3\u001b[0m, in \u001b[0;36mfunc3\u001b[1;34m()\u001b[0m\n\u001b[0;32m      2\u001b[0m \u001b[38;5;28;01mdef\u001b[39;00m \u001b[38;5;21mfunc3\u001b[39m():\n\u001b[1;32m----> 3\u001b[0m     \u001b[38;5;28mprint\u001b[39m(g_var)\n\u001b[0;32m      4\u001b[0m     g_var \u001b[38;5;241m=\u001b[39m \u001b[38;5;241m200\u001b[39m \u001b[38;5;66;03m# 지역변수 선언\u001b[39;00m\n\u001b[0;32m      5\u001b[0m     \u001b[38;5;28mprint\u001b[39m(g_var)\n",
      "\u001b[1;31mUnboundLocalError\u001b[0m: cannot access local variable 'g_var' where it is not associated with a value"
     ]
    }
   ],
   "source": [
    "g_var = 100 # 전역변수\n",
    "def func3():\n",
    "    print(g_var) # 선언문을 먼저 컴파일한다. 지역변수로 선언했는데 할당되기 전에 print할 수 없다.\n",
    "    g_var = 200 # 지역변수 선언\n",
    "    print(g_var)\n",
    "func3()"
   ]
  },
  {
   "cell_type": "markdown",
   "id": "0a27b967-0152-4347-ab37-6d8e21c57f5a",
   "metadata": {},
   "source": [
    "## 1.5 전역변수 수정"
   ]
  },
  {
   "cell_type": "code",
   "execution_count": 38,
   "id": "165d7e5a-529a-43f0-8dc0-1f96ca23ec65",
   "metadata": {},
   "outputs": [
    {
     "name": "stdout",
     "output_type": "stream",
     "text": [
      "100\n",
      "200\n"
     ]
    }
   ],
   "source": [
    "g_var = 100 \n",
    "def func3():\n",
    "    global g_var # 함수내에서의 g_var 전역변수를 쓸거야\n",
    "    print(g_var) \n",
    "    g_var = 200 # 전역변수에 값을 할당\n",
    "    print(g_var)\n",
    "func3()"
   ]
  },
  {
   "cell_type": "code",
   "execution_count": 39,
   "id": "b8359704-53b0-42de-9ebb-83a28a8b7abd",
   "metadata": {},
   "outputs": [
    {
     "data": {
      "text/plain": [
       "200"
      ]
     },
     "execution_count": 39,
     "metadata": {},
     "output_type": "execute_result"
    }
   ],
   "source": [
    "g_var"
   ]
  },
  {
   "cell_type": "markdown",
   "id": "0ee7bc92-3f66-4d76-9358-8b937d130522",
   "metadata": {},
   "source": [
    "## 1.6 값에 의한 호출 (call by value)\n",
    "- 함수에 인수로 전달되는 변수가 스칼라 변수(숫자, 문자, 논리)일 경우"
   ]
  },
  {
   "cell_type": "code",
   "execution_count": 40,
   "id": "793886a5-0c2c-454a-8f76-d317b3c72349",
   "metadata": {},
   "outputs": [
    {
     "data": {
      "text/plain": [
       "2440674874096"
      ]
     },
     "execution_count": 40,
     "metadata": {},
     "output_type": "execute_result"
    }
   ],
   "source": [
    "foo = 'ab' # 스말라 변수\n",
    "id(foo)"
   ]
  },
  {
   "cell_type": "code",
   "execution_count": 41,
   "id": "00aa6bc7-8d80-4089-865e-2849dce30f72",
   "metadata": {},
   "outputs": [
    {
     "name": "stdout",
     "output_type": "stream",
     "text": [
      "Before : ab의 주소는 2440674874096\n",
      "After : ababab의 주소는 2440805144176\n",
      "함수 호출 후 foo : ab의 주소는 2440674874096\n"
     ]
    }
   ],
   "source": [
    "def func1(f):\n",
    "    print(\"Before : {}의 주소는 {}\".format(f, id(f)))\n",
    "    f *= 3 # 매개변수는 지역변수\n",
    "    print(\"After : {}의 주소는 {}\".format(f, id(f)))\n",
    "func1(foo)\n",
    "print(\"함수 호출 후 foo : {}의 주소는 {}\".format(foo, id(foo)))"
   ]
  },
  {
   "cell_type": "markdown",
   "id": "db5e14cf-47b6-450e-b08e-f8f171240c11",
   "metadata": {},
   "source": [
    "## 1.7 참조에 의한 호출 (call by reference)\n",
    "- 함수에 전달되는 인수가 리스트, 딕셔너리, 셋일 경우"
   ]
  },
  {
   "cell_type": "code",
   "execution_count": 42,
   "id": "03b01651-06db-4ce4-a1f6-232d77ce1f71",
   "metadata": {},
   "outputs": [
    {
     "name": "stdout",
     "output_type": "stream",
     "text": [
      "L의 내용은 [1, 2, 3], 주소는 2440805360512\n"
     ]
    }
   ],
   "source": [
    "L = [1, 2, 3]\n",
    "print(\"L의 내용은 {}, 주소는 {}\".format(L, id(L)))"
   ]
  },
  {
   "cell_type": "code",
   "execution_count": 44,
   "id": "5ac5199c-9ce3-4cb2-91ac-4b48901f4c86",
   "metadata": {},
   "outputs": [
    {
     "name": "stdout",
     "output_type": "stream",
     "text": [
      "함수 내 befer : L의 내용은 [1, 2, 3, 4], 주소는 2440805360512\n",
      "함수 내 befer : L의 내용은 [1, 2, 3, 4, 4], 주소는 2440805360512\n",
      "L의 내용은 [1, 2, 3, 4, 4], 주소는 2440805360512\n"
     ]
    }
   ],
   "source": [
    "def func2(f):\n",
    "    print(\"함수 내 befer : L의 내용은 {}, 주소는 {}\".format(L, id(L)))\n",
    "    f.append(4)\n",
    "    print(\"함수 내 befer : L의 내용은 {}, 주소는 {}\".format(L, id(L)))\n",
    "func2(L)\n",
    "print(\"L의 내용은 {}, 주소는 {}\".format(L, id(L)))"
   ]
  },
  {
   "cell_type": "markdown",
   "id": "7c03514f-98b0-4671-8232-23a6b3a441c6",
   "metadata": {},
   "source": [
    "# 2절 함수의 실행결과를 반환하는 return\n",
    "- 여러 개의 값을 반환할 수 있다 (하나의 튜플로 반환)"
   ]
  },
  {
   "cell_type": "code",
   "execution_count": 45,
   "id": "563448ad-ed15-4677-8e53-c10565f5ddf7",
   "metadata": {},
   "outputs": [],
   "source": [
    "# 여러값을 return\n",
    "def swap(a, b):\n",
    "    return b, a"
   ]
  },
  {
   "cell_type": "code",
   "execution_count": 46,
   "id": "92aea526-5a7f-4046-a8cb-10f09b0448e7",
   "metadata": {},
   "outputs": [
    {
     "name": "stdout",
     "output_type": "stream",
     "text": [
      "함수 실행 전 x = 5, y = 10\n",
      "함수 실행 후 x = 10, y = 5\n"
     ]
    }
   ],
   "source": [
    "x, y = 5, 10\n",
    "print(\"함수 실행 전 x = {}, y = {}\".format(x, y))\n",
    "x, y = swap(x, y)\n",
    "print(\"함수 실행 후 x = {}, y = {}\".format(x, y))"
   ]
  },
  {
   "cell_type": "markdown",
   "id": "42cf94bf-72ba-4479-81b0-cbde135a1c46",
   "metadata": {},
   "source": [
    "# 3절 함수의 배개변수\n",
    "## 3.1 기본값을 갖는 매개변수"
   ]
  },
  {
   "cell_type": "code",
   "execution_count": 47,
   "id": "53976fcc-e9ed-4804-95c3-7025558096b1",
   "metadata": {},
   "outputs": [],
   "source": [
    "def make_url(ip, port=80):\n",
    "    # 순서인수, 기본값을 갖는 인수 순으로\n",
    "    return \"http://{}:{}\".format(ip, port)"
   ]
  },
  {
   "cell_type": "code",
   "execution_count": 48,
   "id": "2359efd9-fed4-4554-b0e0-b1a666a8a3ea",
   "metadata": {},
   "outputs": [
    {
     "name": "stdout",
     "output_type": "stream",
     "text": [
      "http://localhost:80\n",
      "http://localhost:8090\n",
      "http://localhost:8090\n"
     ]
    }
   ],
   "source": [
    "print(make_url(\"localhost\"))\n",
    "print(make_url(\"localhost\", 8090))\n",
    "print(make_url(port=8090, ip=\"localhost\"))"
   ]
  },
  {
   "cell_type": "markdown",
   "id": "449d4a15-6178-42c9-bb18-907174f02521",
   "metadata": {},
   "source": [
    "## 3.2 튜플을 매개변수로 이용한 가변인수 설정"
   ]
  },
  {
   "cell_type": "code",
   "execution_count": 56,
   "id": "eaed0183-9e09-4962-888f-460be7ddea51",
   "metadata": {},
   "outputs": [],
   "source": [
    "# args앞에 * : args가 튜플로 전달\n",
    "def add(*args):\n",
    "    print(\"전달받은 args : \", args)\n",
    "    print(type(args))\n",
    "    sum = 0\n",
    "    for num in args:\n",
    "        sum += num;\n",
    "    return sum"
   ]
  },
  {
   "cell_type": "code",
   "execution_count": 59,
   "id": "7c4b30a1-9538-4d98-ad24-0c2a39692f6c",
   "metadata": {},
   "outputs": [
    {
     "name": "stdout",
     "output_type": "stream",
     "text": [
      "전달받은 args :  (1, 2, 3)\n",
      "<class 'tuple'>\n"
     ]
    },
    {
     "data": {
      "text/plain": [
       "6"
      ]
     },
     "execution_count": 59,
     "metadata": {},
     "output_type": "execute_result"
    }
   ],
   "source": [
    "add(1, 2, 3)"
   ]
  },
  {
   "cell_type": "code",
   "execution_count": 60,
   "id": "50fa499a-c65a-4988-bb61-6c80ed1f5976",
   "metadata": {},
   "outputs": [],
   "source": [
    "def concat(*args, sep):\n",
    "    return sep.join(args)"
   ]
  },
  {
   "cell_type": "code",
   "execution_count": 62,
   "id": "1adf7d91-ba7a-4be8-ae2c-ad97da116de1",
   "metadata": {},
   "outputs": [
    {
     "ename": "TypeError",
     "evalue": "concat() missing 1 required keyword-only argument: 'sep'",
     "output_type": "error",
     "traceback": [
      "\u001b[1;31m---------------------------------------------------------------------------\u001b[0m",
      "\u001b[1;31mTypeError\u001b[0m                                 Traceback (most recent call last)",
      "Cell \u001b[1;32mIn[62], line 1\u001b[0m\n\u001b[1;32m----> 1\u001b[0m concat(\u001b[38;5;124m\"\u001b[39m\u001b[38;5;124mC\u001b[39m\u001b[38;5;124m\"\u001b[39m, \u001b[38;5;124m\"\u001b[39m\u001b[38;5;124mPython\u001b[39m\u001b[38;5;124m\"\u001b[39m, \u001b[38;5;124m\"\u001b[39m\u001b[38;5;124mOracle\u001b[39m\u001b[38;5;124m\"\u001b[39m, \u001b[38;5;124m\"\u001b[39m\u001b[38;5;124m~\u001b[39m\u001b[38;5;124m\"\u001b[39m)\n",
      "\u001b[1;31mTypeError\u001b[0m: concat() missing 1 required keyword-only argument: 'sep'"
     ]
    }
   ],
   "source": [
    "concat(\"C\", \"Python\", \"Oracle\", \"~\")"
   ]
  },
  {
   "cell_type": "code",
   "execution_count": 63,
   "id": "19a14c0f-42e8-43d6-ae0c-5bfcbcc84a7e",
   "metadata": {},
   "outputs": [
    {
     "data": {
      "text/plain": [
       "'C~Python~Oracle'"
      ]
     },
     "execution_count": 63,
     "metadata": {},
     "output_type": "execute_result"
    }
   ],
   "source": [
    "# 해결책1\n",
    "concat(\"C\", \"Python\", \"Oracle\", sep=\"~\")"
   ]
  },
  {
   "cell_type": "code",
   "execution_count": 64,
   "id": "3201eca4-1811-4b9f-9a25-16c382e217ac",
   "metadata": {},
   "outputs": [],
   "source": [
    "# 해결책2\n",
    "def concat(sep, *args): # 순서인수 > 튜플인수\n",
    "    return sep.join(args)"
   ]
  },
  {
   "cell_type": "code",
   "execution_count": 65,
   "id": "701a6752-c825-4138-af6d-7ab6c0cd8be4",
   "metadata": {},
   "outputs": [
    {
     "data": {
      "text/plain": [
       "'C~Python~Oracle'"
      ]
     },
     "execution_count": 65,
     "metadata": {},
     "output_type": "execute_result"
    }
   ],
   "source": [
    "concat(\"~\", \"C\", \"Python\", \"Oracle\")"
   ]
  },
  {
   "cell_type": "code",
   "execution_count": 67,
   "id": "787d1f67-494c-469e-9bc0-5c36e291aff1",
   "metadata": {},
   "outputs": [],
   "source": [
    "# 해결책3\n",
    "def concat(*args, sep='/'): # 순서인수 > 튜플인수 > 키워드인수\n",
    "    return sep.join(args)"
   ]
  },
  {
   "cell_type": "code",
   "execution_count": 68,
   "id": "2450b389-bbd0-4fe0-b076-d7d08b5e4e22",
   "metadata": {},
   "outputs": [
    {
     "data": {
      "text/plain": [
       "'C/Python/Oracle/~'"
      ]
     },
     "execution_count": 68,
     "metadata": {},
     "output_type": "execute_result"
    }
   ],
   "source": [
    "concat(\"C\", \"Python\", \"Oracle\", \"~\")"
   ]
  },
  {
   "cell_type": "code",
   "execution_count": 69,
   "id": "8695031c-79a5-4dd0-a191-0691b58c012f",
   "metadata": {},
   "outputs": [
    {
     "data": {
      "text/plain": [
       "'C~Python~Oracle'"
      ]
     },
     "execution_count": 69,
     "metadata": {},
     "output_type": "execute_result"
    }
   ],
   "source": [
    "concat(\"C\", \"Python\", \"Oracle\", sep=\"~\")"
   ]
  },
  {
   "cell_type": "markdown",
   "id": "b0122a20-4222-4a88-b53e-ef77743bbf61",
   "metadata": {},
   "source": [
    "## 3.3 딕셔너리 매개변수"
   ]
  },
  {
   "cell_type": "code",
   "execution_count": 72,
   "id": "d4da872d-ccf4-4399-b4a3-3c44d35efbd0",
   "metadata": {},
   "outputs": [],
   "source": [
    "def func(**args): # args가 딕셔너리로 전달\n",
    "    print(args)\n",
    "    print(type(args))\n",
    "    for key, value in args.items():\n",
    "        print(\"{} : {}\".format(key, value))"
   ]
  },
  {
   "cell_type": "code",
   "execution_count": 73,
   "id": "b1ee16a1-c88d-46e4-897e-a4accf9d90ac",
   "metadata": {},
   "outputs": [
    {
     "name": "stdout",
     "output_type": "stream",
     "text": [
      "{'name': '홍길동', 'age': 20}\n",
      "<class 'dict'>\n",
      "name : 홍길동\n",
      "age : 20\n"
     ]
    }
   ],
   "source": [
    "func(name='홍길동', age=20)"
   ]
  },
  {
   "cell_type": "code",
   "execution_count": 74,
   "id": "0e1fac73-6f6b-4d5d-a0db-a1c4ed18a94c",
   "metadata": {},
   "outputs": [
    {
     "name": "stdout",
     "output_type": "stream",
     "text": [
      "{'gameName': '서바이벌', 'year': 2024, 'price': 33000}\n",
      "<class 'dict'>\n",
      "gameName : 서바이벌\n",
      "year : 2024\n",
      "price : 33000\n"
     ]
    }
   ],
   "source": [
    "func(gameName=\"서바이벌\", year=2024, price=33000)"
   ]
  },
  {
   "cell_type": "markdown",
   "id": "aae8b83e-696d-4a2a-9e3a-192dba41049c",
   "metadata": {},
   "source": [
    "## 3.4 함수 정의시 매개변수의 순서\n",
    "- 순서인수 > 튜풀인수(*) > 키워드인수(매개변수이름을 명시) > 딕셔너리인수(**)"
   ]
  },
  {
   "cell_type": "code",
   "execution_count": 75,
   "id": "8c949430-101c-4a36-80dd-b99b0327bb4a",
   "metadata": {},
   "outputs": [],
   "source": [
    "def func(a, b, c, *d, e=10, **f):\n",
    "    print('a =', a)\n",
    "    print('b =', b)\n",
    "    print('c =', c)\n",
    "    print('d =', d)\n",
    "    print('e =', e)\n",
    "    print('f =', f)"
   ]
  },
  {
   "cell_type": "code",
   "execution_count": 76,
   "id": "f2018cff-a604-484d-847c-4e1dfbdc9e5f",
   "metadata": {},
   "outputs": [
    {
     "name": "stdout",
     "output_type": "stream",
     "text": [
      "a = 10\n",
      "b = 20\n",
      "c = 30\n",
      "d = (1, 2, 3, 4, 5)\n",
      "e = 100\n",
      "f = {'height': 180, 'name': '홍길동', 'address': '서울시'}\n"
     ]
    }
   ],
   "source": [
    "func(10, 20, 30, 1, 2, 3, 4, 5, e=100, height=180, name=\"홍길동\", address=\"서울시\")"
   ]
  },
  {
   "cell_type": "markdown",
   "id": "01ebc870-3cad-4300-93c7-26234d04aaf6",
   "metadata": {},
   "source": [
    "## 3.5 인수의 언패킹\n",
    "### * 튜플 인수 언패킹"
   ]
  },
  {
   "cell_type": "code",
   "execution_count": 78,
   "id": "3b5bc9c1-23ee-4439-bd6d-7a64814ec51f",
   "metadata": {},
   "outputs": [],
   "source": [
    "def add(*args):\n",
    "    # print(\"전달받은 args : \", args)\n",
    "    # print(type(args))\n",
    "    sum = 0\n",
    "    for num in args:\n",
    "        sum += num;\n",
    "    return sum"
   ]
  },
  {
   "cell_type": "code",
   "execution_count": 87,
   "id": "117ec15a-1b46-4aa2-b9af-0b10b76cfcb3",
   "metadata": {},
   "outputs": [
    {
     "data": {
      "text/plain": [
       "6"
      ]
     },
     "execution_count": 87,
     "metadata": {},
     "output_type": "execute_result"
    }
   ],
   "source": [
    "data = (1, 2, 3) # 이미 튜플로 되어 있으면 그대로 넣으면 안된다\n",
    "add(*data)"
   ]
  },
  {
   "cell_type": "markdown",
   "id": "eac2b79b-5d82-4901-b457-2ed373b2852e",
   "metadata": {},
   "source": [
    "### * 딕셔너리 인수 언패킹"
   ]
  },
  {
   "cell_type": "code",
   "execution_count": 89,
   "id": "d56659d5-90cb-4500-97e4-98d308a1899d",
   "metadata": {},
   "outputs": [],
   "source": [
    "def func(**args): # args가 딕셔너리로 전달\n",
    "    # print(args)\n",
    "    # print(type(args))\n",
    "    for key, value in args.items():\n",
    "        print(\"{} : {}\".format(key, value))"
   ]
  },
  {
   "cell_type": "code",
   "execution_count": 91,
   "id": "3b10136c-a32d-42ce-a243-48e2c6769764",
   "metadata": {},
   "outputs": [
    {
     "name": "stdout",
     "output_type": "stream",
     "text": [
      "name : 홍길동\n",
      "age : 30\n"
     ]
    }
   ],
   "source": [
    "dic = {\"name\":\"홍길동\", \"age\":30}\n",
    "func(**dic)"
   ]
  },
  {
   "cell_type": "markdown",
   "id": "0d4c2fce-e024-4a94-ab83-cce9f418ef50",
   "metadata": {},
   "source": [
    "# 4절 람다식\n",
    "- 람다식은 작은 익명함수를 의미함\n",
    "- 실행할 문장을 한문장만 작성할 수 있음\n",
    "- 리스트 컴프리헨션과 같이 참조해서 학습 추천\n",
    "- ex. map(), filter()에서 사용할 예정"
   ]
  },
  {
   "cell_type": "code",
   "execution_count": 92,
   "id": "c2b00d39-e888-4b30-9414-2beb5b7189e4",
   "metadata": {},
   "outputs": [
    {
     "data": {
      "text/plain": [
       "8"
      ]
     },
     "execution_count": 92,
     "metadata": {},
     "output_type": "execute_result"
    }
   ],
   "source": [
    "# 일반함수\n",
    "def add(a, b):\n",
    "    return a + b\n",
    "add(3, 5)"
   ]
  },
  {
   "cell_type": "code",
   "execution_count": 93,
   "id": "6da7c94a-90ae-438b-bd82-0522da950589",
   "metadata": {},
   "outputs": [
    {
     "data": {
      "text/plain": [
       "function"
      ]
     },
     "execution_count": 93,
     "metadata": {},
     "output_type": "execute_result"
    }
   ],
   "source": [
    "type(add)"
   ]
  },
  {
   "cell_type": "code",
   "execution_count": 95,
   "id": "b619f77b-2d54-473e-b5fb-60dc76aeae0c",
   "metadata": {},
   "outputs": [],
   "source": [
    "# 람다식 # 함수 매개변수로 람다 함수를 넣기 위해 사용\n",
    "add = lambda a, b : a + b"
   ]
  },
  {
   "cell_type": "code",
   "execution_count": 96,
   "id": "7dbc720d-121f-490e-8ab9-42d4aa10785a",
   "metadata": {},
   "outputs": [
    {
     "data": {
      "text/plain": [
       "10"
      ]
     },
     "execution_count": 96,
     "metadata": {},
     "output_type": "execute_result"
    }
   ],
   "source": [
    "add(5, 5)"
   ]
  },
  {
   "cell_type": "code",
   "execution_count": 97,
   "id": "d757de5e-d6d8-492b-9df1-2e21d76ea465",
   "metadata": {},
   "outputs": [
    {
     "data": {
      "text/plain": [
       "function"
      ]
     },
     "execution_count": 97,
     "metadata": {},
     "output_type": "execute_result"
    }
   ],
   "source": [
    "type(add)"
   ]
  },
  {
   "cell_type": "code",
   "execution_count": 98,
   "id": "c2e5bc8e-1076-4da9-aea0-ed703bb6018b",
   "metadata": {},
   "outputs": [
    {
     "data": {
      "text/plain": [
       "11"
      ]
     },
     "execution_count": 98,
     "metadata": {},
     "output_type": "execute_result"
    }
   ],
   "source": [
    "(lambda a, b : a + b)(5, 6) "
   ]
  },
  {
   "cell_type": "markdown",
   "id": "9eb08a7e-7bbe-4a4a-94a8-e830dfce5d51",
   "metadata": {},
   "source": [
    "## * 매개변수로 람다식 이용"
   ]
  },
  {
   "cell_type": "code",
   "execution_count": 99,
   "id": "7b9cb77c-cb57-4c74-ab3e-f4ad163e761d",
   "metadata": {},
   "outputs": [
    {
     "data": {
      "text/plain": [
       "9"
      ]
     },
     "execution_count": 99,
     "metadata": {},
     "output_type": "execute_result"
    }
   ],
   "source": [
    "f = lambda x : x**2\n",
    "f(3)"
   ]
  },
  {
   "cell_type": "code",
   "execution_count": 101,
   "id": "278b7ace-d101-4ddd-b564-bb503c2b8b5d",
   "metadata": {},
   "outputs": [],
   "source": [
    "def map_template(func, L=[]):\n",
    "    result = []\n",
    "    for data in L:\n",
    "        result.append(func(data))\n",
    "    return result"
   ]
  },
  {
   "cell_type": "code",
   "execution_count": 103,
   "id": "be49945e-a94b-4bc4-a0bb-eae901adca00",
   "metadata": {},
   "outputs": [
    {
     "data": {
      "text/plain": [
       "[1, 4, 9, 16, 25]"
      ]
     },
     "execution_count": 103,
     "metadata": {},
     "output_type": "execute_result"
    }
   ],
   "source": [
    "list_data = [1, 2, 3, 4, 5]\n",
    "# map_template(f, list_data)\n",
    "map_template(lambda x : x**2, list_data)"
   ]
  },
  {
   "cell_type": "code",
   "execution_count": 104,
   "id": "853e7833-90ac-4878-85e0-b9b64a27dafb",
   "metadata": {},
   "outputs": [
    {
     "data": {
      "text/plain": [
       "[2, 4, 6, 8, 10]"
      ]
     },
     "execution_count": 104,
     "metadata": {},
     "output_type": "execute_result"
    }
   ],
   "source": [
    "list(map(lambda x : x*2, list_data))"
   ]
  },
  {
   "cell_type": "code",
   "execution_count": 105,
   "id": "6f75ee9e-d559-460a-8de2-687b3466cfcf",
   "metadata": {},
   "outputs": [
    {
     "data": {
      "text/plain": [
       "[2, 4, 6, 8, 10]"
      ]
     },
     "execution_count": 105,
     "metadata": {},
     "output_type": "execute_result"
    }
   ],
   "source": [
    "# 리스트 컴프리헨션이용\n",
    "[x*2 for x in list_data]"
   ]
  },
  {
   "cell_type": "code",
   "execution_count": 106,
   "id": "45f66fac-9595-4961-8746-7490a13aa2e3",
   "metadata": {},
   "outputs": [],
   "source": [
    "list_data = [1, 2, 3, 4, 5]"
   ]
  },
  {
   "cell_type": "code",
   "execution_count": 107,
   "id": "bd107a3a-a2ca-41b5-b107-2657560fd31a",
   "metadata": {},
   "outputs": [],
   "source": [
    "def filter_template(func, L=[]):\n",
    "    result = []\n",
    "    for data in L:\n",
    "        if func(data):\n",
    "            result.append(data)\n",
    "    return result"
   ]
  },
  {
   "cell_type": "code",
   "execution_count": 109,
   "id": "bb341bd6-4343-43cc-b633-09cc38305932",
   "metadata": {},
   "outputs": [
    {
     "data": {
      "text/plain": [
       "[2, 4]"
      ]
     },
     "execution_count": 109,
     "metadata": {},
     "output_type": "execute_result"
    }
   ],
   "source": [
    "filter_template(lambda x : x % 2 == 0, list_data)"
   ]
  },
  {
   "cell_type": "code",
   "execution_count": 110,
   "id": "6593c0ad-0229-4c03-a931-084a3782ab54",
   "metadata": {},
   "outputs": [
    {
     "data": {
      "text/plain": [
       "[2, 4]"
      ]
     },
     "execution_count": 110,
     "metadata": {},
     "output_type": "execute_result"
    }
   ],
   "source": [
    "list(filter(lambda x : x % 2 == 0, list_data))"
   ]
  },
  {
   "cell_type": "code",
   "execution_count": 111,
   "id": "c4bfc3b3-b110-4075-903d-cc7636dd5879",
   "metadata": {},
   "outputs": [
    {
     "data": {
      "text/plain": [
       "[2, 4]"
      ]
     },
     "execution_count": 111,
     "metadata": {},
     "output_type": "execute_result"
    }
   ],
   "source": [
    "# 리스트컴프리헨션 이용\n",
    "[x for x in list_data if x % 2 == 0]"
   ]
  },
  {
   "cell_type": "markdown",
   "id": "a195d748-f018-4f7f-b63d-92c7d17fc6b4",
   "metadata": {},
   "source": [
    "# 5절 파이썬 내장함수\n",
    "- print처럼 import하지 않고 즉시 사용 가능한 함수"
   ]
  },
  {
   "cell_type": "markdown",
   "id": "f3086927-1a1a-4c1a-a995-bfeefbc55683",
   "metadata": {},
   "source": [
    "# 연습문제"
   ]
  },
  {
   "cell_type": "code",
   "execution_count": 112,
   "id": "eb275a89-7684-400c-9b9d-1d0da331dc39",
   "metadata": {},
   "outputs": [],
   "source": [
    "# 1. 함수의 인자로 리스트를 받은 후, 리스트 내에 있는 모든 정수값에 대하여 최대값과 최소값을 return하는 함수 get_max_min(data_list)를 구현하고 호출하시오"
   ]
  },
  {
   "cell_type": "code",
   "execution_count": 159,
   "id": "a75241e8-6be9-4d9e-a8f9-db5c40af2611",
   "metadata": {},
   "outputs": [],
   "source": [
    "# 2. 1 ~ 45사이의 로또번호 6개를 반환하는 make_lotto()함수를 정의하고 호출하시오  \n",
    "import random\n",
    "def make_lotto():  \n",
    "    lotto = set()\n",
    "    while len(lotto) < 6:\n",
    "        num = random.randint(1, 45)\n",
    "        lotto.add(num)\n",
    "    lotto = list(lotto)\n",
    "    lotto.sort()\n",
    "    print(lotto)"
   ]
  },
  {
   "cell_type": "code",
   "execution_count": 121,
   "id": "9f03f0e5-3337-4ade-a18f-d81a0a752e3a",
   "metadata": {},
   "outputs": [
    {
     "name": "stdout",
     "output_type": "stream",
     "text": [
      "[7, 14, 15, 31, 34, 35]\n"
     ]
    }
   ],
   "source": [
    "make_lotto()"
   ]
  },
  {
   "cell_type": "code",
   "execution_count": 117,
   "id": "60f10ef9-ca3f-4425-aceb-a539f4260041",
   "metadata": {},
   "outputs": [],
   "source": [
    "# 3. 369게임은 숫자에 3, 6, 9가 들어가면 박수를 치고, 나머지는 숫자는 그대로 이야기하는 게임이다. 369게임을 시뮬레이션하는 함수를 정의하라"
   ]
  },
  {
   "cell_type": "code",
   "execution_count": 166,
   "id": "1697dc5e-e416-4f1a-8bb3-f62c345bbdd6",
   "metadata": {},
   "outputs": [],
   "source": [
    "def game_369(L):\n",
    "    result = []\n",
    "    for data in L: # 튜플과 리스트 모두 가능\n",
    "        data_str = str(data)\n",
    "        datastr_list = list(data_str)\n",
    "        clap = ''\n",
    "        for s in datastr_list:\n",
    "            if (int(s) != 0) & (int(s) % 3 == 0):\n",
    "                clap += '짝'\n",
    "        if clap:\n",
    "            result.append(clap)\n",
    "        else:\n",
    "            result.append(data)\n",
    "    return result"
   ]
  },
  {
   "cell_type": "code",
   "execution_count": 167,
   "id": "a5046f5c-07a2-4c3e-a5a1-47f3dbc6d8ca",
   "metadata": {},
   "outputs": [
    {
     "data": {
      "text/plain": [
       "[1, 2, '짝', 4, 5, '짝', 7, 8, '짝', '짝', 20, '짝짝']"
      ]
     },
     "execution_count": 167,
     "metadata": {},
     "output_type": "execute_result"
    }
   ],
   "source": [
    "game_369([1, 2, 3, 4, 5, 6, 7, 8, 9, 13, 20, 33])"
   ]
  },
  {
   "cell_type": "code",
   "execution_count": null,
   "id": "f96dd82e-86f4-4651-9fe2-60eddc2f30cc",
   "metadata": {},
   "outputs": [],
   "source": []
  }
 ],
 "metadata": {
  "kernelspec": {
   "display_name": "Python 3 (ipykernel)",
   "language": "python",
   "name": "python3"
  },
  "language_info": {
   "codemirror_mode": {
    "name": "ipython",
    "version": 3
   },
   "file_extension": ".py",
   "mimetype": "text/x-python",
   "name": "python",
   "nbconvert_exporter": "python",
   "pygments_lexer": "ipython3",
   "version": "3.11.7"
  }
 },
 "nbformat": 4,
 "nbformat_minor": 5
}
