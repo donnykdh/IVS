


import numpy as np
print('제공되는 pi값은', np.pi)
r = 5
area = np.pi * r * r
print("계산된 넓이는", area)
print('area타입은', type(area))
print('area 주소는', id(area))


area = 10
print("area 값은", area)
print('area 타입은', type(area))
print('area 주소는', id(area))


area = '파이썬이 좋아요'
print("area 값은", area)
print('area 타입은', type(area))
print('area 주소는', id(area))





# 파이썬 변수는 함수 할당 가능
print = 5


print('a') # 함수 기능이 사라짐


del print





i = 3 + 3j #복소수
type(i)


a, b = 10, 20 #다중 선언


a, b


a, b = b, a+b #다중 선언
print('a = ', a, '\t b = ', b)





# 도움말 기능 : 함수내에서 shift+tab키
print('a', 'b', sep = '~')


def make_number(x, y = 0):
    """doc ctring(함수의 도움말)
    매개변수 2개를 이용해서 2자리 정수를 만들어요
    x = 10의 자리수
    y = 1의 자리수 (default값 0)
    """
    return x * 10 + y


make_number(3, 2)


make_number(5) # y입력안하면 0


make = make_number # 함수를 변수에 할당


make(6)





del make


make(6)





first = input('첫번째 숫자는?') # 문자로 return
second = input('두번째 숫자는?')


print('두수의 합은 {}'.format(first + second)) # 문자 + 문자


first = int(input('첫번째 숫자는?')) # 형변환
second = int(input('두번째 숫자는?'))


print('두수의 합은 {}'.format(first + second))


print('Hello', 'world', sep='~', end='\t')
print('Hello', 'Python')








name = "홍길동'님'"
name = '홍길동"님"'
address = "서울시 \"금천구\" \
가산디지털1로"


text = "안녕하세요\n홍길동입니다\n반갑습니다"
print(text)


text = """안녕하세요
홍길동입니다
반갑습니다
"""
print(text)


# 문자열 슬라이싱


str_ = "0123456789"
str_


str_[0 : 3] # 0번째부터 3번째 앞까지


str_[-3] # 음수인덱스는 뒤에서부터


str_[-5 : -1]


str_[5:] # 5번째 인덱스부터 끝까지


str_[:-5] # 처음부터 -5번째 앞까지


# str_[19] #없는 인덱스는 에러남
str_[5 : 19] # 슬라이싱에서는 인덱스를 벗어나면 끝까지


# str_[from : to : step]
print(str_[0 : 9 : 2]) # 0번째부터 9번째 앞까지 2씩 인덱스 증가해서
print(str_[ : : 2]) # 처음부터 끝까지 2씩 인덱스 증가해서


# 끝부터 처음까지 (거꾸로)
print(str_[9 : : -1])
print(str_[: : -1])





a = True
print(a)
print(type(a))
print(isinstance(a, bool)) # a가 bool형이냐?


# False로 간주하는 것 : 0, None, ""(빈스트링) ''(빈스트링) [] (), {}
# True로 간주하는 것 : " ", '\0'(NULL)


if 0+0j:
    print('True')
else:
    print('False')





int('10')


int('2000')


float(True)





name = "홍길동"
add = "서울시 금천구"
print("이름은 {0}, 주소는 {1}".format(name, add))


print("이름은 %s, 주소는 %s"%(name, add))


print(f"이름은 {name}, 주소는 {add}")


# format()함수
# - "{[인덱스] : [공백대체문자][정렬방법][자릿수][타입]}".format(변수명, ...)
#     - 정렬방법 : <(왼쪽정렬), >(오른쪽정렬), ^(가운데정렬)
#     - 타입 : d(10진수), x(16진수), b(2진수), f(실수), s(문자)


a = 10
s = 'Hello'
print(" [{0:$>10d}], [{1:*<20.2}]".format(a, s))





print( (10 > 3) & (10 > 5) ) # 논리 연산자 True & True


print( 12 & 1 ) # 비트연산 12 : 1 1 0 0
                #           1: 0 0 0 1
print( 12 | 1 )





'아' < '하'


'*' < '1' < 'A' < 'a' # 코드 순 : 특수문자 < 숫자 < 대문자 < 소문자


score = 85
80 <= score< 90 < 100





# 문자열을 다룰 수 있는 함수 목록
dir(str)


temp = 'Python is easy. Python is smart.'
#       01234567890123456789012345678901
print('대문자로 : ', temp.upper())
print('첫글자만 대문자 : ', temp.capitalize())
print('title() : ', temp.title())
print('count() : ', temp.count('Python'))
print('find() : ', temp.find('Python'))
print('rfind() : ', temp.rfind('Python'))
print("replace('Python', ' ') : ", temp.replace("Python", " "))
#print("startswith('Python') :", temp.startswitch("Py"))


temp = "    Python    "
print("temp : [{}]".format(temp))
print("strip : [{}]".format(temp.strip()))
print("lstrip : [{}]".format(temp.lstrip()))
print("rstrip : [{}]".format(temp.rstrip()))


print("첫번째 글자 : {}, 마지막 글자 : {}".format(temp[0], temp[-1]))


temp = 'Python is easy. Python is smart'
print('space단위로 분리하여 list로 반환 : ', temp.split())


temp = "2024-05-30"
temp_list = temp.split('-')
temp_join = '~'.join(temp_list)
print('년월일 분리 : ', temp_list)
print('연결된 temp :', temp_join)





from datetime import date
someday = date(2024, 5, 30)
someday


print("{:%Y년%m월%d일 %H시 %M분}".format(someday))


today = date.today() # 오늘
print("{:%Y년%m월%d일 %H시 %M분}".format(someday))





from datetime import datetime
now = datetime.today()
print("{:%Y년%m월%d일 %H시 %M분}".format(now))





# 1. 사용자로부터 이름과 나이 변수를 입력받아 다음 형식으로 출력하도록 format() 함수를 이용해 형식화하세요
# [출력형식 : 홍길동님의 나이는 23살입니다]
name = input('이름 : ')
age = int(input('나이 : '))
print('{}님의 나이는 {}살입니다'.format(name, age))


# 두 정수를 입력받아 두 수의 덧셈, 뺄셈, 곱셈, 나눗셈, 몫, 나머지를 출력하세요
num1 = int(input('숫자1 : '))
num2 = int(input('숫자2 : '))
print('{} + {} = {}'.format(num1, num2, num1 + num2))
print('{} - {} = {}'.format(num1, num2, num1 - num2))
print('{} * {} = {}'.format(num1, num2, num1 * num2))
try:
    print('{} // {} = {}'.format(num1, num2, num1 // num2))
    print('{} / {} = {}'.format(num1, num2, num1 / num2))
    print('{} % {} = {}'.format(num1, num2, num1 % num2))
except:
    print('두번째 정수에 0을 넣으면 안됩니다')


#3. 문자열의 분리하기와 합치기 기능을 이용하여 'Hello World'가 할당된 변수를 이용하여 'World Hello'로 출력하세요
str_ = 'Hello World'
str_.split()
#str_join = ' '.join([str_.split[1], str_.split[0]])


# 4. x = 'abcdef'를 이용하여 'bcdefa'로 출력하세요 (문자 슬라이싱이용)
x = 'abcdef'
print(x[1:]+x[0])



# 5. x = 'abcdef'를 이용하여 'fedcba'로 출력하세요


# 6. 오늘의 온도를 섭씨온도로 입력받아 화씨 온도로 변환하는 프로그램을 작성하세요. 화씨 온도는 소수점이 있을 경우만 두번째 자리까지 출력되고,
# 소수점이하 값이 없는 경우 소수점을 출력하지 않도록 합니다. (다음은 섭씨와 화씨의 변환 공식입니다. C는 섭씨, F는 화씨)
# C = (F - 32) / 1.8
# F = (C * 1.8) + 32



