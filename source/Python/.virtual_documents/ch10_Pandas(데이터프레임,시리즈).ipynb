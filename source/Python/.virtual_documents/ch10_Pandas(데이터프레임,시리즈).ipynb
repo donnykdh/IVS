





import numpy as np
np.pi


import pandas as pd
pd.__version__


data = pd.read_json('data/ch10_member1.json', encoding="CP949")
print(type(data))
data


data = pd.read_json('data/ch10_member2.json')
data


member1 = pd.read_csv('data/ch09_member1.csv', header=None, names=['name', 'age', 'email', 'address'], encoding="utf-8")
member1





d = {'name':['홍길동', '신길동'], 'age':[20,30]}
df = pd.DataFrame(data=d)
df





d = [{'name':'홍길동', 'age':20}, {'name':'신길동', 'age':30}]
df = pd.DataFrame(data=d)
df





df = pd.read_csv('data/전국 평균 평당 분양가격(2013년 9월부터 2015년 8월까지).csv', encoding="CP949")
df.shape # 행, 열


df.head() # 상위 5줄


pd.options.display.max_columns # 최대 데이터프레임의 표현될 수 있는 열 수


pd.options.display.max_columns = 22
df.sample()





import statsmodels.api as sm
iris = sm.datasets.get_rdataset("iris", package="datasets").data
iris.tail() # 끝 5항





member_df = pd.read_csv('data/ch09_member1.csv', header=None)
member_df


# 열이름 지정하기
member_df.columns = ['name', 'age', 'email', 'address']
member_df


member_df = pd.concat([member_df, member_df])
member_df


# 행이름 지정하기
member_df.index


member_df.index = range(len(member_df))
member_df


# name을 행이름
member_df.set_index("name")
member_df


#member_df.reset_index()
member_df.reset_index(inplace=True) # reset을 member_df에 적용


member_df


name = member_df['name'] # 시리즈
print(type(name))
name


member = member_df.loc[0] # 0번 인덱스 행 => 시리즈
print(type(member))
member


member_df.info()


member_df['age'] = member_df['age'].astype('float64') # 데이터 프레임의 열의 타입을 변경


member_df.info()





member = pd.read_csv('data/ch09_member2.csv')
member





member['name'].to_frame() #시리즈를 데이터 프레임으로





member.loc[0] # 시리즈


# 여러행
member.loc[0:5] # 0행부터 5행까지


# 여러열 # name열부터 email열까지 (age열 포함)
member.loc[:, 'name':'email'] 


# 여러열(name열과 email열)
member.loc[:, ['name', 'email']]


# 1행부터 4행까지 name과 email
member.loc[1:4, ['name', 'email']]


# 1행부터 4행까지 name, email, address 출력
member.loc[ [1, 2],['name', 'email', 'address'] ]


# 1행부터 4행까지 name열부터 email열까지 출력
member.loc[ 1:4, 'name':'email'] # loc사용시 index이름과 column이름을 사용





member.iloc[0:4] # 슬라이싱 from:to:step -> from부터 to앞까지 step씩


member.iloc[0, 0:3] # 0열부터 3열 앞까지


# 맨 오른쪽 열을 제외하고 출력
member.iloc[:, :-1]


# 0, 2, 4, 6 ... 짝수번째 행의 모든 열출력
member.iloc[::2, 0:2]


# member의 행순서를 역순 출력(맨 마지막 열을 제외하고)
member.iloc[::-1, :-1]





# 30살 이상의 데이터 출력
member.loc[member['age']>30] # 인덱스 대신 조건


address = "서울시 강동구"
address.find('강동구')


# 시리즈에 문자함수
# https://pandas.pydata.org/pandas-docs/stable/reference/series.html#string-handling
member['address'].str.find('강서구') == -1


# address가 '강서구'인 데이터의 name, age, address를 출력
member.loc[member['address'].str.find('강서구')!=-1, ['name', 'age', 'address']]


# 결측지 확인
member.isna().sum()


# iris
import seaborn as sns
iris_df = sns.load_dataset('iris')
# 0 ~ 49 setosa / 50 ~ 99 sersicolor / 100 ~ 149 virginica
iris_df.loc[100:149].head()


# species가 versicolor인 데이터 상위 5개의 모든열
iris_df[iris_df['species'] == 'versicolor'].head()


# species가 versicolor인 데이터의 맨마지막 열을 제외한 데이터
iris_df.iloc[:, :-1][iris_df['species'] == 'versicolor']


# sepal.length가 6.2보다 크고, species가 versicolor인 데이터들 출력
iris_df[(iris_df.species == 'versicolor') & (iris_df.sepal_length > 6.2)]


# sepal.length가 6.2보다 크고, species가 versicolor인 데이터의 sepal_length와 species, sepal_width를 출력
iris_df.loc[(iris_df.species == 'versicolor') & (iris_df.sepal_length > 6.2), ['sepal_length', 'sepal_width', 'species']]





member


import numpy as np
member['major'] = ['컴공', '전기', '전자', '기계', 'AI', np.nan] 
member


hobby = pd.DataFrame({'hobby':['놀기', '자기', '읽기', '먹기', '공부', '명상']})
hobby


member = pd.concat([member, hobby], axis=1)
member


member.drop(['hobby', 'major'], axis=1, inplace=True)
member


# 행삭제





member.sort_index(ascending=False, inplace=True, axis=0) # 인덱스로 정렬
member


# 특정열의 값 기준 정렬
member.sort_values(by=['name', 'age'], inplace=True)
member





iris_df.iloc[:,:-1].min(axis=1) # 행마다 모든 열의 최솟값


iris_df.max()


iris_df.iloc[:, :-1].mean()


iris_df.describe() # 수치형 데이터의 갯수, 평균, 표준편차, 최소 최대, 사분위수


iris_df['species'].describe() # 범주형 데이터


iris_df.describe(include='all') # 수치형과 범주형 데이터 모두 describe


iris_df[iris_df['species'].isna()] # species가 결측치인 행을 출력





iris_df.groupby(['species']).mean()


iris_group = iris_df.groupby(['species'])
iris_group.mean()





import seaborn as sns
iris = sns.load_dataset("iris")
# iris.sample(1)


# iris 데이터에서 처음 다섯개 행만 출력하세요
iris.head()


r = iris.iloc[:,:-1].corr()
r


import seaborn as sns
sns.heatmap(r, annot=True, cmap="Greens")
# seaborn 라이브러리 업그레이드 : 아나콘다 프롬프트에서 pip install seaborn --upgrade
# seaborn 라이브러리 업그레이드 확인 : pip show seaborn


import seaborn as sns
import matplotlib.pyplot as plt
plt.figure(figsize=(12, 6)) # 그래프 크기
sns.heatmap(r, annot=True, cmap="Greens")
# seaborn 라이브러리 업그레이드 : 아나콘다 프롬프트에서 pip install seaborn --upgrade
# seaborn 라이브러리 업그레이드 확인 : pip show seaborn



