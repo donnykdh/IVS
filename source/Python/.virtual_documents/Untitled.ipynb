





fruits = ['banana', 'apple', 'orange', 'grape', 0]
type(fruits)


print(fruits)


print(fruits[0])


fruits[0] = 'mango'
print(fruits)


for fruit in fruits:
    print(fruit)


range(5)


list(range(len(fruits))) # len(fruits) => list fruits 요소의 갯수


for i in range(len(fruits)):
    print("{}번째 과일은 {}".format(i, fruits[i]))


for idx, value in enumerate(fruits):
    print("{}번째 과일은 {}".format(idx, value))





numbers = [1, 2, 3, 4, 5]
print("요소의 수 : ", len(numbers))
print("최소값 : ", min(numbers))
print("최대값 : ", max(numbers))





# + 두 리스트를 연결
# 리스트 * n : 리스트를 n만큼 반복
# append() : 요소 뒤에 추가
# extend() : 리스트의 요소별로 뒤에 추가


numbers = [1, 2, 3]
numbers = numbers + numbers
numbers


numbers = [1, 2, 3]
print(numbers * 3)


numbers.append(4)
numbers


numbers = [1, 2, 3, 4]
num = [5, 6]
#numbers를 [1, 2, 3, 4, 5, 6] vs [1, 2, 3, 4, [5, 6]]
numbers.append(num)
numbers


numbers = [1, 2, 3, 4]
num = [5, 6]
#numbers를 [1, 2, 3, 4, 5, 6] vs [1, 2, 3, 4, [5, 6]]
numbers.extend(num)
numbers


numbers = [1, 2, 3, 4]
numbers.append("hello")
numbers


numbers = [1, 2, 3, 4]
numbers.extend("hello")
numbers





numbers = [1, 2, 3, [1, 2, 3], 1, 2, 3]
print("2가 몇개인지 : {}".format(numbers.count(2)))
print("4가 몇개인지 : {}".format(numbers.count(4)))


2 in numbers # numbers 안에 2가 있는지 여부


numbers.index(2, 3) # 3번째 인덱스부터 2가 처음 나오는 인덱스를 반환





numbers = [1, 3, 5, 9, 10, 12, 13, 18, 19, 20]
numbers[::-1]


numbers[::2]


# 값이 짝수인 데이터만 추출
result = []
for num in numbers: # [1, 3, 5, 9, 10, 12, 13, 18, 19, 20]
    if num % 2 == 0:
        result.append(num)
result


# 리스크 컴프리헨션
result = [num for num in numbers if num % 2 == 0]
result


# numbers 리스트의 제곱값을 리스트로 생성하여라 (컴프리헨션 이용)
numbers = [1, 3, 5]
result = [num**2 for num in numbers]
result


# 과일의 글자가 5글자 이상인 과일 추출하세요
fruits = ["orange", "apple", "mango", "kiwi"]
[fruit for fruit in fruits if len(fruit) >= 5]


# 과일의 글자가 5글자 이상인 과일의 글자수를 출력하세요
[len(fruit) for fruit in fruits if len(fruit) >= 5]





numbers = [1, 2, 3, 4]
print(numbers.pop())
print(numbers)


numbers.remove(1)
print(numbers)


numbers.remove(9) # 없는 데이터 remove시 에러


del numbers[0]
print(numbers)


del numbers


numbers





numbers = [9, 10, 1, 5, 5]
numbers.sort()
numbers


numbers = [9, 10, 1, 5, 5]
numbers.sort(reverse=True) # 내림차순 정렬
numbers





numbers = [6, 1, 2]
new_numbers = numbers # 얕은 복사
numbers.sort()
print('정렬 전 데이터 : ', new_numbers)
print('정렬 후 데이터 : ', numbers)


numbers = [6, 1, 2]
new_numbers = numbers.copy() # 깊은 복사
numbers.sort()
print('정렬 전 데이터 : ', new_numbers)
print('정렬 후 데이터 : ', numbers)





city = ('서울', '부산', '광주', '대전')
print(type(city))
print(city)


'~'.join(city)


list_ = ['서울']
type(list_)


t = ('서울', )
type(t)





dic = {'name' : '홍길동', 'address' : '서울시 금천구'}
print(type(dic))
print(dic)


dic['name'], dic['address']


dic['score']


dic.get('name'), dic.get('address'), dic.get('score')


# 수정
dic['score'] = 100
dic['sport'] = 'sleep'
print(dic)


dic.pop('sport')


dic


# 리스트(튜플, 셋) 방식으로 for문 사용하면 key만 출력
for key in dic:
    print(key)


for idx, value in enumerate(dic):
    print(idx, value)


dic.keys()


dic.values()


dic.items()


for data in dic.values():
    print(data)


for key, value in dic.items():
    print("{} : {}".format(key, value))


l = ['a', 'b', 'c']
'c' in l


dic = {'name' : '홍길동', 'score' : 100}
'name' in dic


'홍길동' in dic


len(dic) # 데이터 갯수





fruits = {'apple', 'orange', 'banana', 'banana', 0, 0}
print(fruits)
print(type(fruits))


fruits.add('kiwi')
print(fruits)


fruits.add('banana')
print(fruits)


for i, value in enumerate(fruits):
    print("{} : {}".format








# 1. 숫자 100을 맨 뒤에 추가하세요
numbers = [1, 2, 3, 4, 5, 6, 7, 8, 9, 10]
numbers.append(100)
numbers


# 2. 다음 리스트를 numbers 리스트 맨 뒤에 추가하세요
# data = [200, 300, 400, 500]
data = [200, 300, 400, 500]
numbers = numbers + data
print(numbers)


# 3. 처음 다섯 개 숫자만 출력하세요
print(numbers[:5])


# 4. 리스트에서 짝수번째 데이터만 출력하세요
result = [num for num in numbers if num % 2 == 0]
result



