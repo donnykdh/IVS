


class Person:
    "Person 클래스는 어쩌구 저쩌구 여러 줄 설명하는 docstring"
    pass
p1 = Person()


class Person:
    'Person은 이름과 성별 멤버변수가 있는 객체타입입니다'
    def __init__(self, name='홍길동', gender='남자'): # 생성자함수
        self.name = name
        self.gender = gender
        print("{}, {} Person 객체가 생성되었습니다".format(self.name, self.gender))
    def print_info(self):
        print("{}님은 {}입니다".format(self.name, self.gender), end='\t')
    def printCnt(self, cnt):
        for i in range(cnt):
            print(self.name, end='\t')
    def __str__(self):
        return "{}\t 성별은 {}".format(self.name, self.gender)


p1 = Person("성춘향", "여자")


print(p1.name, p1.gender)


p1.print_info()


p1.printCnt(3)


print(p1)





class Student(Person):
    'name, gender, major 멤버변수를 갖는 Student타입'
    def __init__(self, name, gender, major):
        # 부모 클래스의 생성자 함수로 name, gender 초기화
        super().__init__(name, gender)
        self.major = major
    def print_info(self):
        super().print_info()
        print("그리고 전공은 {}입니다".format(self.major))
    def __str__(self):
        return super().__str__() + "그리고 전공은 {}".format(self.major)


s1 = Student('김철수', '남자', '컴공')


s1.name, s1.gender, s1.major


s1.print_info()


s1.printCnt(3)


print(s1)



