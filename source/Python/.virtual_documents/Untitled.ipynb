





import sys
sys.path.append('C:\\C_Python\\source\\pylib')
sys.path





# 1. import A : A모듈을 가져옴
import fibonacci


fibonacci.fibonacci(100)


del fibonacci


# 2. import A as B : A모듈을 B이름으로 가져옴
import fibonacci as fibo


fibo.fibonacci(50)


del fibo


# 3. from A import B : A모듈안의 B함수를 가져옴
from fibonacci import fibonacci


fibonacci(50)


del fibonacci


# 4. 4. from A import B as C : A모듈안의 B함수를 C이름으로 가져옴
from fibonacci import fibonacci as fibo


fibo(20)


del fibo


import fibonacci


dir(fibonacci)



