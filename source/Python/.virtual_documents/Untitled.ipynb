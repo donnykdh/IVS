


# 있는 파일의 경우 예외 발생 안함
filename = input('파일명?')
f = open('data/' + filename, 'r', encoding="utf-8") # encoding의 default값은 cp949
f.readlines()


f.close()


# 없는 파일의 경우 예외 발생
filename = input('파일명?')
f = open('data/' + filename, 'r', encoding="utf-8") # encoding의 default값은 cp949
f.readlines()


# ValuError예외 객체 : 숫자가 아닌 문자를 입력했을 경우
num = int(input('나눌 숫자를 입력하세요 >> '))
100/num


# 인덱스를 벗어났을 경우
a = [1, 2, 3]
a[3]





# 100을 입력받은 정수값으로 나눠 출력한다
# ValueError
# ZeroDivionError
x = int(input('100을 나눌 정수를 입력하세요 >> '))
print("입력한 수는 {}".format(x))
print("100을 입력한 정구로 나누면 {:.2f}입니다".format(100 / x))


# 100을 입력받은 정수값으로 나눠 출력한다
# ValueError
# ZeroDivionError
try:
    x = int(input('100을 나눌 정수를 입력하세요 >> '))
    print("입력한 수는 {}".format(x))
    print("100을 입력한 정수로 나누면 {:.2f}입니다".format(100 / x))
except:
    print('유효한 정수가 아닙니다') 


# 100을 입력받은 정수값으로 나눠 출력한다
# ValueError
# ZeroDivionError
try:
    x = int(input('100을 나눌 정수를 입력하세요 >> '))
    print("입력한 수는 {}".format(x))
    print("100을 입력한 정수로 나누면 {:.2f}입니다".format(100 / x))
except ValueError:
    print('유효한 숫자를 입력하세요')
except ZeroDivisionError:
    print('0으로 나눌 수 없습니다')
except Exception: # except절이 많을 경우 상위 클래스를 아래에 명시
    print('알 수 없는 혹시 모를 예외입니다')


# 100을 입력받은 정수값으로 나눠 출력한다. 유효한 숫자를 입력할 때까지 수를 입력받음
# ValueError
# ZeroDivionError
while True:
    try:
        x = int(input('100을 나눌 정수를 입력하세요 >> '))
        print("입력한 수는 {}".format(x))
        print("100을 입력한 정수로 나누면 {:.2f}입니다".format(100 / x))
        break
    except ValueError:
        print('유효한 숫자를 입력하세요')
    except ZeroDivisionError:
        print('0으로 나눌 수 없습니다')
    except Exception: # except절이 많을 경우 상위 클래스를 아래에 명시
        print('알 수 없는 혹시 모를 예외입니다')


# 100을 입력받은 정수값으로 나눠 출력한다. 유효한 숫자를 입력할 때까지 수를 입력받음
# ValueError
# ZeroDivionError
while True:
    try:
        x = int(input('100을 나눌 정수를 입력하세요 >> '))
        print("입력한 수는 {}".format(x))
        print("100을 입력한 정수로 나누면 {:.2f}입니다".format(100 / x))
        break
    except (ValueError, ZeroDivisionError) as e:
        print(e) # print(e.__str__())
        print('예외 객체의 타입:', type(e))
        print('예외 메세지 e.args :', e.args)


try:
    f = open('data/ch08.txt', 'r', encoding="utf-8")
    data = f.read() # 파일을 끝까지 텍스트 형태로 읽어서 반환
    print(data)
except FileNotFoundError as e:
    print(e)
finally:
    f.close() 


try:
    f = open('data/ch08.txt', 'r', encoding="utf-8")
    data = f.read() # 파일을 끝까지 텍스트 형태로 읽어서 반환
    print(data)
except FileNotFoundError as e:
    print(e)
else:
    print(data)
finally:
    f.close() 





raise Exception("예외가 발생했습니다")


# 사용자 정의 예외 타입 : 기존 파이썬에서 제공되는 Exception 상속
class LengthZeroError(Exception):
    "길이가 0일때 발생하는 예외"
    def __init__(self):
        super().__init__("매개변수 길이가 0이면 예외")


raise LengthZeroError()


def insert(*data): # 튜플 매개변수
    if len(data) == 0:
        raise LengthZeroError()
    for item in data:
        print(item, end=" ")
    print("등을 입력하셨습니다")


insert(2, 3)


l = (1, 2, 3)
insert(*l)





# 파일 입출력시 자원 반납 필수 (close)
try:
    f = open('data/ch08.txt', 'r', encoding="utf-8")
    lines = f.readlines() # 한줄한줄 모든 줄을 list형태로 반환
    print(lines)
except Exception:
    print('없는 파일이거나 encoding 확인 요망', e)
finally:
    f.close()


# with절 이용시 자동 close() 실행
with open('data/ch08.txt', 'r', encoding="UTF-8") as f:
    lines = f.readlines()
print(lines)






