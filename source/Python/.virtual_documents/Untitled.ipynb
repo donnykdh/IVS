


# w : 있는 파일은 기존의 파일에 덮어쓰고 없는 파일은 생성
# a : 있는 파일은 추가 / 없는 파일은 생성
# r : 읽기 전용
f = open('data/ch09.txt', 'w') # 기본값 CP949
print(f.writable())


f.write('Hello\nWorld\nHello\nPython\n반갑습니다\n') # 한글은 CP949


f.close()


with open('data/ch09.txt', 'r') as f:
    data = f.readlines()
    print(data)


with open('data/ch09.txt', 'w') as f:
    print('Python is easy\n', file=f)


# UTF-8로 인코딩 된 CSV파일을 read
with open('data/ch09_member1.csv', 'r', encoding="utf-8") as f:
    data = f.readlines()
    for row in data:
        print(row, end="")


import pandas as pd
member1 = pd.read_csv('data/ch09_member1.csv', header=None)
member1.columns = ['name', 'age', 'email', 'address']
member1


type(member1)


member2 = pd.read_csv('data/ch09_member2.csv', nrows=3)
member2


member = pd.concat([member1, member2])
member


member.to_csv('data/member.csv', index=False)



