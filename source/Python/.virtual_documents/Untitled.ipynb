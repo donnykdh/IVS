





# 점수를 입력받아 학점출력
name = "Hong"
score = int(input(name + "! Enter your score >> "))
if 90 <= score <= 100:
    grade = 'A'
elif 80 <= score < 90:
    grade = 'B'
elif 70 <= score < 80:
    grade = 'C'
elif 60 <= score < 70:
    grade = 'D'
elif 0 <= score < 60:
    grade = 'F'
else:
    grade = '유효하지 않은 점수'
print("입력하신 점수는 {}점이고, {}등급입니다".format(score, grade))





list(range(1, 10, 2)) # range도 나열가능한 자료


for i in range(1, 10, 2):
    print(i, end="\t")
else:
    print("\nDone")
print("END")


# 1 ~ 100까지 짝수의 합을 계산하고 출력하시오
sum = 0;
for i in range(2, 101):
    if i % 2 == 0:
        sum += i
print("1부터 100까지의 짟의 합은 {}입니다".format(sum))





# 사용자에게 두 수를 입력 받아 첫번째 수(작은수)부터 두번째 입력한 수(큰수)까지 홀수의 합 누적해서 출력
n1 = int(input('첫번째(작은수) 정수를 입력하세요 >> '))
n2 = int(input('두번째(큰수) 전수를 입력하세요 >> '))
sum = 0 # 누적변수
i = n1;
while i <= n2:
    if (i % 2 == 1) | (i % 2 == -1): # if i % 2 != 0
        sum += i
    i += 1
print("{}부터 {}까지 홀수들의 누적합은 {}".format(n1, n2, sum))





num = 0
while num <= 10:
    num += 1
    if num == 3:
        # break
        continue
    print("num = {}".format(num), end='\t')





for i in range(1, 10):
    for j in range(2, 10):
        print("{} x {} = {:>2}\t".format(j, i, i * j), end='')
    print()





import random
#random.seed(7) # seed 값을 넣어주면 랜덤수가 같다 
random.randint(1, 100)


import random
num = random.randint(1, 100)
print("정답은 : {}".format(num))
min = 1
max = 100
chance = 5
while 1:
    answer = int(input(str(min) + '~' + str(max) + "숫자를 입력하세요 (남은 기회는 " + str(chance) + "번 남았습니다) >> "))
    if (answer < min) | (answer > max):
        print ("수의 범위를 벗어났습니다")
        chance -= 1
    elif answer > num:
        print("Down")
        max = answer - 1
        chance -= 1
    elif answer < num:
        print("Up")
        min = answer + 1
        chance -= 1
    else:
        print("정답입니다")
        break
    if chance == 0:
        print("5번의 기회가 끝났습니다")
        break





import random
lotto = set()
while len(lotto) < 6:
    num = random.randint(1, 45)
    lotto.add(num)
print(lotto)
lotto = list(lotto)
lotto.sort()
print(lotto)
