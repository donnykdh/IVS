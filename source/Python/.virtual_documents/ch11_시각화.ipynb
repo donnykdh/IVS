





# 시작전설정
import matplotlib.pyplot as plt
%matplotlib inline
 # 그래프해상도높임
%config InlineBackend.figure_format='retina'
 #한글설정
plt.rc('font', family='Malgun Gothic')
 #plt.rc('font', family='AppleGothic') #mac
plt.rc('axes', unicode_minus=False)
 # 경고메세지안보이게
import warnings
warnings.filterwarnings(action='ignore')


import seaborn as sns
iris = sns.load_dataset("iris")
iris.shape


iris.plot(kind="line", figsize=(12,4))
plt.legend(bbox_to_anchor=(1.05, 1), loc=2, borderaxespad=0.)
plt.show()


iris.plot(kind="box", figsize=(12,4))
#plt.legend(bbox_to_anchor=(1.05, 1), loc=2, borderaxespad=0.) #
plt.show()





plt.figure(figsize=(10, 4))
sns.scatterplot(data=iris, x="petal_length", y="petal_width")
plt.show()



