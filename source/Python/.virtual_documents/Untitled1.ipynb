





def my_hello(x, msg):
    for i in range(x): #매게변수 받은 만큼 반복해라
        print(i, msg)


my_hello(4, '쉬는 시간입니다')


type(my_hello)


my_hello = 10
type(my_hello)


def my_hello(x):
    for i in range(x): 
        print(i, '함수는 복습 필수')


my_hello(4)


def my_add(num1, num2, num3=0): # num3은 기본값을 갖는 인수
                                # 기본값을 갖는 인수는 순서인수 뒤에
    return num1 + num2 + num3
print(my_add(1, 2, 3))
print(my_add(1, 2))





def fibonacci(n):
    """
    인수로 들어온 n값 미만의 피보나치 수열을 출력하는 함수
    ex. 인수로 10 : 0, 1, 1, 2, 3, 5, 8
    ex. 인수로  5 : 0, 1, 1, 2, 3
    """
    a, b = 0, 1 # (a, b) = (0, 1)
    while a < n:
        print(a, end='. ')
        a, b = b, a+b
    print() # 개행


fibonacci(100)


type(fibonacci)


fibonacci


__name__


if __name__ == '__main__': # main 영역에서 수행될때
    fibonacci(100)


import fibonacci as fibo # fibonacci.py가 해석되서 메모리 로드


fibo.fibonacci(100)





global_var = 100 # 전역변수
def func1():
    print(global_var)
func1()
print(global_var)


def func2():
    local_var = 100 # 지역변수 : 함수내에서만 사용 가능한 변수
    print(local_var)
func2()


g_var = 100 # 전역변수
def func3():
    g_var = 200 # 지역변수 선언
    print(g_var)
func3()


g_var





g_var = 100 # 전역변수
def func3():
    print(g_var) # 선언문을 먼저 컴파일한다. 지역변수로 선언했는데 할당되기 전에 print할 수 없다.
    g_var = 200 # 지역변수 선언
    print(g_var)
func3()





g_var = 100 
def func3():
    global g_var # 함수내에서의 g_var 전역변수를 쓸거야
    print(g_var) 
    g_var = 200 # 전역변수에 값을 할당
    print(g_var)
func3()


g_var





foo = 'ab' # 스말라 변수
id(foo)


def func1(f):
    print("Before : {}의 주소는 {}".format(f, id(f)))
    f *= 3 # 매개변수는 지역변수
    print("After : {}의 주소는 {}".format(f, id(f)))
func1(foo)
print("함수 호출 후 foo : {}의 주소는 {}".format(foo, id(foo)))





L = [1, 2, 3]
print("L의 내용은 {}, 주소는 {}".format(L, id(L)))


def func2(f):
    print("함수 내 befer : L의 내용은 {}, 주소는 {}".format(L, id(L)))
    f.append(4)
    print("함수 내 befer : L의 내용은 {}, 주소는 {}".format(L, id(L)))
func2(L)
print("L의 내용은 {}, 주소는 {}".format(L, id(L)))





# 여러값을 return
def swap(a, b):
    return b, a


x, y = 5, 10
print("함수 실행 전 x = {}, y = {}".format(x, y))
x, y = swap(x, y)
print("함수 실행 후 x = {}, y = {}".format(x, y))





def make_url(ip, port=80):
    # 순서인수, 기본값을 갖는 인수 순으로
    return "http://{}:{}".format(ip, port)


print(make_url("localhost"))
print(make_url("localhost", 8090))
print(make_url(port=8090, ip="localhost"))





# args앞에 * : args가 튜플로 전달
def add(*args):
    print("전달받은 args : ", args)
    print(type(args))
    sum = 0
    for num in args:
        sum += num;
    return sum


add(1, 2, 3)


def concat(*args, sep):
    return sep.join(args)


concat("C", "Python", "Oracle", "~")


# 해결책1
concat("C", "Python", "Oracle", sep="~")


# 해결책2
def concat(sep, *args): # 순서인수 > 튜플인수
    return sep.join(args)


concat("~", "C", "Python", "Oracle")


# 해결책3
def concat(*args, sep='/'): # 순서인수 > 튜플인수 > 키워드인수
    return sep.join(args)


concat("C", "Python", "Oracle", "~")


concat("C", "Python", "Oracle", sep="~")





def func(**args): # args가 딕셔너리로 전달
    print(args)
    print(type(args))
    for key, value in args.items():
        print("{} : {}".format(key, value))


func(name='홍길동', age=20)


func(gameName="서바이벌", year=2024, price=33000)





def func(a, b, c, *d, e=10, **f):
    print('a =', a)
    print('b =', b)
    print('c =', c)
    print('d =', d)
    print('e =', e)
    print('f =', f)


func(10, 20, 30, 1, 2, 3, 4, 5, e=100, height=180, name="홍길동", address="서울시")





def add(*args):
    # print("전달받은 args : ", args)
    # print(type(args))
    sum = 0
    for num in args:
        sum += num;
    return sum


data = (1, 2, 3) # 이미 튜플로 되어 있으면 그대로 넣으면 안된다
add(*data)





def func(**args): # args가 딕셔너리로 전달
    # print(args)
    # print(type(args))
    for key, value in args.items():
        print("{} : {}".format(key, value))


dic = {"name":"홍길동", "age":30}
func(**dic)





# 일반함수
def add(a, b):
    return a + b
add(3, 5)


type(add)


# 람다식 # 함수 매개변수로 람다 함수를 넣기 위해 사용
add = lambda a, b : a + b


add(5, 5)


type(add)


(lambda a, b : a + b)(5, 6) 





f = lambda x : x**2
f(3)


def map_template(func, L=[]):
    result = []
    for data in L:
        result.append(func(data))
    return result


list_data = [1, 2, 3, 4, 5]
# map_template(f, list_data)
map_template(lambda x : x**2, list_data)


list(map(lambda x : x*2, list_data))


# 리스트 컴프리헨션이용
[x*2 for x in list_data]


list_data = [1, 2, 3, 4, 5]


def filter_template(func, L=[]):
    result = []
    for data in L:
        if func(data):
            result.append(data)
    return result


filter_template(lambda x : x % 2 == 0, list_data)


list(filter(lambda x : x % 2 == 0, list_data))


# 리스트컴프리헨션 이용
[x for x in list_data if x % 2 == 0]








# 1. 함수의 인자로 리스트를 받은 후, 리스트 내에 있는 모든 정수값에 대하여 최대값과 최소값을 return하는 함수 get_max_min(data_list)를 구현하고 호출하시오


# 2. 1 ~ 45사이의 로또번호 6개를 반환하는 make_lotto()함수를 정의하고 호출하시오  
import random
def make_lotto():  
    lotto = set()
    while len(lotto) < 6:
        num = random.randint(1, 45)
        lotto.add(num)
    lotto = list(lotto)
    lotto.sort()
    print(lotto)


make_lotto()


# 3. 369게임은 숫자에 3, 6, 9가 들어가면 박수를 치고, 나머지는 숫자는 그대로 이야기하는 게임이다. 369게임을 시뮬레이션하는 함수를 정의하라


def game_369(L):
    result = []
    for data in L: # 튜플과 리스트 모두 가능
        data_str = str(data)
        datastr_list = list(data_str)
        clap = ''
        for s in datastr_list:
            if (int(s) != 0) & (int(s) % 3 == 0):
                clap += '짝'
        if clap:
            result.append(clap)
        else:
            result.append(data)
    return result


game_369([1, 2, 3, 4, 5, 6, 7, 8, 9, 13, 20, 33])



